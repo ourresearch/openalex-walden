{
 "cells": [
  {
   "cell_type": "code",
   "execution_count": 0,
   "metadata": {
    "application/vnd.databricks.v1+cell": {
     "cellMetadata": {
      "byteLimit": 2048000,
      "rowLimit": 10000
     },
     "inputWidgets": {},
     "nuid": "90b5a0cb-d716-47b6-b870-63b0b96939d0",
     "showTitle": false,
     "tableResultSettingsMap": {},
     "title": ""
    }
   },
   "outputs": [],
   "source": [
    "%pip install elasticsearch==8.19.0\n",
    "%restart_python"
   ]
  },
  {
   "cell_type": "markdown",
   "metadata": {
    "application/vnd.databricks.v1+cell": {
     "cellMetadata": {},
     "inputWidgets": {},
     "nuid": "cb2099dd-f16c-42e4-8e01-5aca7efc34aa",
     "showTitle": false,
     "tableResultSettingsMap": {},
     "title": ""
    }
   },
   "source": [
    "### Prepare Input"
   ]
  },
  {
   "cell_type": "code",
   "execution_count": 0,
   "metadata": {
    "application/vnd.databricks.v1+cell": {
     "cellMetadata": {
      "byteLimit": 2048000,
      "implicitDf": true,
      "rowLimit": 10000
     },
     "inputWidgets": {},
     "nuid": "0df63140-d635-474f-abd6-63fa9cdeab0c",
     "showTitle": false,
     "tableResultSettingsMap": {},
     "title": ""
    }
   },
   "outputs": [],
   "source": [
    "%sql\n",
    "SELECT * FROM openalex.works.work_awards"
   ]
  },
  {
   "cell_type": "code",
   "execution_count": 0,
   "metadata": {
    "application/vnd.databricks.v1+cell": {
     "cellMetadata": {
      "byteLimit": 2048000,
      "rowLimit": 10000
     },
     "inputWidgets": {},
     "nuid": "53192c77-0348-4cfe-af7f-7b4be0e5dbf9",
     "showTitle": false,
     "tableResultSettingsMap": {},
     "title": ""
    }
   },
   "outputs": [],
   "source": [
    "df = spark.sql(\"\"\"\n",
    "WITH latest_work_awards AS (\n",
    "  -- Step 1: De-duplicate records.\n",
    "  SELECT *\n",
    "  FROM openalex.works.work_awards\n",
    "  QUALIFY ROW_NUMBER() OVER (PARTITION BY id, work_id ORDER BY indexed_timestamp DESC) = 1\n",
    "),\n",
    "aggregated_awards AS (\n",
    "  -- Step 2: Group by 'a.id' and alias the struct of first values as 'src'.\n",
    "  SELECT\n",
    "    a.id,\n",
    "    FIRST(\n",
    "      STRUCT(\n",
    "        a.award_id, a.title, a.native_id as doi, a.amount,\n",
    "        a.start_date, a.end_date, a.planned_end_date, a.currency,\n",
    "        f.funder_id, COALESCE(f.display_name, a.funder_name) as funder_name,\n",
    "        a.funding_type, a.funder_scheme, a.funder_ids, a.description,\n",
    "        a.lead_investigator, a.co_lead_investigator, a.investigators,\n",
    "        a.primary_url as landing_page, a.doi_url, a.provenance, a.publisher,\n",
    "        a.member as member_id, a.accepted_date, a.approved_date, a.issued_date,\n",
    "        a.deposited_timestamp, a.created_timestamp, a.indexed_timestamp\n",
    "      )\n",
    "    ) AS src,\n",
    "    \n",
    "    transform(collect_set(work_id), w -> CONCAT('https://openalex.org/W', w)) as works_funded_outputs,\n",
    "    size(collect_set(work_id)) as works_funded_count\n",
    "\n",
    "  FROM latest_work_awards a\n",
    "  JOIN openalex.mid.funder f \n",
    "    ON a.funder_ids.doi = f.doi OR a.funder_ids.ror_id = f.ror_id\n",
    "  GROUP BY a.id\n",
    ")\n",
    "-- Step 3: Format the final output for Elasticsearch.\n",
    "SELECT\n",
    "  CONCAT('https://openalex.org/G', id) as id,\n",
    "  STRUCT(\n",
    "    CONCAT('https://openalex.org/G', id) as id,\n",
    "    src.award_id as funder_award_id,\n",
    "    CONCAT(\"https://api.openalex.org?filter=awards.id:G\", id) as works_funded_api_url,\n",
    "    works_funded_outputs,\n",
    "    works_funded_count,    \n",
    "    src.title,\n",
    "    src.title as display_name,\n",
    "    src.description,\n",
    "    src.amount,\n",
    "    src.currency,\n",
    "    CONCAT('https://doi.org/', src.doi) as doi,\n",
    "\n",
    "    STRUCT(\n",
    "      CONCAT('https://openalex.org/F', src.funder_id) as id,\n",
    "      src.funder_name as display_name,\n",
    "      src.funder_ids.ror_id as ror,\n",
    "      IF(src.funder_ids.doi IS NOT NULL, CONCAT('https://doi.org/', src.funder_ids.doi), NULL) as doi\n",
    "    ) as funder,\n",
    "\n",
    "    src.funding_type,\n",
    "    src.funder_scheme as funder_award_scheme,\n",
    "    src.start_date,\n",
    "    src.end_date,\n",
    "\n",
    "    -- src.lead_investigator,\n",
    "    -- src.co_lead_investigator,\n",
    "    -- revisit, normalize and combine all investigators into 1 with flatten(array(...))\n",
    "    src.investigators as investigatorships,\n",
    "    src.landing_page as landing_page_url,\n",
    "    --src.doi_url,\n",
    "    src.provenance,\n",
    "    -- src.publisher,\n",
    "    -- src.member_id,\n",
    "    -- src.planned_end_date,\n",
    "    -- src.accepted_date,\n",
    "    -- src.approved_date,\n",
    "    -- src.issued_date,\n",
    "    -- src.deposited_timestamp,\n",
    "    src.created_timestamp as updated_date, --for now\n",
    "    date(src.created_timestamp) as created_date\n",
    "    -- src.indexed_timestamp\n",
    "  ) AS _source\n",
    "FROM aggregated_awards;\"\"\")\n",
    "\n",
    "rows = df.collect()\n",
    "\n",
    "print(f\"Awards count: {len(rows)}\")"
   ]
  },
  {
   "cell_type": "code",
   "execution_count": 0,
   "metadata": {
    "application/vnd.databricks.v1+cell": {
     "cellMetadata": {
      "byteLimit": 2048000,
      "rowLimit": 10000
     },
     "inputWidgets": {},
     "nuid": "8ca5877e-6a05-4917-8e46-36a85d5314d3",
     "showTitle": false,
     "tableResultSettingsMap": {},
     "title": ""
    }
   },
   "outputs": [],
   "source": [
    "from elasticsearch import Elasticsearch, helpers\n",
    "import json\n",
    "\n",
    "ELASTIC_INDEX = \"awards-v1\"\n",
    "ELASTIC_URL = dbutils.secrets.get(scope=\"elastic\", key=\"elastic_url\")\n",
    "\n",
    "client = Elasticsearch(\n",
    "    hosts = [ELASTIC_URL],\n",
    "    request_timeout = 180,\n",
    "    max_retries = 5,\n",
    "    retry_on_timeout = True\n",
    ")\n",
    "\n",
    "def actions_from_spark(rows, op_type = \"index\"):\n",
    "    for row in rows:\n",
    "        yield {\n",
    "            \"_op_type\": op_type,\n",
    "            \"_index\": ELASTIC_INDEX,\n",
    "            \"_id\": row.id,\n",
    "            \"_source\": row._source.asDict(True)\n",
    "        }\n",
    "\n",
    "# Delete old index\n",
    "if client.indices.exists(index=ELASTIC_INDEX):\n",
    "    client.indices.delete(index=ELASTIC_INDEX)\n",
    "\n",
    "ok = fail = 0\n",
    "for success, info in helpers.streaming_bulk(client, actions_from_spark(rows),\n",
    "    chunk_size=2000, request_timeout=60, max_retries=3):\n",
    "    if success:\n",
    "        ok += 1\n",
    "    else:\n",
    "        fail += 1\n",
    "\n",
    "print(f\"Indexed ok={ok}, failed={fail}\")"
   ]
  },
  {
   "cell_type": "code",
   "execution_count": 0,
   "metadata": {
    "application/vnd.databricks.v1+cell": {
     "cellMetadata": {
      "byteLimit": 2048000,
      "rowLimit": 10000
     },
     "inputWidgets": {},
     "nuid": "2c84211f-6831-46a4-8b54-27d71925f3dc",
     "showTitle": false,
     "tableResultSettingsMap": {},
     "title": ""
    }
   },
   "outputs": [],
   "source": [
    "client.indices.refresh(index=ELASTIC_INDEX)"
   ]
  },
  {
   "cell_type": "code",
   "execution_count": 0,
   "metadata": {
    "application/vnd.databricks.v1+cell": {
     "cellMetadata": {
      "byteLimit": 2048000,
      "rowLimit": 10000
     },
     "inputWidgets": {},
     "nuid": "7f977f9c-4d20-4ad7-9abb-e230c311cd5d",
     "showTitle": false,
     "tableResultSettingsMap": {},
     "title": ""
    }
   },
   "outputs": [],
   "source": [
    "client.count(index=ELASTIC_INDEX)"
   ]
  }
 ],
 "metadata": {
  "application/vnd.databricks.v1+notebook": {
   "computePreferences": {
    "hardware": {
     "accelerator": null,
     "gpuPoolId": null,
     "memory": null
    }
   },
   "dashboards": [],
   "environmentMetadata": {
    "base_environment": "",
    "environment_version": "2"
   },
   "inputWidgetPreferences": null,
   "language": "python",
   "notebookMetadata": {
    "mostRecentlyExecutedCommandWithImplicitDF": {
     "commandId": 8645970980166616,
     "dataframes": [
      "_sqldf"
     ]
    },
    "pythonIndentUnit": 4
   },
   "notebookName": "sync_awards",
   "widgets": {}
  },
  "language_info": {
   "name": "python"
  }
 },
 "nbformat": 4,
 "nbformat_minor": 0
}
