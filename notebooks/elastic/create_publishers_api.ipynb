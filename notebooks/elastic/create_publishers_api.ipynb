{
 "cells": [
  {
   "cell_type": "code",
   "execution_count": 0,
   "metadata": {
    "application/vnd.databricks.v1+cell": {
     "cellMetadata": {
      "byteLimit": 2048000,
      "rowLimit": 10000
     },
     "inputWidgets": {},
     "nuid": "e024db80-521c-4b76-9f00-bedd2eae7292",
     "showTitle": false,
     "tableResultSettingsMap": {
      "0": {
       "dataGridStateBlob": "{\"version\":1,\"tableState\":{\"columnPinning\":{\"left\":[\"#row_number#\"],\"right\":[]},\"columnSizing\":{},\"columnVisibility\":{}},\"settings\":{\"columns\":{\"id\":{\"format\":{\"preset\":\"string-preset-url\"}},\"homepage_url\":{\"format\":{\"preset\":\"string-preset-url\"}}}},\"syncTimestamp\":1759175798936}",
       "filterBlob": null,
       "queryPlanFiltersBlob": null,
       "tableResultIndex": 0
      }
     },
     "title": ""
    }
   },
   "outputs": [],
   "source": [
    "SELECT * FROM openalex.funders.funders_api --has works_count\n"
   ]
  },
  {
   "cell_type": "code",
   "execution_count": 0,
   "metadata": {
    "application/vnd.databricks.v1+cell": {
     "cellMetadata": {
      "byteLimit": 2048000,
      "rowLimit": 10000
     },
     "inputWidgets": {},
     "nuid": "b0ba04c9-a36f-4038-a3df-0b7f3baec751",
     "showTitle": false,
     "tableResultSettingsMap": {
      "0": {
       "dataGridStateBlob": "{\"version\":1,\"tableState\":{\"columnPinning\":{\"left\":[\"#row_number#\"],\"right\":[]},\"columnSizing\":{},\"columnVisibility\":{}},\"settings\":{\"columns\":{}},\"syncTimestamp\":1759174114558}",
       "filterBlob": null,
       "queryPlanFiltersBlob": null,
       "tableResultIndex": 0
      }
     },
     "title": ""
    }
   },
   "outputs": [],
   "source": [
    "SELECT array_union(collect_set(id_1), collect_set(id_2)) FROM openalex.mid.entity_link \n",
    "where id_1 = 'P4310320990' or id_2 = 'P4310320990'"
   ]
  },
  {
   "cell_type": "code",
   "execution_count": 0,
   "metadata": {
    "application/vnd.databricks.v1+cell": {
     "cellMetadata": {
      "byteLimit": 2048000,
      "rowLimit": 10000
     },
     "inputWidgets": {},
     "nuid": "0d28d6c2-6201-409e-9e83-8d2a51dce233",
     "showTitle": false,
     "tableResultSettingsMap": {},
     "title": ""
    }
   },
   "outputs": [],
   "source": [
    "%sql\n",
    "CREATE OR REPLACE TABLE openalex.publishers.publishers_api AS\n",
    "WITH works_publisher_ids AS (\n",
    "  SELECT w.id,\n",
    "         w.publication_year,\n",
    "         w.cited_by_count,\n",
    "         l.source.host_organization as publisher_id_url\n",
    "  FROM openalex.works.openalex_works w\n",
    "  LATERAL VIEW explode(w.locations) as l\n",
    "  WHERE w.cited_by_count >= 0\n",
    "    AND l.source.host_organization IS NOT NULL\n",
    "    AND l.source.host_organization LIKE 'https://openalex.org/P%'\n",
    "),\n",
    "unique_work_publisher_pairs AS (\n",
    "  SELECT DISTINCT \n",
    "    id,\n",
    "    CAST(replace(publisher_id_url, 'https://openalex.org/P', '') AS BIGINT) as publisher_id,\n",
    "    publication_year,\n",
    "    cited_by_count\n",
    "  FROM works_publisher_ids\n",
    "),\n",
    "publisher_yearly_counts AS (\n",
    "  SELECT \n",
    "    publisher_id, \n",
    "    publication_year,\n",
    "    COUNT(id) as works_count,\n",
    "    SUM(cited_by_count) as cited_by_count\n",
    "  FROM unique_work_publisher_pairs\n",
    "  WHERE publication_year >= 2014\n",
    "  GROUP BY publisher_id, publication_year\n",
    "),\n",
    "publisher_total_counts AS (\n",
    "  SELECT \n",
    "    publisher_id,\n",
    "    COUNT(id) as total_works_count,\n",
    "    SUM(cited_by_count) as total_cited_by_count\n",
    "  FROM unique_work_publisher_pairs\n",
    "  GROUP BY publisher_id\n",
    "),\n",
    "-- NEW: precompute summary_stats helpers per publisher\n",
    "publisher_stats AS (\n",
    "  SELECT\n",
    "    publisher_id,\n",
    "    CAST(AVG(CASE WHEN publication_year >= YEAR(current_date()) - 2\n",
    "                  THEN cited_by_count END) AS DOUBLE) AS two_year_mean,\n",
    "    CAST(COUNT_IF(cited_by_count >= 10) AS INT)        AS i10_index,\n",
    "    SORT_ARRAY(\n",
    "      TRANSFORM(\n",
    "        FILTER(COLLECT_LIST(cited_by_count), x -> x IS NOT NULL),\n",
    "        x -> CAST(x AS INT)\n",
    "      ),\n",
    "      false\n",
    "    ) AS sorted_citations\n",
    "  FROM unique_work_publisher_pairs\n",
    "  GROUP BY publisher_id\n",
    "),\n",
    "-- Combine yearly and total counts\n",
    "work_counts_by_publisher_id AS (\n",
    "  SELECT \n",
    "    t.publisher_id as id,\n",
    "    t.total_works_count as works_count,\n",
    "    t.total_cited_by_count as cited_by_count,\n",
    "    SORT_ARRAY(\n",
    "      COLLECT_LIST(\n",
    "        NAMED_STRUCT(\n",
    "          'year', y.publication_year,\n",
    "          'works_count', y.works_count,\n",
    "          'cited_by_count', y.cited_by_count\n",
    "        )\n",
    "      ),\n",
    "      false\n",
    "    ) AS counts_by_year\n",
    "  FROM publisher_total_counts t\n",
    "  LEFT JOIN publisher_yearly_counts y ON t.publisher_id = y.publisher_id\n",
    "  GROUP BY t.publisher_id, t.total_works_count, t.total_cited_by_count\n",
    ")\n",
    "SELECT \n",
    "  p.id as original_id,\n",
    "  CONCAT('https://openalex.org/P', p.id) as id,\n",
    "  ARRAY(CONCAT('https://openalex.org/P', p.id)) AS lineage, --@TODO add the logic\n",
    "  p.display_name,\n",
    "  from_json(p.alternate_titles, 'ARRAY<STRING>') AS alternate_titles,\n",
    "  from_json(p.country_codes, 'ARRAY<STRING>') AS country_codes,\n",
    "  p.hierarchy_level,\n",
    "  p.parent_publisher,\n",
    "  struct(\n",
    "    CONCAT('https://openalex.org/P', p.id) as openalex,\n",
    "    p.ror_id as ror,\n",
    "    p.wikidata_id as wikidata\n",
    "  ) as ids,\n",
    "  p.ror_id,\n",
    "  p.image_url,\n",
    "  p.image_thumbnail_url,\n",
    "  p.wikidata_id,\n",
    "  p.homepage_url,\n",
    "  COALESCE(c.works_count, 0) as works_count,\n",
    "  COALESCE(c.cited_by_count, 0) as cited_by_count,\n",
    "  /* summary_stats built from precomputed helpers */\n",
    "  named_struct(\n",
    "    '2yr_mean_citedness', COALESCE(ps.two_year_mean, 0.0),\n",
    "    'h_index',\n",
    "      CAST(\n",
    "        ARRAY_MAX(\n",
    "          ZIP_WITH(\n",
    "            ps.sorted_citations,\n",
    "            SEQUENCE(1, SIZE(ps.sorted_citations)),\n",
    "            (citation, rank) -> IF(citation >= rank, rank, 0)\n",
    "          )\n",
    "        ) AS INT\n",
    "      ),\n",
    "    'i10_index', COALESCE(ps.i10_index, 0)\n",
    "  ) as summary_stats,\n",
    "  COALESCE(c.counts_by_year, array()) as counts_by_year,\n",
    "  CONCAT('https://api.openalex.org/sources?data-version=2&filter=host_organization.id:P', p.id) as sources_api_url,\n",
    "  to_date(p.created_date) as created_date,\n",
    "  to_timestamp(p.updated_date) as updated_date\n",
    "FROM openalex.publishers.publishers p\n",
    "LEFT JOIN work_counts_by_publisher_id c USING (id)\n",
    "LEFT JOIN publisher_stats ps ON ps.publisher_id = p.id\n",
    "WHERE p.merge_into_id IS NULL;"
   ]
  },
  {
   "cell_type": "code",
   "execution_count": 0,
   "metadata": {
    "application/vnd.databricks.v1+cell": {
     "cellMetadata": {
      "byteLimit": 2048000,
      "rowLimit": 10000
     },
     "inputWidgets": {},
     "nuid": "761d1a32-376f-44f2-b59f-d0a4497d600e",
     "showTitle": false,
     "tableResultSettingsMap": {},
     "title": ""
    }
   },
   "outputs": [],
   "source": [
    "SELECT * FROM openalex.publishers.publishers"
   ]
  }
 ],
 "metadata": {
  "application/vnd.databricks.v1+notebook": {
   "computePreferences": null,
   "dashboards": [],
   "environmentMetadata": {
    "base_environment": "",
    "environment_version": "3"
   },
   "inputWidgetPreferences": null,
   "language": "sql",
   "notebookMetadata": {
    "pythonIndentUnit": 4
   },
   "notebookName": "create_publishers_api",
   "widgets": {}
  },
  "language_info": {
   "name": "sql"
  }
 },
 "nbformat": 4,
 "nbformat_minor": 0
}
