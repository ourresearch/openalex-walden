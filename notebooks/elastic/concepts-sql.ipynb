{
 "cells": [
  {
   "cell_type": "code",
   "execution_count": 0,
   "metadata": {
    "application/vnd.databricks.v1+cell": {
     "cellMetadata": {
      "byteLimit": 2048000,
      "rowLimit": 10000
     },
     "inputWidgets": {},
     "nuid": "64cc75bf-f82a-4ea5-8105-a92308ca67af",
     "showTitle": false,
     "tableResultSettingsMap": {
      "0": {
       "dataGridStateBlob": "{\"version\":1,\"tableState\":{\"columnPinning\":{\"left\":[\"#row_number#\"],\"right\":[]},\"columnSizing\":{},\"columnVisibility\":{}},\"settings\":{\"columns\":{\"image_url\":{\"format\":{\"preset\":\"string-preset-url\"}},\"image_thumbnail_url\":{\"format\":{\"preset\":\"string-preset-url\"}},\"wikidata_id\":{\"format\":{\"preset\":\"string-preset-url\"}},\"wikipedia_id\":{\"format\":{\"preset\":\"string-preset-url\"}}}},\"syncTimestamp\":1757032278209}",
       "filterBlob": null,
       "queryPlanFiltersBlob": null,
       "tableResultIndex": 0
      }
     },
     "title": ""
    }
   },
   "outputs": [],
   "source": [
    "WITH concepts_json AS (\n",
    "  SELECT \n",
    "    get_json_object(wikipedia_json, '$.query.pages[0]') as wikipedia_data, \n",
    "    get_json_object(wikidata_json, \n",
    "      CONCAT('$.entities.', json_object_keys(get_json_object(wikidata_json, '$.entities'))[0])\n",
    "    ) as wikidata_data,\n",
    "    *\n",
    "  FROM openalex.common.concepts\n",
    "  WHERE wikidata_id IS NOT NULL AND merge_into_id IS NULL\n",
    "),\n",
    "concepts_parsed AS (\n",
    "  SELECT\n",
    "    get_json_object(wikipedia_data, '$.terms.description[0]') as description,\n",
    "    get_json_object(wikipedia_data, '$.title') as wikipedia_title,\n",
    "    get_json_object(wikipedia_data, '$.original.source') as image_url,\n",
    "    get_json_object(wikipedia_data, '$.thumbnail.source') as image_thumbnail_url,\n",
    "    get_json_object(wikipedia_data, '$.pageprops.wikibase_item') as raw_wikidata_id,\n",
    "    wikipedia_data,\n",
    "    wikidata_data, -- extract international data (probably from_json followed by transform_keys)\n",
    "    *\n",
    "  FROM concepts_json\n",
    ")\n",
    "SELECT * FROM concepts_parsed\n"
   ]
  },
  {
   "cell_type": "code",
   "execution_count": 0,
   "metadata": {
    "application/vnd.databricks.v1+cell": {
     "cellMetadata": {
      "byteLimit": 2048000,
      "rowLimit": 10000
     },
     "inputWidgets": {},
     "nuid": "e00a3c2c-70c8-4208-8b33-31fa560ac9d2",
     "showTitle": false,
     "tableResultSettingsMap": {
      "0": {
       "dataGridStateBlob": "{\"version\":1,\"tableState\":{\"columnPinning\":{\"left\":[\"#row_number#\"],\"right\":[]},\"columnSizing\":{},\"columnVisibility\":{}},\"settings\":{\"columns\":{}},\"syncTimestamp\":1757031162177}",
       "filterBlob": null,
       "queryPlanFiltersBlob": null,
       "tableResultIndex": 0
      }
     },
     "title": ""
    }
   },
   "outputs": [],
   "source": [
    "-- need legacy.mag_advanced_field_of_study_children,\n",
    "-- legacy.mag_advanced_field_of_study_extended_attributes\n",
    "\n",
    "WITH exploded AS (\n",
    "    SELECT id as work_id, cited_by_count, explode(concepts) as concept\n",
    "    FROM openalex.works.openalex_works\n",
    "),\n",
    "-- one row per (work_id, keyword_id)\n",
    "dedup AS (\n",
    "  SELECT work_id, cited_by_count, concept\n",
    "  FROM exploded\n",
    "  QUALIFY row_number() OVER (PARTITION BY work_id, concept.id ORDER BY work_id, concept.id) = 1\n",
    "),\n",
    "-- Aggregate on unique keywords\n",
    "aggregated_counts AS (\n",
    "  SELECT\n",
    "    concept.id as concept_id,\n",
    "    concept.display_name as display_name,\n",
    "    count(DISTINCT work_id) as works_count,\n",
    "    sum(cited_by_count) as cited_by_count\n",
    "  FROM dedup\n",
    "  GROUP BY 1, 2\n",
    "),\n",
    "concepts_json AS (\n",
    "  SELECT \n",
    "    get_json_object(wikipedia_json, '$.query.pages[0]') as wikipedia_data, \n",
    "    get_json_object(wikidata_json, \n",
    "      CONCAT('$.entities.', json_object_keys(get_json_object(wikidata_json, '$.entities'))[0])\n",
    "    ) as wikidata_data,\n",
    "    *\n",
    "  FROM openalex.common.concepts\n",
    "  WHERE wikidata_id IS NOT NULL AND merge_into_id IS NULL\n",
    "),\n",
    "concepts_parsed AS (\n",
    "  SELECT\n",
    "    get_json_object(wikipedia_data, '$.title') as wikipedia_title,\n",
    "    get_json_object(wikipedia_data, '$.original.source') as image_url,\n",
    "    get_json_object(wikipedia_data, '$.thumbnail.source') as image_thumbnail_url,\n",
    "    get_json_object(wikipedia_data, '$.terms.description[0]') as description,\n",
    "    get_json_object(wikipedia_data, '$.pageprops.wikibase_item') as raw_wikidata_id,\n",
    "    wikidata_data, -- extract international data (probably from_json followed by transform_keys)\n",
    "    *\n",
    "  FROM concepts_json\n",
    ")\n",
    "-- Join with the common keywords table to get metadata\n",
    "SELECT\n",
    "  concept_id as _id,\n",
    "  STRUCT(\n",
    "    ac.concept_id as id,\n",
    "    con.wikidata_id as wikidata,\n",
    "    ac.display_name,\n",
    "    con.level,\n",
    "    con.description,\n",
    "    ac.works_count,\n",
    "    ac.cited_by_count,\n",
    "    NULL AS summary_stats,\n",
    "    named_struct(\n",
    "      \"openalex\", con.concept_id,\n",
    "      \"wikidata\", con.wikidata_id,\n",
    "      \"wikipedia\", CONCAT(\"https://en.wikipedia.org/wiki/\", \n",
    "        replace(lower(ac.display_name), \" \", \"_\")),\n",
    "      \"umls_aui\", NULL,\n",
    "      \"umls_cui\", NULL,\n",
    "      \"mag\", NULL\n",
    "    ) as ids,\n",
    "    con.image_url,\n",
    "    con.image_thumbnail_url,\n",
    "    NULL as international,\n",
    "    NULL as ancestors,\n",
    "    NULL as related_concepts,\n",
    "    NULL as counts_by_year,\n",
    "    CONCAT(\"https://api.openalex.org/works?filter=concepts.id:\", con.concept_id) AS works_api_url,\n",
    "    updated_date,\n",
    "    created_date\n",
    "  ) as _source\n",
    "FROM aggregated_counts ac\n",
    "JOIN concepts_parsed con USING (concept_id)"
   ]
  },
  {
   "cell_type": "code",
   "execution_count": 0,
   "metadata": {
    "application/vnd.databricks.v1+cell": {
     "cellMetadata": {},
     "inputWidgets": {},
     "nuid": "1ac45427-16b0-4e5f-9507-e3652b96d6f7",
     "showTitle": false,
     "tableResultSettingsMap": {},
     "title": ""
    }
   },
   "outputs": [],
   "source": []
  }
 ],
 "metadata": {
  "application/vnd.databricks.v1+notebook": {
   "computePreferences": null,
   "dashboards": [],
   "environmentMetadata": {
    "base_environment": "",
    "environment_version": "3"
   },
   "inputWidgetPreferences": null,
   "language": "sql",
   "notebookMetadata": {
    "pythonIndentUnit": 4
   },
   "notebookName": "concepts-sql",
   "widgets": {}
  },
  "language_info": {
   "name": "sql"
  }
 },
 "nbformat": 4,
 "nbformat_minor": 0
}
