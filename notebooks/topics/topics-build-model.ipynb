{
 "cells": [
  {
   "cell_type": "code",
   "execution_count": 0,
   "metadata": {
    "application/vnd.databricks.v1+cell": {
     "cellMetadata": {
      "byteLimit": 2048000,
      "rowLimit": 10000
     },
     "inputWidgets": {},
     "nuid": "745f6c65-053d-4d7e-a0a2-3be7d96473f2",
     "showTitle": false,
     "tableResultSettingsMap": {},
     "title": ""
    }
   },
   "outputs": [],
   "source": [
    "%load_ext autoreload\n",
    "%autoreload 2\n",
    "# Enables autoreload; learn more at https://docs.databricks.com/en/files/workspace-modules.html#autoreload-for-python-modules\n",
    "# To disable autoreload; run %autoreload 0"
   ]
  },
  {
   "cell_type": "code",
   "execution_count": 0,
   "metadata": {
    "application/vnd.databricks.v1+cell": {
     "cellMetadata": {
      "byteLimit": 2048000,
      "rowLimit": 10000
     },
     "inputWidgets": {},
     "nuid": "73d86860-b6b5-4b4f-95d5-5b0ab2963339",
     "showTitle": false,
     "tableResultSettingsMap": {},
     "title": ""
    }
   },
   "outputs": [],
   "source": [
    "from topic_predictor import create_model"
   ]
  },
  {
   "cell_type": "code",
   "execution_count": 0,
   "metadata": {
    "application/vnd.databricks.v1+cell": {
     "cellMetadata": {
      "byteLimit": 2048000,
      "rowLimit": 10000
     },
     "inputWidgets": {},
     "nuid": "34e5d522-89b7-48e8-93a7-3e0794a41248",
     "showTitle": false,
     "tableResultSettingsMap": {},
     "title": ""
    }
   },
   "outputs": [],
   "source": [
    "import os\n",
    "import pickle \n",
    "import tensorflow as tf\n",
    "from transformers import TFAutoModelForSequenceClassification, pipeline, AutoTokenizer\n",
    "from sentence_transformers import SentenceTransformer\n",
    "\n",
    "weights_path = \"/Volumes/openalex/works/models/topic_classifier_v1/model_checkpoint/citation_part_only.keras\"\n",
    "# Define the path\n",
    "model_path = \"/Volumes/openalex/works/models/topic_classifier_v1/\"\n",
    "\n",
    "# Load the needed files\n",
    "with open(os.path.join(model_path, \"target_vocab.pkl\"), \"rb\") as f:\n",
    "    target_vocab = pickle.load(f)\n",
    "\n",
    "print(\"Loaded target vocab\")\n",
    "\n",
    "with open(os.path.join(model_path, \"inv_target_vocab.pkl\"), \"rb\") as f:\n",
    "    inv_target_vocab = pickle.load(f)\n",
    "\n",
    "print(\"Loaded inverse target vocab\")\n",
    "\n",
    "with open(os.path.join(model_path, \"citation_feature_vocab.pkl\"), \"rb\") as f:\n",
    "    citation_feature_vocab = pickle.load(f)\n",
    "    \n",
    "print(\"Loaded citation features vocab.\")\n",
    "\n",
    "with open(os.path.join(model_path, \"gold_to_id_mapping_dict.pkl\"), \"rb\") as f:\n",
    "    gold_to_label_mapping = pickle.load(f)\n",
    "\n",
    "print(\"Loaded gold citation mapping\")\n",
    "\n",
    "with open(os.path.join(model_path, \"gold_citations_dict.pkl\"), \"rb\") as f:\n",
    "    gold_dict = pickle.load(f)\n",
    "    \n",
    "print(\"Loaded gold citation L1\")\n",
    "\n",
    "with open(os.path.join(model_path, \"non_gold_citations_dict.pkl\"), \"rb\") as f:\n",
    "    non_gold_dict = pickle.load(f)\n",
    "\n",
    "print(\"Loaded non-gold citation L1\")\n",
    "\n",
    "# Load the tokenizer and embedding model\n",
    "emb_model = SentenceTransformer('sentence-transformers/all-MiniLM-L6-v2')\n",
    "print(\"Loaded SentenceTransformer\")\n",
    "language_model_name = \"OpenAlex/bert-base-multilingual-cased-finetuned-openalex-topic-classification-title-abstract\"\n",
    "tokenizer = AutoTokenizer.from_pretrained(language_model_name, truncate=True)\n",
    "print(\"Loaded tokenizer\")"
   ]
  },
  {
   "cell_type": "code",
   "execution_count": 0,
   "metadata": {
    "application/vnd.databricks.v1+cell": {
     "cellMetadata": {
      "byteLimit": 2048000,
      "rowLimit": 10000
     },
     "inputWidgets": {},
     "nuid": "282bf0ab-d425-4c06-8a97-e38d887554ef",
     "showTitle": false,
     "tableResultSettingsMap": {},
     "title": ""
    }
   },
   "outputs": [],
   "source": [
    "# Loading the models\n",
    "pred_model = create_model(len(target_vocab), \n",
    "                          len(citation_feature_vocab)+2,\n",
    "                          weights_path, topk=5)\n",
    "print(\"✅ Model created.\")\n",
    "xla_predict = tf.function(pred_model, jit_compile=True)\n",
    "\n",
    "language_model = TFAutoModelForSequenceClassification.from_pretrained(language_model_name, output_hidden_states=True)\n",
    "language_model.trainable = False\n",
    "xla_predict_lang_model = tf.function(language_model, jit_compile=True)\n",
    "\n",
    "# # Sending a blank prediction through the model in order to get it \"warmed up\"\n",
    "# _ = xla_predict(create_input_feature([[101, 102] + [0]*510, \n",
    "#                                       [1, 1] + [0]*510,\n",
    "#                                       [1]+[0]*15, \n",
    "#                                       [1]+[0]*127,\n",
    "#                                       np.zeros(384, dtype=np.float32)]))\n",
    "print(\"✅ Model initialized\")\n",
    "\n",
    "\n",
    "# model.save(\"/dbfs/models/citation_part_only_full.keras\")\n",
    "# print(\"✅ Full model saved.\")"
   ]
  },
  {
   "cell_type": "code",
   "execution_count": 0,
   "metadata": {
    "application/vnd.databricks.v1+cell": {
     "cellMetadata": {
      "byteLimit": 2048000,
      "rowLimit": 10000
     },
     "inputWidgets": {},
     "nuid": "18659a7d-4ee4-450f-8ccd-f95780f02357",
     "showTitle": false,
     "tableResultSettingsMap": {},
     "title": ""
    }
   },
   "outputs": [],
   "source": [
    "%fs mkdirs /tmp/topic_classifier_v1"
   ]
  },
  {
   "cell_type": "code",
   "execution_count": 0,
   "metadata": {
    "application/vnd.databricks.v1+cell": {
     "cellMetadata": {
      "byteLimit": 2048000,
      "rowLimit": 10000
     },
     "inputWidgets": {},
     "nuid": "64caf248-bf32-44d9-bacf-57ee2ea65def",
     "showTitle": false,
     "tableResultSettingsMap": {},
     "title": ""
    }
   },
   "outputs": [],
   "source": [
    "# # /Volumes/openalex/works/models/topic_classifier_v1/full_model.keras\n",
    "pred_model.save(\"/dbfs/tmp/full_model.keras\")\n",
    "print(\"✅ Full Keras model saved.\")\n",
    "\n",
    "#pred_model.save(\"/Volumes/openalex/works/models/topic_classifier_v1/tf_savedmodel\", save_format=\"tf\")\n",
    "#print(\"✅ Saved model saved.\")"
   ]
  },
  {
   "cell_type": "code",
   "execution_count": 0,
   "metadata": {
    "application/vnd.databricks.v1+cell": {
     "cellMetadata": {
      "byteLimit": 2048000,
      "rowLimit": 10000
     },
     "inputWidgets": {},
     "nuid": "28a35e4e-5da6-4135-b875-27c93338658b",
     "showTitle": false,
     "tableResultSettingsMap": {},
     "title": ""
    }
   },
   "outputs": [],
   "source": [
    "%fs ls /Volumes/openalex/works/models/topic_classifier_v1/model_checkpoint/"
   ]
  },
  {
   "cell_type": "code",
   "execution_count": 0,
   "metadata": {
    "application/vnd.databricks.v1+cell": {
     "cellMetadata": {
      "byteLimit": 2048000,
      "rowLimit": 10000
     },
     "inputWidgets": {},
     "nuid": "9160a664-1bd5-4d0f-86e2-f55dc3f0e924",
     "showTitle": false,
     "tableResultSettingsMap": {},
     "title": ""
    }
   },
   "outputs": [],
   "source": [
    "from keras.models import load_model\n",
    "#size 39,654,502 (checkpoint 39,650,086)\n",
    "test_model = load_model(\"/Volumes/openalex/works/models/topic_classifier_v1/full_model.keras\")\n"
   ]
  },
  {
   "cell_type": "code",
   "execution_count": 0,
   "metadata": {
    "application/vnd.databricks.v1+cell": {
     "cellMetadata": {
      "byteLimit": 2048000,
      "rowLimit": 10000
     },
     "inputWidgets": {},
     "nuid": "a3093f59-208c-4fac-90d8-862b3ddf10a6",
     "showTitle": false,
     "tableResultSettingsMap": {},
     "title": ""
    }
   },
   "outputs": [],
   "source": [
    "for layer in test_model.layers:\n",
    "    if \"output_layer\" in layer.name:\n",
    "        weights = layer.get_weights()\n",
    "        print(f\"{layer.name}: {[w.shape for w in weights]}\")"
   ]
  },
  {
   "cell_type": "code",
   "execution_count": 0,
   "metadata": {
    "application/vnd.databricks.v1+cell": {
     "cellMetadata": {},
     "inputWidgets": {},
     "nuid": "b0d984ff-f3ff-49b8-b886-361ff8c68030",
     "showTitle": false,
     "tableResultSettingsMap": {},
     "title": ""
    }
   },
   "outputs": [],
   "source": []
  }
 ],
 "metadata": {
  "application/vnd.databricks.v1+notebook": {
   "computePreferences": null,
   "dashboards": [],
   "environmentMetadata": {
    "base_environment": "",
    "environment_version": "2"
   },
   "inputWidgetPreferences": null,
   "language": "python",
   "notebookMetadata": {
    "mostRecentlyExecutedCommandWithImplicitDF": {
     "commandId": 5604702827213742,
     "dataframes": [
      "_sqldf"
     ]
    },
    "pythonIndentUnit": 4
   },
   "notebookName": "topics-build-model",
   "widgets": {}
  },
  "language_info": {
   "name": "python"
  }
 },
 "nbformat": 4,
 "nbformat_minor": 0
}
