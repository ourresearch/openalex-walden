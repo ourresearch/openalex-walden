{
 "cells": [
  {
   "cell_type": "code",
   "execution_count": 0,
   "metadata": {
    "application/vnd.databricks.v1+cell": {
     "cellMetadata": {
      "byteLimit": 2048000,
      "rowLimit": 10000
     },
     "inputWidgets": {},
     "nuid": "5cae3f91-4791-42a3-aa53-10238593f53c",
     "showTitle": false,
     "tableResultSettingsMap": {
      "0": {
       "dataGridStateBlob": "{\"version\":1,\"tableState\":{\"columnPinning\":{\"left\":[\"#row_number#\"],\"right\":[]},\"columnSizing\":{},\"columnVisibility\":{}},\"settings\":{\"columns\":{}},\"syncTimestamp\":1752697948213}",
       "filterBlob": null,
       "queryPlanFiltersBlob": null,
       "tableResultIndex": 0
      }
     },
     "title": ""
    }
   },
   "outputs": [],
   "source": [
    "-- 216,437,323 work_id matches in openalex_works (Sept)\n",
    "SELECT format_number(COUNT(DISTINCT work_id),0) as works_with_topics_count\n",
    "FROM openalex.works.work_topic\n",
    "WHERE work_id IN (SELECT id FROM openalex.works.openalex_works)"
   ]
  },
  {
   "cell_type": "code",
   "execution_count": 0,
   "metadata": {
    "application/vnd.databricks.v1+cell": {
     "cellMetadata": {
      "byteLimit": 2048000,
      "rowLimit": 10000
     },
     "inputWidgets": {},
     "nuid": "beb81e05-9bcf-48f6-84b3-e7d3e183ef07",
     "showTitle": false,
     "tableResultSettingsMap": {},
     "title": ""
    }
   },
   "outputs": [],
   "source": [
    "SELECT count(*) from openalex.works.work_topic -- 550,011,744 before merge_into_id, after 587,365,294"
   ]
  },
  {
   "cell_type": "code",
   "execution_count": 0,
   "metadata": {
    "application/vnd.databricks.v1+cell": {
     "cellMetadata": {
      "byteLimit": 2048000,
      "rowLimit": 10000
     },
     "inputWidgets": {},
     "nuid": "c26c0cab-2f34-4ad6-b021-3aa2fb84367a",
     "showTitle": false,
     "tableResultSettingsMap": {},
     "title": ""
    }
   },
   "outputs": [],
   "source": [
    "CREATE OR REPLACE TABLE openalex.works.work_topic\n",
    "CLUSTER BY (work_id, topic_id) AS\n",
    "-- Direct topics: works where merge_into_id IS NULL\n",
    "WITH direct_topics AS (\n",
    "  SELECT\n",
    "    wt.paper_id as work_id,\n",
    "    wt.topic_id,\n",
    "    wt.score,\n",
    "    wt.topic_rank,\n",
    "    wt.algorithm_version,\n",
    "    \"mid.work_topic\" as source,\n",
    "    wt.updated_date as updated_datetime,\n",
    "    current_timestamp() as created_datetime\n",
    "  FROM openalex.mid.work_topic wt\n",
    "  JOIN openalex.mid.work w ON wt.paper_id = w.paper_id\n",
    "  WHERE w.merge_into_id IS NULL\n",
    "),\n",
    "-- Indirect topics: works where merge_into_id IS NOT NULL\n",
    "-- Get topics from merge_into_id, keep assigned to original paper_id\n",
    "indirect_topics AS (\n",
    "  SELECT\n",
    "    w.paper_id as work_id,\n",
    "    wt.topic_id,\n",
    "    wt.score,\n",
    "    wt.topic_rank,\n",
    "    wt.algorithm_version,\n",
    "    \"mid.work_topic\" as source,\n",
    "    wt.updated_date as updated_datetime,\n",
    "    current_timestamp() as created_datetime\n",
    "  FROM openalex.mid.work w\n",
    "  JOIN openalex.mid.work_topic wt ON wt.paper_id = w.merge_into_id\n",
    "  WHERE w.merge_into_id IS NOT NULL\n",
    ")\n",
    "SELECT * FROM direct_topics\n",
    "UNION ALL\n",
    "SELECT * FROM indirect_topics"
   ]
  },
  {
   "cell_type": "markdown",
   "metadata": {
    "application/vnd.databricks.v1+cell": {
     "cellMetadata": {},
     "inputWidgets": {},
     "nuid": "4f42ba15-f948-41ed-9f6e-bdf835f23034",
     "showTitle": false,
     "tableResultSettingsMap": {},
     "title": ""
    }
   },
   "source": [
    "### Create `backfill` table"
   ]
  },
  {
   "cell_type": "code",
   "execution_count": 0,
   "metadata": {
    "application/vnd.databricks.v1+cell": {
     "cellMetadata": {
      "byteLimit": 2048000,
      "rowLimit": 10000
     },
     "inputWidgets": {},
     "nuid": "675b24e9-ce91-445b-bd41-512a8a0a81ca",
     "showTitle": false,
     "tableResultSettingsMap": {},
     "title": ""
    }
   },
   "outputs": [],
   "source": [
    "CREATE OR REPLACE TABLE openalex.common.fields AS\n",
    "SELECT * FROM openalex_postgres.mid.field;\n",
    "\n",
    "CREATE OR REPLACE TABLE openalex.common.subfields AS\n",
    "SELECT * FROM openalex_postgres.mid.subfield;\n",
    "\n",
    "CREATE OR REPLACE TABLE openalex.common.domains AS\n",
    "SELECT * FROM openalex_postgres.mid.domain;\n",
    "\n",
    "--CREATE OR REPLACE TABLE openalex.common.topics AS\n",
    "--SELECT * FROM openalex_postgres.mid.topic;\n"
   ]
  },
  {
   "cell_type": "code",
   "execution_count": 0,
   "metadata": {
    "application/vnd.databricks.v1+cell": {
     "cellMetadata": {
      "byteLimit": 2048000,
      "rowLimit": 10000
     },
     "inputWidgets": {},
     "nuid": "4edc9a96-352a-44d0-b5de-0b14e0f9a3be",
     "showTitle": false,
     "tableResultSettingsMap": {
      "0": {
       "dataGridStateBlob": "{\"version\":1,\"tableState\":{\"columnPinning\":{\"left\":[\"#row_number#\"],\"right\":[]},\"columnSizing\":{},\"columnVisibility\":{}},\"settings\":{\"columns\":{}},\"syncTimestamp\":1752767410978}",
       "filterBlob": null,
       "queryPlanFiltersBlob": null,
       "tableResultIndex": 0
      }
     },
     "title": ""
    }
   },
   "outputs": [],
   "source": [
    "SELECT count(*) FROM openalex.works.work_topic"
   ]
  },
  {
   "cell_type": "code",
   "execution_count": 0,
   "metadata": {
    "application/vnd.databricks.v1+cell": {
     "cellMetadata": {
      "byteLimit": 2048000,
      "rowLimit": 10000
     },
     "inputWidgets": {},
     "nuid": "0b318d98-ec92-40e2-bcb7-25cc6e5e4dd2",
     "showTitle": false,
     "tableResultSettingsMap": {},
     "title": ""
    }
   },
   "outputs": [],
   "source": [
    "SELECT * FROM openalex.works.work_topics_backfill"
   ]
  },
  {
   "cell_type": "code",
   "execution_count": 0,
   "metadata": {
    "application/vnd.databricks.v1+cell": {
     "cellMetadata": {
      "byteLimit": 2048000,
      "rowLimit": 10000
     },
     "inputWidgets": {},
     "nuid": "0d4c31ab-0972-436e-81c2-e9736a6333ab",
     "showTitle": false,
     "tableResultSettingsMap": {},
     "title": ""
    }
   },
   "outputs": [],
   "source": [
    "select count(*) from openalex.works.work_topics_backfill -- 228,083,708 (before); 240,613,815 (after) + 12.5M"
   ]
  },
  {
   "cell_type": "code",
   "execution_count": 0,
   "metadata": {
    "application/vnd.databricks.v1+cell": {
     "cellMetadata": {
      "byteLimit": 2048000,
      "rowLimit": 10000
     },
     "inputWidgets": {},
     "nuid": "e9998cb9-fc9b-4280-93c2-d53c89707d34",
     "showTitle": false,
     "tableResultSettingsMap": {
      "0": {
       "dataGridStateBlob": "{\"version\":1,\"tableState\":{\"columnPinning\":{\"left\":[\"#row_number#\"],\"right\":[]},\"columnSizing\":{},\"columnVisibility\":{}},\"settings\":{\"columns\":{}},\"syncTimestamp\":1752704040469}",
       "filterBlob": null,
       "queryPlanFiltersBlob": null,
       "tableResultIndex": 0
      }
     },
     "title": ""
    }
   },
   "outputs": [],
   "source": [
    "    -- {\n",
    "    --   \"id\": \"https://openalex.org/T10602\",\n",
    "    --   \"display_name\": \"Glycosylation and Glycoproteins Research\",\n",
    "    --   \"score\": 0.9678,\n",
    "    --   \"subfield\": {\n",
    "    --     \"id\": \"https://openalex.org/subfields/1312\",\n",
    "    --     \"display_name\": \"Molecular Biology\"\n",
    "    --   },\n",
    "    --   \"field\": {\n",
    "    --     \"id\": \"https://openalex.org/fields/13\",\n",
    "    --     \"display_name\": \"Biochemistry, Genetics and Molecular Biology\"\n",
    "    --   },\n",
    "    --   \"domain\": {\n",
    "    --     \"id\": \"https://openalex.org/domains/1\",\n",
    "    --     \"display_name\": \"Life Sciences\"\n",
    "    --   }\n",
    "    -- }\n",
    "CREATE OR REPLACE TABLE openalex.works.work_topics_backfill \n",
    "CLUSTER BY (work_id)\n",
    "AS\n",
    "WITH topics_metadata AS (\n",
    "  SELECT\n",
    "    topic_id,\n",
    "    t.display_name,\n",
    "    NAMED_STRUCT(\n",
    "      'id', concat('https://openalex.org/subfields/', s.subfield_id),\n",
    "      'display_name', s.display_name\n",
    "    ) as subfield,\n",
    "    NAMED_STRUCT(\n",
    "      'id', concat('https://openalex.org/fields/', f.field_id),\n",
    "      'display_name', f.display_name\n",
    "    ) as field,\n",
    "    NAMED_STRUCT(\n",
    "      'id', concat('https://openalex.org/domains/', d.domain_id),\n",
    "      'display_name', d.display_name\n",
    "    ) as domain\n",
    "  FROM openalex.common.topics t\n",
    "  JOIN openalex.common.subfields s USING (subfield_id)\n",
    "  JOIN openalex.common.fields f USING (field_id)\n",
    "  JOIN openalex.common.domains d USING (domain_id)\n",
    ")\n",
    "SELECT\n",
    "  work_id,\n",
    "  array_sort(\n",
    "    array_agg(\n",
    "      NAMED_STRUCT(\n",
    "        'id', concat('https://openalex.org/T',topic_id),\n",
    "        'display_name', tm.display_name,\n",
    "        'score', score,\n",
    "        'subfield', tm.subfield,\n",
    "        'field', tm.field,\n",
    "        'domain', tm.domain\n",
    "      )\n",
    "    ),\n",
    "    (left, right) -> CASE\n",
    "      WHEN left.score > right.score THEN -1\n",
    "      WHEN left.score < right.score THEN 1\n",
    "      ELSE 0\n",
    "    END\n",
    "  ) as topics,\n",
    "  first(wt.source) as source,\n",
    "  max(wt.created_datetime) as created_datetime,\n",
    "  max(wt.updated_datetime) as updated_datetime\n",
    "FROM openalex.works.work_topic wt\n",
    "JOIN topics_metadata tm USING (topic_id)\n",
    "GROUP BY work_id\n",
    "-- enriched_work_topics AS (\n",
    "--   SELECT\n",
    "--     work_id,\n",
    "--     array_sort(\n",
    "--       array_agg(\n",
    "--         struct(\n",
    "--           concat('https://openalex.org/T',topic_id) AS id,\n",
    "--           wikidata,\n",
    "--           display_name,\n",
    "--           level,\n",
    "--           score\n",
    "--         )\n",
    "--       ),\n",
    "--       (left, right) -> CASE\n",
    "--         WHEN left.score > right.score THEN -1\n",
    "--         WHEN left.score < right.score THEN 1\n",
    "--         ELSE 0\n",
    "--       END\n",
    "--     ) AS topics,\n",
    "--     first(source) as source,\n",
    "--     max(updated_datetime) as updated_datetime,\n",
    "--     current_timestamp() as created_datetime\n",
    "--   FROM openalex.works.work_topic\n",
    "--   JOIN topic_metadata USING (concept_id)\n",
    "--   GROUP BY work_id\n",
    "-- )\n",
    "-- SELECT * FROM enriched_work_topics"
   ]
  },
  {
   "cell_type": "code",
   "execution_count": 0,
   "metadata": {
    "application/vnd.databricks.v1+cell": {
     "cellMetadata": {
      "byteLimit": 2048000,
      "rowLimit": 10000
     },
     "inputWidgets": {},
     "nuid": "bb2c5cf4-89da-486e-8b5b-01c09a523413",
     "showTitle": false,
     "tableResultSettingsMap": {},
     "title": ""
    }
   },
   "outputs": [],
   "source": [
    "CREATE OR REPLACE TABLE openalex.common.topics_structured\n",
    "AS\n",
    "WITH topics_metadata AS (\n",
    "  SELECT\n",
    "    topic_id,\n",
    "    NAMED_STRUCT(\n",
    "      'id', concat('https://openalex.org/T', t.topic_id),\n",
    "      'display_name', t.display_name,\n",
    "      'score', CAST(NULL AS DOUBLE),  -- placeholder\n",
    "      'subfield', NAMED_STRUCT(\n",
    "        'id', concat('https://openalex.org/subfields/', s.subfield_id),\n",
    "        'display_name', s.display_name\n",
    "      ),\n",
    "      'field', NAMED_STRUCT(\n",
    "        'id', concat('https://openalex.org/fields/', f.field_id),\n",
    "        'display_name', f.display_name\n",
    "      ),\n",
    "      'domain', NAMED_STRUCT(\n",
    "        'id', concat('https://openalex.org/domains/', d.domain_id),\n",
    "        'display_name', d.display_name\n",
    "      )\n",
    "    ) AS topic_struct\n",
    "  FROM openalex.common.topics t\n",
    "  JOIN openalex.common.subfields s USING (subfield_id)\n",
    "  JOIN openalex.common.fields f USING (field_id)\n",
    "  JOIN openalex.common.domains d USING (domain_id)\n",
    ")\n",
    "SELECT * FROM topics_metadata;\n"
   ]
  },
  {
   "cell_type": "code",
   "execution_count": 0,
   "metadata": {
    "application/vnd.databricks.v1+cell": {
     "cellMetadata": {
      "byteLimit": 2048000,
      "rowLimit": 10000
     },
     "inputWidgets": {},
     "nuid": "be76024f-116b-41e5-938c-e87f0a16eaff",
     "showTitle": false,
     "tableResultSettingsMap": {},
     "title": ""
    }
   },
   "outputs": [],
   "source": [
    "--216,437,323\n",
    "MERGE INTO openalex.works.openalex_works AS target\n",
    "USING (\n",
    "  SELECT\n",
    "    work_id,\n",
    "    topics\n",
    "  FROM openalex.works.work_topics_backfill\n",
    ") AS source\n",
    "-- don't force update if fields are populated already\n",
    "ON target.topics is NULL and target.id = source.work_id\n",
    "WHEN MATCHED THEN\n",
    "  UPDATE SET\n",
    "    target.topics = source.topics,\n",
    "    target.primary_topic = source.topics[0]"
   ]
  },
  {
   "cell_type": "markdown",
   "metadata": {
    "application/vnd.databricks.v1+cell": {
     "cellMetadata": {},
     "inputWidgets": {},
     "nuid": "288fea62-df11-4bff-8b04-aca2f531a8de",
     "showTitle": false,
     "tableResultSettingsMap": {},
     "title": ""
    }
   },
   "source": [
    "### API example"
   ]
  },
  {
   "cell_type": "code",
   "execution_count": 0,
   "metadata": {
    "application/vnd.databricks.v1+cell": {
     "cellMetadata": {
      "byteLimit": 2048000,
      "rowLimit": 10000
     },
     "inputWidgets": {},
     "nuid": "ed34e233-3d2c-4640-a6a6-e8f6b071ca64",
     "showTitle": false,
     "tableResultSettingsMap": {},
     "title": ""
    }
   },
   "outputs": [],
   "source": [
    "-- %python\n",
    "-- # work_id 1775749144\n",
    "-- API_JSON = \"\"\"is_paratext\": false,\n",
    "--   \"primary_topic\": {\n",
    "--     \"id\": \"https://openalex.org/T10602\",\n",
    "--     \"display_name\": \"Glycosylation and Glycoproteins Research\",\n",
    "--     \"score\": 0.9678,\n",
    "--     \"subfield\": {\n",
    "--       \"id\": \"https://openalex.org/subfields/1312\",\n",
    "--       \"display_name\": \"Molecular Biology\"\n",
    "--     },\n",
    "--     \"field\": {\n",
    "--       \"id\": \"https://openalex.org/fields/13\",\n",
    "--       \"display_name\": \"Biochemistry, Genetics and Molecular Biology\"\n",
    "--     },\n",
    "--     \"domain\": {\n",
    "--       \"id\": \"https://openalex.org/domains/1\",\n",
    "--       \"display_name\": \"Life Sciences\"\n",
    "--     }\n",
    "--   },\n",
    "--   \"topics\": [\n",
    "--     {\n",
    "--       \"id\": \"https://openalex.org/T10602\",\n",
    "--       \"display_name\": \"Glycosylation and Glycoproteins Research\",\n",
    "--       \"score\": 0.9678,\n",
    "--       \"subfield\": {\n",
    "--         \"id\": \"https://openalex.org/subfields/1312\",\n",
    "--         \"display_name\": \"Molecular Biology\"\n",
    "--       },\n",
    "--       \"field\": {\n",
    "--         \"id\": \"https://openalex.org/fields/13\",\n",
    "--         \"display_name\": \"Biochemistry, Genetics and Molecular Biology\"\n",
    "--       },\n",
    "--       \"domain\": {\n",
    "--         \"id\": \"https://openalex.org/domains/1\",\n",
    "--         \"display_name\": \"Life Sciences\"\n",
    "--       }\n",
    "--     },\n",
    "--     {\n",
    "--       \"id\": \"https://openalex.org/T11399\",\n",
    "--       \"display_name\": \"Muscle metabolism and nutrition\",\n",
    "--       \"score\": 0.951,\n",
    "--       \"subfield\": {\n",
    "--         \"id\": \"https://openalex.org/subfields/1307\",\n",
    "--         \"display_name\": \"Cell Biology\"\n",
    "--       },\n",
    "--       \"field\": {\n",
    "--         \"id\": \"https://openalex.org/fields/13\",\n",
    "--         \"display_name\": \"Biochemistry, Genetics and Molecular Biology\"\n",
    "--       },\n",
    "--       \"domain\": {\n",
    "--         \"id\": \"https://openalex.org/domains/1\",\n",
    "--         \"display_name\": \"Life Sciences\"\n",
    "--       }\n",
    "--     },\n",
    "--     {\n",
    "--       \"id\": \"https://openalex.org/T14135\",\n",
    "--       \"display_name\": \"Cancer and biochemical research\",\n",
    "--       \"score\": 0.9502,\n",
    "--       \"subfield\": {\n",
    "--         \"id\": \"https://openalex.org/subfields/1312\",\n",
    "--         \"display_name\": \"Molecular Biology\"\n",
    "--       },\n",
    "--       \"field\": {\n",
    "--         \"id\": \"https://openalex.org/fields/13\",\n",
    "--         \"display_name\": \"Biochemistry, Genetics and Molecular Biology\"\n",
    "--       },\n",
    "--       \"domain\": {\n",
    "--         \"id\": \"https://openalex.org/domains/1\",\n",
    "--         \"display_name\": \"Life Sciences\"\n",
    "--       }\n",
    "--     }\n",
    "--   ],\n",
    "--   \"keywords\": [],\n",
    "--   \"concepts\": [\"\"\""
   ]
  },
  {
   "cell_type": "code",
   "execution_count": 0,
   "metadata": {
    "application/vnd.databricks.v1+cell": {
     "cellMetadata": {
      "byteLimit": 2048000,
      "rowLimit": 10000
     },
     "inputWidgets": {},
     "nuid": "e8e5f8d8-9ace-4ef3-8b6d-4f93c9977074",
     "showTitle": false,
     "tableResultSettingsMap": {},
     "title": ""
    }
   },
   "outputs": [],
   "source": [
    "-- ALTER TABLE openalex.works.openalex_works ADD COLUMN primary_topic\n",
    "--     STRUCT<id STRING, display_name STRING, score FLOAT,\n",
    "--         subfield STRUCT<id STRING, display_name STRING>,\n",
    "--         field STRUCT<id STRING, display_name STRING>,\n",
    "--         domain STRUCT<id STRING, display_name STRING>> AFTER apc_list;\n",
    "-- ALTER TABLE openalex.works.openalex_works ADD COLUMN topics\n",
    "--     ARRAY<STRUCT<id STRING, display_name STRING, score FLOAT,\n",
    "--         subfield STRUCT<id STRING, display_name STRING>,\n",
    "--         field STRUCT<id STRING, display_name STRING>,\n",
    "--         domain STRUCT<id STRING, display_name STRING>>> AFTER primary_topic;"
   ]
  }
 ],
 "metadata": {
  "application/vnd.databricks.v1+notebook": {
   "computePreferences": null,
   "dashboards": [],
   "environmentMetadata": {
    "base_environment": "",
    "environment_version": "2"
   },
   "inputWidgetPreferences": null,
   "language": "sql",
   "notebookMetadata": {
    "pythonIndentUnit": 4
   },
   "notebookName": "topics_backfill",
   "widgets": {}
  },
  "language_info": {
   "name": "sql"
  }
 },
 "nbformat": 4,
 "nbformat_minor": 0
}
