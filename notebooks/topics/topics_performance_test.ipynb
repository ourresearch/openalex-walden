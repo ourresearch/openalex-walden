{
 "cells": [
  {
   "cell_type": "code",
   "execution_count": 0,
   "metadata": {
    "application/vnd.databricks.v1+cell": {
     "cellMetadata": {
      "byteLimit": 2048000,
      "rowLimit": 10000
     },
     "inputWidgets": {},
     "nuid": "6cc6fc17-f0ab-4f64-9b2a-fc8d9b8c204a",
     "showTitle": false,
     "tableResultSettingsMap": {},
     "title": ""
    }
   },
   "outputs": [],
   "source": [
    "import mlflow\n",
    "\n",
    "MODEL_PATH = \"/Volumes/openalex/works/models/topic-classification-title-abstract\"\n",
    "\n",
    "predict_udf = mlflow.pyfunc.spark_udf(spark, MODEL_PATH, env_manager=\"conda\")\n",
    "df_result = df_spark.withColumn(\"prediction\", predict_udf(*df_spark.columns))"
   ]
  },
  {
   "cell_type": "code",
   "execution_count": 0,
   "metadata": {
    "application/vnd.databricks.v1+cell": {
     "cellMetadata": {
      "byteLimit": 2048000,
      "rowLimit": 10000
     },
     "inputWidgets": {},
     "nuid": "f0ac3de6-d7f9-4535-aa0f-5158d56b298f",
     "showTitle": false,
     "tableResultSettingsMap": {
      "0": {
       "dataGridStateBlob": "{\"version\":1,\"tableState\":{\"columnPinning\":{\"left\":[\"#row_number#\"],\"right\":[]},\"columnSizing\":{},\"columnVisibility\":{}},\"settings\":{\"columns\":{}},\"syncTimestamp\":1753448139338}",
       "filterBlob": null,
       "queryPlanFiltersBlob": null,
       "tableResultIndex": 0
      }
     },
     "title": ""
    }
   },
   "outputs": [],
   "source": [
    "# %sql\n",
    "# CREATE OR REPLACE TABLE openalex.works.works_topics_compare AS\n",
    "# SELECT id as work_id, title, abstract, primary_location.source.display_name as journal_name, primary_topic, topics\n",
    "# FROM openalex.works.openalex_works\n",
    "# WHERE length(title) > 50 AND length(abstract) > 100 \n",
    "# AND size(topics) > 0 AND cited_by_count > 50 AND primary_location.source.display_name IS NOT NULL\n",
    "# QUALIFY row_number() over (partition by primary_topic.id order by id asc) <= 20"
   ]
  },
  {
   "cell_type": "code",
   "execution_count": 0,
   "metadata": {
    "application/vnd.databricks.v1+cell": {
     "cellMetadata": {
      "byteLimit": 2048000,
      "rowLimit": 10000
     },
     "inputWidgets": {},
     "nuid": "5b836e9d-cfe5-48bc-abd7-c4fadfd84fdd",
     "showTitle": false,
     "tableResultSettingsMap": {},
     "title": ""
    }
   },
   "outputs": [],
   "source": [
    "from transformers import TFAutoModelForSequenceClassification, pipeline, AutoTokenizer\n",
    "import torch\n",
    "import os\n",
    "\n",
    "print(f\"CUDA device count: {torch.cuda.device_count()}\")\n",
    "\n",
    "bert_classifier = pipeline(model=\"OpenAlex/bert-base-multilingual-cased-finetuned-openalex-topic-classification-title-abstract\", top_k=5, batch_size=16, truncation=True, max_length=512)\n",
    "\n",
    "test_input = \"\"\"<TITLE>Supplemental Material: Estimating paleotidal constituents from Pliocene “tidal gauges”—an example from the paleo-Orinoco Delta, Trinidad\"\"\"\n",
    "bert_classifier(test_input)\n",
    "\n",
    "class ModelCache:\n",
    "    model = None\n",
    "\n",
    "    @classmethod\n",
    "    def load(cls):\n",
    "        if cls.model is not None:\n",
    "            return\n",
    "\n",
    "        # Determine available GPU count\n",
    "        num_devices = torch.cuda.device_count()\n",
    "        if num_devices == 0:\n",
    "            raise RuntimeError(\"No CUDA devices available.\")\n",
    "\n",
    "        # Assign device using pid hash\n",
    "        pid = os.getpid()\n",
    "        device_id = pid % num_devices\n",
    "        cls.assigned_device = device_id\n",
    "\n",
    "        print(f\"Loading model on GPU:{device_id} for pid:{pid}\")\n",
    "\n",
    "        cls.model = pipeline(\n",
    "            model=\"OpenAlex/bert-base-multilingual-cased-finetuned-openalex-topic-classification-title-abstract\",\n",
    "            tokenizer=\"OpenAlex/bert-base-multilingual-cased-finetuned-openalex-topic-classification-title-abstract\",\n",
    "            device=device_id,  # ✅ Assign GPU\n",
    "            top_k=5,\n",
    "            batch_size=12,\n",
    "            truncation=True,\n",
    "            max_length=512\n",
    "        )\n",
    "\n",
    "\n"
   ]
  },
  {
   "cell_type": "markdown",
   "metadata": {
    "application/vnd.databricks.v1+cell": {
     "cellMetadata": {},
     "inputWidgets": {},
     "nuid": "355d339d-c4cc-49ab-b8c3-700df541fafb",
     "showTitle": false,
     "tableResultSettingsMap": {},
     "title": ""
    }
   },
   "source": [
    "### Testing `pseudo_abstract` - with Journal Name and Concepts if actual `abstract` is not present"
   ]
  },
  {
   "cell_type": "code",
   "execution_count": 0,
   "metadata": {
    "application/vnd.databricks.v1+cell": {
     "cellMetadata": {
      "byteLimit": 2048000,
      "rowLimit": 10000
     },
     "inputWidgets": {},
     "nuid": "570941f3-2b8f-4b21-8ec7-154aaf37be6f",
     "showTitle": false,
     "tableResultSettingsMap": {},
     "title": ""
    }
   },
   "outputs": [],
   "source": [
    "test_input = \"\"\"[CLS]<TITLE>Bupropion and Male Reproductive Health: Exploring Its Role in Sexual Dysfunction and Fertility[SEP]\"\"\"\n",
    "print(bert_classifier(test_input))\n",
    "\n",
    "test_input = \"\"\"[CLS]<TITLE>Bupropion and Male Reproductive Health: Exploring Its Role in Sexual Dysfunction and Fertility<ABSTRACT>[Journal Name] DataCite API [Key Concepts] Nucleofection, Gestational period, TSG101[SEP]\"\"\"\n",
    "print(bert_classifier(test_input))"
   ]
  },
  {
   "cell_type": "markdown",
   "metadata": {
    "application/vnd.databricks.v1+cell": {
     "cellMetadata": {},
     "inputWidgets": {},
     "nuid": "acf94ded-7496-402c-bf67-4ca3b4d971f8",
     "showTitle": false,
     "tableResultSettingsMap": {},
     "title": ""
    }
   },
   "source": [
    "## Examples from Justin's Topic Classification Paper\n",
    "https://docs.google.com/document/d/1bDopkhuGieQ4F8gGNj7sEc8WSE8mvLZS/edit?tab=t.0"
   ]
  },
  {
   "cell_type": "markdown",
   "metadata": {
    "application/vnd.databricks.v1+cell": {
     "cellMetadata": {},
     "inputWidgets": {},
     "nuid": "1e3e1f9c-8d9d-4c5b-aef3-b643a3231bef",
     "showTitle": false,
     "tableResultSettingsMap": {},
     "title": ""
    }
   },
   "source": [
    "### Example #1\n",
    "Shown as example of producing correct output on limited data - Exact Match"
   ]
  },
  {
   "cell_type": "code",
   "execution_count": 0,
   "metadata": {
    "application/vnd.databricks.v1+cell": {
     "cellMetadata": {
      "byteLimit": 2048000,
      "rowLimit": 10000
     },
     "inputWidgets": {},
     "nuid": "1580b865-5ec2-4d15-ab12-846ababd99a4",
     "showTitle": false,
     "tableResultSettingsMap": {},
     "title": ""
    }
   },
   "outputs": [],
   "source": [
    "test_input = \"\"\"[CLS]<TITLE>Multidisciplinary Team Approach to Cleft Lip and Palate Management\"\"\"\n",
    "bert_classifier(test_input)"
   ]
  },
  {
   "cell_type": "markdown",
   "metadata": {
    "application/vnd.databricks.v1+cell": {
     "cellMetadata": {},
     "inputWidgets": {},
     "nuid": "9e84bb21-5096-4030-ba6b-c0a7370415d1",
     "showTitle": false,
     "tableResultSettingsMap": {},
     "title": ""
    }
   },
   "source": [
    "### Example #2\n",
    "Found the abstract and the labeled outcome `Corporate Social Responsibility and Sustainability in Business` which was stated as being wrong captures the point of the paper more. "
   ]
  },
  {
   "cell_type": "code",
   "execution_count": 0,
   "metadata": {
    "application/vnd.databricks.v1+cell": {
     "cellMetadata": {
      "byteLimit": 2048000,
      "rowLimit": 10000
     },
     "inputWidgets": {},
     "nuid": "b3226e72-16f6-4472-830a-ac9c8242c673",
     "showTitle": false,
     "tableResultSettingsMap": {},
     "title": ""
    }
   },
   "outputs": [],
   "source": [
    "test_input_1 = \"\"\"[CLS]<TITLE>Mitverbrennung von Sekundärbrennstoffen[SEP]\"\"\"\n",
    "test_input_2 = \"\"\"[CLS]<TITLE>Mitverbrennung von Sekundärbrennstoffen<ABSTRACT>Auf europäischer Ebene wird unter festen Sekundärbrennstoffen ein breites Spektrum an für die energetische Verwertung bereitgestellten Fraktionen verstanden, die aus nicht gefährlichen Abfällen hergestellt werden. Dieses reicht dabei von produktionsspezifischen oder gewerblichen Abfällen, über Siedlungsabfall, bis hin zu Bau‐ und Abbruchabfall oder auch Altholz (DIN 2012). Auch auf nationaler Ebene werden Brennstoffe, die aus festen, heizwertreichen, nicht gefährlichen Abfällen hergestellt werden, als Sekundärbrennstoffe bezeichnet, die nach einem umfassenden Aufbereitungsprozess speziell für die Mitverbrennung bereitgestellt werden. Insgesamt hat sich die Mitverbrennung von Sekundärbrennstoffen in Industriefeuerungsanlagen und Zementwerken als feste Säule einer modernen Kreislaufwirtschaft etabliert, da hier heizwertreiche Stoffe als emissionsarme Energieträger hochwertig verwertet werden können. Durch die Einsparung von Primärbrennstoffen, der Rückgewinnung von Eisen‐ und Nichteisenmetallen sowie – im Fall der Mitverbrennung in Zementwerken – der stofflichen Verwertung des mineralischen Anteils kann so zum Klima‐ und Ressourcenschutz beigetragen werden. So wurden allein in der deutschen Zementindustrie im Jahr 2014 durch den Einsatz geeigneter Sekundärbrennstoffe fossile brennstoffspezifische Kohlendioxid(CO2)‐Emissionen von etwa 1,5 Mio. Megagramm (Mg) sowie etwa 2 Mio. Mg Steinkohleeinheiten an fossilen Primärenergieträgern eingespart (Oerter 2017a).[SEP]\"\"\"\n",
    "print(bert_classifier(test_input_1))\n",
    "print(bert_classifier(test_input_2))\n",
    "# 12959\tEngineering and Materials Science Studies - Mechanical Engineering - Engineering - Physical Sciences\n",
    "# Keywords: Lightweight Materials; Automotive Engineering; Composite Structures; Ultrasonic Testing; \n",
    "# Thermoplastic Composites; Additive Manufacturing; Structural Analysis; Hot-Dip Galvanization; \n",
    "# Machine Elements; Renewable Resources\n",
    "###############\n",
    "# 12565\tPhysics and Engineering Research Articles - Computational Mechanics\t- Engineering - Physical Sciences\n",
    "# Keywords: Fluid Dynamics; Renewable Energy; Engineering; Materials Science; Renewable Energy Integration; \n",
    "# Vibration Analysis; Thermal Management; Sustainability; Turbine Technology; Mathematical Modeling"
   ]
  },
  {
   "cell_type": "markdown",
   "metadata": {
    "application/vnd.databricks.v1+cell": {
     "cellMetadata": {},
     "inputWidgets": {},
     "nuid": "86842627-fbb9-432c-b90e-88b9419b19ad",
     "showTitle": false,
     "tableResultSettingsMap": {},
     "title": ""
    }
   },
   "source": [
    "### Example #3\n",
    "Exact Match"
   ]
  },
  {
   "cell_type": "code",
   "execution_count": 0,
   "metadata": {
    "application/vnd.databricks.v1+cell": {
     "cellMetadata": {
      "byteLimit": 2048000,
      "rowLimit": 10000
     },
     "inputWidgets": {},
     "nuid": "c45ee44c-0b8b-4c9f-907d-4b2bf6098990",
     "showTitle": false,
     "tableResultSettingsMap": {},
     "title": ""
    }
   },
   "outputs": [],
   "source": [
    "test_input = \"\"\"[CLS]<TITLE>Novel, Potentially Zoonotic Paramyxoviruses from the African Straw-Colored Fruit Bat Eidolon helvum<ABSTRACT>Bats carry a variety of paramyxoviruses that impact human and domestic animal health when spillover occurs. Recent studies have shown a great diversity of paramyxoviruses in an urban-roosting population of straw-colored fruit bats in Ghana. Here, we investigate this further through virus isolation and describe two novel rubulaviruses: Achimota virus 1 (AchPV1) and Achimota virus 2 (AchPV2). The viruses form a phylogenetic cluster with each other and other bat-derived rubulaviruses, such as Tuhoko viruses…[SEP]\"\"\"\n",
    "print(bert_classifier(test_input))"
   ]
  },
  {
   "cell_type": "markdown",
   "metadata": {
    "application/vnd.databricks.v1+cell": {
     "cellMetadata": {},
     "inputWidgets": {},
     "nuid": "d48823d2-7901-4619-9c73-0d52c5b09ee1",
     "showTitle": false,
     "tableResultSettingsMap": {},
     "title": ""
    }
   },
   "source": [
    "### Example 4\n",
    "Exact Match"
   ]
  },
  {
   "cell_type": "code",
   "execution_count": 0,
   "metadata": {
    "application/vnd.databricks.v1+cell": {
     "cellMetadata": {
      "byteLimit": 2048000,
      "rowLimit": 10000
     },
     "inputWidgets": {},
     "nuid": "4441db06-6121-4be9-be74-c36a6a35f367",
     "showTitle": false,
     "tableResultSettingsMap": {},
     "title": ""
    }
   },
   "outputs": [],
   "source": [
    "test_input = \"\"\"[CLS]<TITLE>Bioinformatics basics: applications in biological science and medicine<ABSTRACT>Contents BIOLOGY AND INFORMATION Bioinformatics-A Rapidly Maturing Science Computers in Biology and Medicine The Virtual Doctor Biological Macromolecules as Information Carriers Proteins: From Sequence to Structure to Function DNA and RNA Structure DNA Cloning and Sequencing Genes, Taxonomy, and Evolution BIOLOGICAL DATABASES Biological Database Organization Public Databases Database Mining Tools GENOME ANALYSIS The Genomic Organization…[SEP]\"\"\"\n",
    "print(bert_classifier(test_input))"
   ]
  },
  {
   "cell_type": "markdown",
   "metadata": {
    "application/vnd.databricks.v1+cell": {
     "cellMetadata": {},
     "inputWidgets": {},
     "nuid": "5ed54577-039f-4c48-8e78-d7455e228162",
     "showTitle": false,
     "tableResultSettingsMap": {},
     "title": ""
    }
   },
   "source": [
    "### Example 5\n",
    "Highlights were the NN Model is wrong, `1122: Educational Data Mining and Learning Analytics` as likely the best match which BERT misses as well due to not understanding SGPA/CGPA terms. Quality of this Abstract is not that great."
   ]
  },
  {
   "cell_type": "code",
   "execution_count": 0,
   "metadata": {
    "application/vnd.databricks.v1+cell": {
     "cellMetadata": {
      "byteLimit": 2048000,
      "rowLimit": 10000
     },
     "inputWidgets": {},
     "nuid": "4ee30fb7-3ccc-4d2a-ba1c-021934f31cac",
     "showTitle": false,
     "tableResultSettingsMap": {},
     "title": ""
    }
   },
   "outputs": [],
   "source": [
    "test_input = \"\"\"[CLS]<TITLE>Machine Learning Approach to Predict SGPA and CGPA[SEP]<ASBTRACT>The prediction of SGPA and CGPA is beneficial to university students. Students will easily get an estimate of their final outcome from this project. As a result, the students will be able to brace themselves for a successful outcome. Students pass the day by participating in a variety of events. Students use social media sites such as Facebook, Instagram, and Twitter. They engage in various hobbies such as playing mobile games, listening to music, among others. As a result, they were able to move several times with these tasks. As a result, if a student spends so much time doing any of those things, she will not be able…[SEP]\"\"\"\n",
    "print(bert_classifier(test_input))"
   ]
  },
  {
   "cell_type": "code",
   "execution_count": 0,
   "metadata": {
    "application/vnd.databricks.v1+cell": {
     "cellMetadata": {
      "byteLimit": 2048000,
      "rowLimit": 10000
     },
     "inputWidgets": {},
     "nuid": "ff9db166-5b0c-41c9-b748-340d80fd9f0c",
     "showTitle": false,
     "tableResultSettingsMap": {},
     "title": ""
    }
   },
   "outputs": [],
   "source": [
    "import pickle\n",
    "inv_target_vocab = None\n",
    "with open(f\"/Volumes/openalex/works/models/topic_classifier_v1/inv_target_vocab.pkl\", \"rb\") as f:\n",
    "    inv_target_vocab = pickle.load(f)\n",
    "\n",
    "print(\"Length:\", len(inv_target_vocab))\n",
    "print(\"Sample Keys:\", list(inv_target_vocab.keys())[:5])\n",
    "print(\"Sample Values:\", list(inv_target_vocab.values())[:5])\n",
    "\n",
    "bert_classifier.model.config.label2id[\"3338: Effects of Beta-Adrenergic Agonists in Livestock\"]\n",
    "target_vocab[\"3338: Effects of Beta-Adrenergic Agonists in Livestock\"]\n",
    "\n"
   ]
  },
  {
   "cell_type": "code",
   "execution_count": 0,
   "metadata": {
    "application/vnd.databricks.v1+cell": {
     "cellMetadata": {
      "byteLimit": 2048000,
      "rowLimit": 10000
     },
     "inputWidgets": {},
     "nuid": "5b7e486d-d8c1-41c1-b10b-9e4ebbcea002",
     "showTitle": false,
     "tableResultSettingsMap": {},
     "title": ""
    }
   },
   "outputs": [],
   "source": [
    "# Step 1: Build topic_id → better description from target_vocab\n",
    "topic_id_to_desc = {}\n",
    "for idx, raw_label in inv_target_vocab.items():\n",
    "    topic_id, desc = raw_label.split(\":\", 1)\n",
    "    topic_id_to_desc[int(topic_id.strip())] = desc.strip()\n",
    "\n",
    "# Step 2: Update pipeline model.config.id2label\n",
    "new_id2label = {}\n",
    "\n",
    "for k, v in bert_classifier.model.config.id2label.items():\n",
    "    # Extract topic_id from value\n",
    "    try:\n",
    "        topic_id_str, _ = v.split(\":\", 1)\n",
    "        topic_id = int(topic_id_str.strip())\n",
    "\n",
    "        # Replace label if we have a better one\n",
    "        if topic_id in topic_id_to_desc:\n",
    "            new_id2label[k] = f\"{topic_id}: {topic_id_to_desc[topic_id]}\"\n",
    "        else:\n",
    "            new_id2label[k] = v  # fallback to original\n",
    "    except Exception:\n",
    "        new_id2label[k] = v  # fallback to original if parsing fails\n",
    "\n",
    "# Step 4: Print differences\n",
    "print(\"🔍 Differences between old and new id2label entries:\")\n",
    "for k in sorted(bert_classifier.model.config.id2label.keys()):\n",
    "    old_val = bert_classifier.model.config.id2label[k]\n",
    "    new_val = new_id2label[k]\n",
    "    if old_val != new_val:\n",
    "        print(f\"ID {k}:\\n  OLD: {old_val}\\n  NEW: {new_val}\\n\")\n",
    "\n",
    "# new_id2label"
   ]
  },
  {
   "cell_type": "markdown",
   "metadata": {
    "application/vnd.databricks.v1+cell": {
     "cellMetadata": {},
     "inputWidgets": {},
     "nuid": "8189aa28-c6c5-4239-8d16-09d1d0644a7b",
     "showTitle": false,
     "tableResultSettingsMap": {},
     "title": ""
    }
   },
   "source": [
    "### Load input data and cache"
   ]
  },
  {
   "cell_type": "code",
   "execution_count": 0,
   "metadata": {
    "application/vnd.databricks.v1+cell": {
     "cellMetadata": {
      "byteLimit": 2048000,
      "rowLimit": 10000
     },
     "inputWidgets": {},
     "nuid": "481cbf49-0954-4fbf-bfd3-d92bd4a58f8c",
     "showTitle": false,
     "tableResultSettingsMap": {},
     "title": ""
    }
   },
   "outputs": [],
   "source": [
    "df = spark.sql(\"SELECT * FROM openalex.works.works_topics_compare\").repartition(96).cache()\n",
    "print(f\"Input Row Count: {df.count()}\")"
   ]
  },
  {
   "cell_type": "markdown",
   "metadata": {
    "application/vnd.databricks.v1+cell": {
     "cellMetadata": {},
     "inputWidgets": {},
     "nuid": "ccc3adaf-f0bd-466a-9377-1d405419c40d",
     "showTitle": false,
     "tableResultSettingsMap": {},
     "title": ""
    }
   },
   "source": [
    "### Run inference"
   ]
  },
  {
   "cell_type": "code",
   "execution_count": 0,
   "metadata": {
    "application/vnd.databricks.v1+cell": {
     "cellMetadata": {
      "byteLimit": 2048000,
      "rowLimit": 10000
     },
     "inputWidgets": {},
     "nuid": "8ca0f2ad-dd3d-4859-b1f6-3d294fdecaa8",
     "showTitle": false,
     "tableResultSettingsMap": {
      "0": {
       "dataGridStateBlob": "{\"version\":1,\"tableState\":{\"columnPinning\":{\"left\":[\"#row_number#\"],\"right\":[]},\"columnSizing\":{\"abstract\":941,\"journal_name\":379},\"columnVisibility\":{}},\"settings\":{\"columns\":{\"lm_primary_topic_id\":{\"format\":{\"preset\":\"string-preset-url\"}}}},\"syncTimestamp\":1753454517399}",
       "filterBlob": null,
       "queryPlanFiltersBlob": null,
       "tableResultIndex": 0
      }
     },
     "title": ""
    }
   },
   "outputs": [],
   "source": [
    "import json\n",
    "from pyspark.sql.functions import *\n",
    "from pyspark.sql.types import *\n",
    "from topic_predictor import *\n",
    "import re\n",
    "\n",
    "def process_partition(rows, batch_size=12):\n",
    "    ModelCache.load()\n",
    "    model = ModelCache.model\n",
    "\n",
    "    batch_rows = []\n",
    "    batch_texts = []\n",
    "\n",
    "    def yield_batch(rows_batch, texts_batch):\n",
    "        try:\n",
    "            batch_outputs = model(texts_batch)\n",
    "        except Exception as e:\n",
    "            batch_outputs = [[] for _ in texts_batch]  # fail-safe: empty predictions\n",
    "\n",
    "        for row, output in zip(rows_batch, batch_outputs):\n",
    "            row_dict = row.asDict()\n",
    "            lm_output = [\n",
    "                {\n",
    "                    \"topic_id\": 10000 + int(topic[\"label\"].split(\":\")[0]),\n",
    "                    \"score\": float(topic[\"score\"])\n",
    "                }\n",
    "                for topic in output\n",
    "            ] if output else None\n",
    "\n",
    "            row_dict[\"lm_topics\"] = lm_output\n",
    "            yield row_dict\n",
    "\n",
    "    for row in rows:\n",
    "        if row is None:\n",
    "            continue\n",
    "\n",
    "        title = clean_title(row['title']) or \"\"\n",
    "        abstract = clean_abstract(row['abstract']) or \"\"\n",
    "        full_text = f\"<TITLE>{title.strip()}<ABSTRACT>{abstract.strip()}\"\n",
    "\n",
    "        batch_rows.append(row)\n",
    "        batch_texts.append(full_text)\n",
    "\n",
    "        if len(batch_texts) >= batch_size:\n",
    "            yield from yield_batch(batch_rows, batch_texts)\n",
    "            batch_rows = []\n",
    "            batch_texts = []\n",
    "\n",
    "    # Process remaining rows\n",
    "    if batch_rows:\n",
    "        yield from yield_batch(batch_rows, batch_texts)\n",
    "\n",
    "topic_struct = StructType([\n",
    "    StructField(\"topic_id\", IntegerType(), True),\n",
    "    StructField(\"score\", FloatType(), True)\n",
    "])\n",
    "\n",
    "output_schema = StructType([\n",
    "    StructField(\"work_id\", StringType(), True),\n",
    "    StructField(\"title\", StringType(), True),\n",
    "    StructField(\"abstract\", StringType(), True),\n",
    "    StructField(\"journal_name\", StringType(), True),\n",
    "    StructField(\"lm_topics\", ArrayType(topic_struct), True)\n",
    "])\n",
    "\n",
    "res_rdd = df.select(\"work_id\", \"title\", \"abstract\", \"journal_name\").rdd.mapPartitions(process_partition)\n",
    "res_df = spark.createDataFrame(res_rdd, output_schema).cache()\n",
    "print(f\"Output Row count: {res_df.count()}\")\n",
    "\n",
    "res_df = (res_df.select(\"work_id\", \"title\", \"abstract\", \"journal_name\", \"lm_topics\")\n",
    "                .withColumn(\"lm_primary_topic\", col(\"lm_topics\")[0])\n",
    "                .withColumn(\"created_timestamp\", current_timestamp()))\n",
    "display(res_df)"
   ]
  },
  {
   "cell_type": "code",
   "execution_count": 0,
   "metadata": {
    "application/vnd.databricks.v1+cell": {
     "cellMetadata": {
      "byteLimit": 2048000,
      "rowLimit": 10000
     },
     "inputWidgets": {},
     "nuid": "29b69577-110f-49d6-bf5d-b972d2df329b",
     "showTitle": false,
     "tableResultSettingsMap": {},
     "title": ""
    }
   },
   "outputs": [],
   "source": [
    "%python\n",
    "res_df.write.mode(\"overwrite\").saveAsTable(\"openalex.works.works_topics_compare_lm\")"
   ]
  },
  {
   "cell_type": "code",
   "execution_count": 0,
   "metadata": {
    "application/vnd.databricks.v1+cell": {
     "cellMetadata": {
      "byteLimit": 2048000,
      "implicitDf": true,
      "rowLimit": 10000
     },
     "inputWidgets": {},
     "nuid": "9f21c2a0-b12c-4352-818f-c0f832d13f79",
     "showTitle": false,
     "tableResultSettingsMap": {},
     "title": ""
    }
   },
   "outputs": [],
   "source": [
    "%sql \n",
    "SELECT topics.id from openalex.works.works_topics_compare"
   ]
  },
  {
   "cell_type": "markdown",
   "metadata": {
    "application/vnd.databricks.v1+cell": {
     "cellMetadata": {},
     "inputWidgets": {},
     "nuid": "bbf9e32b-e467-40ba-aee6-3cd54554a02a",
     "showTitle": false,
     "tableResultSettingsMap": {},
     "title": ""
    }
   },
   "source": [
    "## Combined Test Results - comparing existing `NN` Model and `LM` (google-bert fine-tuned with OpenAlex Topics)"
   ]
  },
  {
   "cell_type": "code",
   "execution_count": 0,
   "metadata": {
    "application/vnd.databricks.v1+cell": {
     "cellMetadata": {
      "byteLimit": 2048000,
      "implicitDf": true,
      "rowLimit": 10000
     },
     "inputWidgets": {},
     "nuid": "3c5e8b68-3e9b-41b3-801b-2c2276bf5918",
     "showTitle": false,
     "tableResultSettingsMap": {},
     "title": ""
    }
   },
   "outputs": [],
   "source": [
    "%sql\n",
    "WITH comparison AS (\n",
    "  SELECT\n",
    "    a.work_id,\n",
    "    a.primary_topic,\n",
    "    b.lm_primary_topic.topic_id AS lm_primary_topic,\n",
    "    a.topics,\n",
    "    b.lm_topics,\n",
    "    -- Boolean flag for primary_topic match\n",
    "    a.primary_topic.id = concat('https://openalex.org/T',b.lm_primary_topic.topic_id) AS primary_topic_match,\n",
    "    -- Boolean flag: is LM primary in the legacy topic list\n",
    "    array_contains(a.topics.id, concat('https://openalex.org/T',b.lm_primary_topic.topic_id))\n",
    "      AS lm_primary_in_topics,\n",
    "    a.title,\n",
    "    a.abstract\n",
    "  FROM openalex.works.works_topics_compare a\n",
    "  JOIN openalex.works.works_topics_compare_lm b\n",
    "    ON a.work_id = b.work_id\n",
    ")\n",
    "SELECT\n",
    "*\n",
    "FROM comparison TABLESAMPLE (1 PERCENT) \n",
    "where primary_topic_match = false \n",
    "and primary_topic.id not in (\"https://openalex.org/T10005\", \"https://openalex.org/T10232\")\n",
    "\n"
   ]
  },
  {
   "cell_type": "code",
   "execution_count": 0,
   "metadata": {
    "application/vnd.databricks.v1+cell": {
     "cellMetadata": {
      "byteLimit": 2048000,
      "implicitDf": true,
      "rowLimit": 10000
     },
     "inputWidgets": {},
     "nuid": "87e4608c-8a3f-445f-ac0b-b5ca42867967",
     "showTitle": false,
     "tableResultSettingsMap": {},
     "title": ""
    }
   },
   "outputs": [],
   "source": [
    "%sql\n",
    "WITH comparison AS (\n",
    "  SELECT\n",
    "    a.work_id,\n",
    "    a.primary_topic,\n",
    "    b.lm_primary_topic.topic_id AS lm_primary_topic,\n",
    "    a.topics,\n",
    "    b.lm_topics,\n",
    "    -- Boolean flag for primary_topic match\n",
    "    a.primary_topic.id = concat('https://openalex.org/T',b.lm_primary_topic.topic_id) AS primary_topic_match,\n",
    "    -- Boolean flag: is LM primary in the legacy topic list\n",
    "    array_contains(a.topics.id, concat('https://openalex.org/T',b.lm_primary_topic.topic_id))\n",
    "      AS lm_primary_in_topics,\n",
    "    a.title,\n",
    "    a.abstract\n",
    "  FROM openalex.works.works_topics_compare a\n",
    "  JOIN openalex.works.works_topics_compare_lm b\n",
    "    ON a.work_id = b.work_id\n",
    ")\n",
    "SELECT count(distinct primary_topic.id) as unique_topics, \n",
    "count(distinct lm_primary_topic) as unique_lm_topics \n",
    "FROM comparison"
   ]
  },
  {
   "cell_type": "code",
   "execution_count": 0,
   "metadata": {
    "application/vnd.databricks.v1+cell": {
     "cellMetadata": {
      "byteLimit": 2048000,
      "implicitDf": true,
      "rowLimit": 10000
     },
     "inputWidgets": {},
     "nuid": "5ae87f1f-d8b1-46a9-ac9e-fce149a29f4f",
     "showTitle": false,
     "tableResultSettingsMap": {
      "0": {
       "dataGridStateBlob": "{\"version\":1,\"tableState\":{\"columnPinning\":{\"left\":[\"#row_number#\"],\"right\":[]},\"columnSizing\":{\"match_percent\":129,\"match_count\":120,\"lm_primary_in_topics_count\":207,\"lm_primary_in_topics_percent\":220,\"total\":90},\"columnVisibility\":{}},\"settings\":{\"columns\":{}},\"syncTimestamp\":1753659010684}",
       "filterBlob": null,
       "queryPlanFiltersBlob": null,
       "tableResultIndex": 0
      }
     },
     "title": ""
    }
   },
   "outputs": [],
   "source": [
    "%sql\n",
    "WITH comparison AS (\n",
    "  SELECT\n",
    "    a.work_id,\n",
    "    a.primary_topic,\n",
    "    b.lm_primary_topic.topic_id AS lm_primary_topic,\n",
    "    a.topics,\n",
    "    b.lm_topics,\n",
    "    -- Boolean flag for primary_topic match\n",
    "    a.primary_topic.id = concat('https://openalex.org/T',b.lm_primary_topic.topic_id) AS primary_topic_match,\n",
    "    -- Boolean flag: is LM primary in the legacy topic list\n",
    "    array_contains(a.topics.id, concat('https://openalex.org/T',b.lm_primary_topic.topic_id))\n",
    "      AS lm_primary_in_topics,\n",
    "    a.title,\n",
    "    a.abstract\n",
    "  FROM openalex.works.works_topics_compare a\n",
    "  JOIN openalex.works.works_topics_compare_lm b\n",
    "    ON a.work_id = b.work_id\n",
    ")\n",
    "SELECT\n",
    "  COUNT(*) AS sample_size,\n",
    "  COUNT_IF(primary_topic_match) AS match_count,\n",
    "  ROUND(100.0 * COUNT_IF(primary_topic_match) / COUNT(*), 1) AS match_percent,\n",
    "  COUNT_IF(lm_primary_in_topics) AS lm_primary_in_topics_count,\n",
    "  ROUND(100.0 * COUNT_IF(lm_primary_in_topics) / COUNT(*), 1) AS lm_primary_in_topics_percent\n",
    "FROM comparison\n",
    "\n"
   ]
  },
  {
   "cell_type": "code",
   "execution_count": 0,
   "metadata": {
    "application/vnd.databricks.v1+cell": {
     "cellMetadata": {
      "byteLimit": 2048000,
      "implicitDf": true,
      "rowLimit": 10000
     },
     "inputWidgets": {},
     "nuid": "2a376129-abe9-4c2a-bf1f-11181d7bea5b",
     "showTitle": false,
     "tableResultSettingsMap": {
      "0": {
       "dataGridStateBlob": "{\"version\":1,\"tableState\":{\"columnPinning\":{\"left\":[\"#row_number#\"],\"right\":[]},\"columnSizing\":{},\"columnVisibility\":{}},\"settings\":{\"columns\":{\"lm_primary_topic_id\":{\"format\":{\"preset\":\"string-preset-url\"}}}},\"syncTimestamp\":1753454758918}",
       "filterBlob": null,
       "queryPlanFiltersBlob": null,
       "tableResultIndex": 0
      }
     },
     "title": ""
    }
   },
   "outputs": [],
   "source": [
    "%sql\n",
    "SELECT *, \n",
    "  CASE WHEN lm_primary_topic_id = primary_topic.id THEN 1 ELSE 0 END as is_primary_same\n",
    " FROM openalex.works.works_topics_compare_lm"
   ]
  },
  {
   "cell_type": "markdown",
   "metadata": {
    "application/vnd.databricks.v1+cell": {
     "cellMetadata": {},
     "inputWidgets": {},
     "nuid": "51408cd0-ec84-4a3a-9d46-2a5d22570f55",
     "showTitle": false,
     "tableResultSettingsMap": {},
     "title": ""
    }
   },
   "source": [
    "### Determine Metadata Mismatch for WORK IDS between PROD and Walden"
   ]
  },
  {
   "cell_type": "code",
   "execution_count": 0,
   "metadata": {
    "application/vnd.databricks.v1+cell": {
     "cellMetadata": {
      "byteLimit": 2048000,
      "implicitDf": true,
      "rowLimit": 10000
     },
     "inputWidgets": {},
     "nuid": "0952240b-c94b-44c0-bd7b-455e080d28b5",
     "showTitle": false,
     "tableResultSettingsMap": {
      "0": {
       "dataGridStateBlob": "{\"version\":1,\"tableState\":{\"columnPinning\":{\"left\":[\"#row_number#\"],\"right\":[]},\"columnSizing\":{},\"columnVisibility\":{}},\"settings\":{\"columns\":{}},\"syncTimestamp\":1753463406338}",
       "filterBlob": null,
       "queryPlanFiltersBlob": null,
       "tableResultIndex": 0
      }
     },
     "title": ""
    }
   },
   "outputs": [],
   "source": [
    "%sql\n",
    "SELECT max(id) FROM openalex.works.work_prod where doi is not null"
   ]
  },
  {
   "cell_type": "code",
   "execution_count": 0,
   "metadata": {
    "application/vnd.databricks.v1+cell": {
     "cellMetadata": {
      "byteLimit": 2048000,
      "implicitDf": true,
      "rowLimit": 10000
     },
     "inputWidgets": {},
     "nuid": "ae0af68a-1c18-478b-a487-efe55b2cb4b6",
     "showTitle": false,
     "tableResultSettingsMap": {
      "0": {
       "dataGridStateBlob": "{\"version\":1,\"tableState\":{\"columnPinning\":{\"left\":[\"#row_number#\"],\"right\":[]},\"columnSizing\":{},\"columnVisibility\":{}},\"settings\":{\"columns\":{}},\"syncTimestamp\":1753464351732}",
       "filterBlob": null,
       "queryPlanFiltersBlob": null,
       "tableResultIndex": 0
      }
     },
     "title": ""
    }
   },
   "outputs": [],
   "source": [
    "%sql\n",
    "--4,412,109,243 - Prod MAX(id) as of mid July\n",
    "--6,600,000,001 - Walden MIN(id) minted\n",
    "DESCRIBE HISTORY openalex.works.openalex_works"
   ]
  },
  {
   "cell_type": "code",
   "execution_count": 0,
   "metadata": {
    "application/vnd.databricks.v1+cell": {
     "cellMetadata": {
      "byteLimit": 2048000,
      "implicitDf": true,
      "rowLimit": 10000
     },
     "inputWidgets": {},
     "nuid": "7dde2042-f40a-43e8-964c-9f98b5510266",
     "showTitle": false,
     "tableResultSettingsMap": {
      "0": {
       "dataGridStateBlob": "{\"version\":1,\"tableState\":{\"columnPinning\":{\"left\":[\"#row_number#\"],\"right\":[]},\"columnSizing\":{},\"columnVisibility\":{}},\"settings\":{\"columns\":{\"doi\":{\"format\":{\"preset\":\"string-preset-url\"}},\"cited_by_api_url\":{\"format\":{\"preset\":\"string-preset-url\"}}}},\"syncTimestamp\":1753464559370}",
       "filterBlob": null,
       "queryPlanFiltersBlob": null,
       "tableResultIndex": 0
      }
     },
     "title": ""
    }
   },
   "outputs": [],
   "source": [
    "%sql\n",
    "SELECT * FROM openalex.works.openalex_works where id = 2127407834"
   ]
  },
  {
   "cell_type": "code",
   "execution_count": 0,
   "metadata": {
    "application/vnd.databricks.v1+cell": {
     "cellMetadata": {
      "byteLimit": 2048000,
      "implicitDf": true,
      "rowLimit": 10000
     },
     "inputWidgets": {},
     "nuid": "d6daf77c-8484-4198-b5c9-ba026420c7aa",
     "showTitle": false,
     "tableResultSettingsMap": {
      "0": {
       "dataGridStateBlob": "{\"version\":1,\"tableState\":{\"columnPinning\":{\"left\":[\"#row_number#\"],\"right\":[]},\"columnSizing\":{},\"columnVisibility\":{}},\"settings\":{\"columns\":{}},\"syncTimestamp\":1753465430277}",
       "filterBlob": null,
       "queryPlanFiltersBlob": null,
       "tableResultIndex": 0
      }
     },
     "title": ""
    }
   },
   "outputs": [],
   "source": [
    "%sql\n",
    "-- Count totals, intersects, and uniques with formatted output\n",
    "WITH\n",
    "prod_ids AS (\n",
    "  SELECT id FROM openalex.works.work_prod\n",
    "),\n",
    "walden_ids AS (\n",
    "  SELECT id FROM openalex.works.openalex_works\n",
    "),\n",
    "intersect_ids AS (\n",
    "  SELECT id FROM prod_ids\n",
    "  INTERSECT\n",
    "  SELECT id FROM walden_ids\n",
    ")\n",
    "SELECT\n",
    "  format_number((SELECT COUNT(*) FROM prod_ids), 0) AS prod_ids_total,\n",
    "  format_number((SELECT COUNT(*) FROM walden_ids), 0) AS walden_ids_total,\n",
    "  format_number((SELECT COUNT(*) FROM intersect_ids), 0) AS id_match,\n",
    "  format_number((SELECT COUNT(*) FROM prod_ids WHERE id NOT IN (SELECT id FROM intersect_ids)), 0) AS prod_only,\n",
    "  format_number((SELECT COUNT(*) FROM walden_ids WHERE id NOT IN (SELECT id FROM intersect_ids)), 0) AS walden_only;\n"
   ]
  },
  {
   "cell_type": "code",
   "execution_count": 0,
   "metadata": {
    "application/vnd.databricks.v1+cell": {
     "cellMetadata": {
      "byteLimit": 2048000,
      "implicitDf": true,
      "rowLimit": 10000
     },
     "inputWidgets": {},
     "nuid": "b0b65c12-8b8d-4096-8073-6c4bccd9fce8",
     "showTitle": false,
     "tableResultSettingsMap": {
      "0": {
       "dataGridStateBlob": "{\"version\":1,\"tableState\":{\"columnPinning\":{\"left\":[\"#row_number#\"],\"right\":[]},\"columnSizing\":{\"total_walden_prod_work_id_match\":250,\"matched_by_doi_or_both_null\":224,\"mismatched_doi_non_null\":201,\"only_prod_doi_is_null\":172,\"only_walden_doi_is_null\":188},\"columnVisibility\":{}},\"settings\":{\"columns\":{}},\"syncTimestamp\":1753467432324}",
       "filterBlob": null,
       "queryPlanFiltersBlob": null,
       "tableResultIndex": 0
      }
     },
     "title": ""
    }
   },
   "outputs": [],
   "source": [
    "%sql\n",
    "-- Count ID matches where DOI also matches\n",
    "WITH\n",
    "prod AS (\n",
    "  SELECT id, doi FROM openalex.works.work_prod -- from July 9 export.\n",
    "),\n",
    "walden AS (\n",
    "  SELECT id, ids.doi AS walden_doi FROM openalex.works.openalex_works\n",
    "),\n",
    "intersected AS (\n",
    "  SELECT\n",
    "    p.id,\n",
    "    p.doi AS prod_doi,\n",
    "    w.walden_doi\n",
    "  FROM prod p\n",
    "  JOIN walden w ON p.id = w.id\n",
    ")\n",
    "SELECT\n",
    "  format_number(COUNT(*), 0) AS total_walden_prod_work_id_match,\n",
    "  format_number(COUNT_IF(prod_doi = walden_doi OR (prod_doi IS NULL AND walden_doi IS NULL)), 0) AS matched_by_doi_or_both_null,\n",
    "  format_number(COUNT_IF(prod_doi != walden_doi), 0) AS mismatched_doi_non_null,\n",
    "  format_number(COUNT_IF(prod_doi IS NULL AND walden_doi IS NOT NULL), 0) AS only_prod_doi_is_null,\n",
    "  format_number(COUNT_IF(prod_doi IS NOT NULL AND walden_doi IS NULL), 0) AS only_walden_doi_is_null\n",
    "FROM intersected;\n"
   ]
  },
  {
   "cell_type": "code",
   "execution_count": 0,
   "metadata": {
    "application/vnd.databricks.v1+cell": {
     "cellMetadata": {
      "byteLimit": 2048000,
      "implicitDf": true,
      "rowLimit": 10000
     },
     "inputWidgets": {},
     "nuid": "f7d6e69f-842d-4523-a16b-51e2a1591589",
     "showTitle": false,
     "tableResultSettingsMap": {},
     "title": ""
    }
   },
   "outputs": [],
   "source": [
    "%sql\n",
    "select null = null"
   ]
  },
  {
   "cell_type": "code",
   "execution_count": 0,
   "metadata": {
    "application/vnd.databricks.v1+cell": {
     "cellMetadata": {
      "byteLimit": 2048000,
      "implicitDf": true,
      "rowLimit": 10000
     },
     "inputWidgets": {},
     "nuid": "3961fbfc-099e-4d6f-a8dc-d18dc628df77",
     "showTitle": false,
     "tableResultSettingsMap": {},
     "title": ""
    }
   },
   "outputs": [],
   "source": [
    "%sql\n",
    "-- Count ID matches where DOI also matches\n",
    "WITH\n",
    "prod AS (\n",
    "  SELECT id, doi FROM openalex.works.work_prod where doi is not null -- from July 9 export.\n",
    "),\n",
    "walden AS (\n",
    "  SELECT id, ids.doi AS walden_doi FROM openalex.works.openalex_works where ids.doi is not null\n",
    "),\n",
    "intersected AS (\n",
    "  SELECT\n",
    "    p.id,\n",
    "    p.doi AS prod_doi,\n",
    "    w.walden_doi\n",
    "  FROM prod p\n",
    "  JOIN walden w ON p.id = w.id\n",
    ")\n",
    "SELECT\n",
    "  format_number(COUNT(*), 0) AS total_id_intersection,\n",
    "  format_number(COUNT_IF(prod_doi = walden_doi), 0) AS matched_by_doi,\n",
    "  format_number(COUNT(*) - COUNT_IF(prod_doi = walden_doi), 0) AS mismatched_doi\n",
    "FROM intersected;\n"
   ]
  },
  {
   "cell_type": "code",
   "execution_count": 0,
   "metadata": {
    "application/vnd.databricks.v1+cell": {
     "cellMetadata": {
      "byteLimit": 2048000,
      "implicitDf": true,
      "rowLimit": 10000
     },
     "inputWidgets": {},
     "nuid": "8ac077a2-82c0-49da-a5ec-9fae2c74cd9e",
     "showTitle": false,
     "tableResultSettingsMap": {
      "0": {
       "dataGridStateBlob": "{\"version\":1,\"tableState\":{\"columnPinning\":{\"left\":[\"#row_number#\"],\"right\":[]},\"columnSizing\":{},\"columnVisibility\":{}},\"settings\":{\"columns\":{\"best_url\":{\"format\":{\"preset\":\"string-preset-url\"}},\"best_free_url\":{\"format\":{\"preset\":\"string-preset-url\"}}}},\"syncTimestamp\":1753464769263}",
       "filterBlob": null,
       "queryPlanFiltersBlob": null,
       "tableResultIndex": 0
      }
     },
     "title": ""
    }
   },
   "outputs": [],
   "source": [
    "%sql\n",
    "SELECT * FROM openalex.works.work_prod\n",
    "--where doi = '10.1128/jvi.00116-06'\n",
    "where id = 2127407834"
   ]
  },
  {
   "cell_type": "code",
   "execution_count": 0,
   "metadata": {
    "application/vnd.databricks.v1+cell": {
     "cellMetadata": {
      "byteLimit": 2048000,
      "implicitDf": true,
      "rowLimit": 10000
     },
     "inputWidgets": {},
     "nuid": "bea5a38a-90b1-4633-ba1c-3e036d8d87ac",
     "showTitle": false,
     "tableResultSettingsMap": {},
     "title": ""
    }
   },
   "outputs": [],
   "source": [
    "%sql\n",
    "CREATE OR REPLACE TABLE openalex.works.work_topics_frontfill CLUSTER BY (work_id) AS\n",
    "SELECT * FROM openalex.works.work_topics_backfill LIMIT 1000"
   ]
  },
  {
   "cell_type": "code",
   "execution_count": 0,
   "metadata": {
    "application/vnd.databricks.v1+cell": {
     "cellMetadata": {
      "byteLimit": 2048000,
      "implicitDf": true,
      "rowLimit": 10000
     },
     "inputWidgets": {},
     "nuid": "eb5512b5-a672-4aa7-9416-8495e0903838",
     "showTitle": false,
     "tableResultSettingsMap": {
      "0": {
       "dataGridStateBlob": "{\"version\":1,\"tableState\":{\"columnPinning\":{\"left\":[\"#row_number#\"],\"right\":[]},\"columnSizing\":{},\"columnVisibility\":{}},\"settings\":{\"columns\":{}},\"syncTimestamp\":1753763421811}",
       "filterBlob": null,
       "queryPlanFiltersBlob": null,
       "tableResultIndex": 0
      }
     },
     "title": ""
    }
   },
   "outputs": [],
   "source": [
    "%sql\n",
    "SELECT format_number(count(*),0) as total, \n",
    " format_number(count_if(topics is null or size(topics) = 0),0) as no_topics,\n",
    " format_number(count_if(length(abstract) > 0 \n",
    "  and (topics is null or size(topics) = 0)),0) as has_abstract_no_topics,\n",
    " format_number(count_if(length(fulltext) > 0 \n",
    "  and (topics is null or size(topics) = 0)),0) as has_fulltext_no_topics,\n",
    " format_number(count_if(length(fulltext) > 0 \n",
    "  and (topics is null or size(topics) = 0) and not(length(abstract) > 0)),0) as has_fulltext_no_abstract_no_topics  \n",
    "FROM openalex.works.openalex_works"
   ]
  },
  {
   "cell_type": "code",
   "execution_count": 0,
   "metadata": {
    "application/vnd.databricks.v1+cell": {
     "cellMetadata": {
      "byteLimit": 2048000,
      "implicitDf": true,
      "rowLimit": 10000
     },
     "inputWidgets": {},
     "nuid": "f01c6a16-2d55-4893-a1b3-7c36054de50d",
     "showTitle": false,
     "tableResultSettingsMap": {},
     "title": ""
    }
   },
   "outputs": [],
   "source": [
    "%sql\n",
    "select id, title, abstract, primary_location.source.display_name as journal_name\n",
    "from openalex.works.openalex_works where topics is null"
   ]
  }
 ],
 "metadata": {
  "application/vnd.databricks.v1+notebook": {
   "computePreferences": {
    "hardware": {
     "accelerator": null,
     "gpuPoolId": null,
     "memory": null
    }
   },
   "dashboards": [],
   "environmentMetadata": {
    "base_environment": "",
    "environment_version": "2"
   },
   "inputWidgetPreferences": null,
   "language": "python",
   "notebookMetadata": {
    "mostRecentlyExecutedCommandWithImplicitDF": {
     "commandId": 6897103367896708,
     "dataframes": [
      "_sqldf"
     ]
    },
    "pythonIndentUnit": 4
   },
   "notebookName": "topics_performance_test",
   "widgets": {}
  },
  "language_info": {
   "name": "python"
  }
 },
 "nbformat": 4,
 "nbformat_minor": 0
}
