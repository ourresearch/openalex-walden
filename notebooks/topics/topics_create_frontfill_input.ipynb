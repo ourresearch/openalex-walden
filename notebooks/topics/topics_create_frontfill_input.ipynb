{
 "cells": [
  {
   "cell_type": "code",
   "execution_count": 0,
   "metadata": {
    "application/vnd.databricks.v1+cell": {
     "cellMetadata": {
      "byteLimit": 2048000,
      "rowLimit": 10000
     },
     "inputWidgets": {},
     "nuid": "f4f944df-168a-4eae-a651-513c959c5f8c",
     "showTitle": false,
     "tableResultSettingsMap": {},
     "title": ""
    }
   },
   "outputs": [],
   "source": [
    "CREATE OR REPLACE TABLE openalex.works.work_topics_frontfill_input\n",
    "SELECT\n",
    "    id as work_id, title, abstract, \n",
    "    primary_location.source.display_name as journal_name\n",
    "FROM openalex.works.openalex_works w\n",
    "LEFT ANTI JOIN openalex.works.work_topics_frontfill lm ON w.id = lm.work_id -- changed from topics_key (too slow and not needed in incremental scenarios)\n",
    "WHERE ((length(title) > 15\n",
    "    AND length(abstract) > 30) OR length(title) > 50)\n",
    "    --AND primary_location.source.display_name IS NOT NULL \n",
    "    AND (topics is NULL OR size(topics) = 0);"
   ]
  },
  {
   "cell_type": "code",
   "execution_count": 0,
   "metadata": {
    "application/vnd.databricks.v1+cell": {
     "cellMetadata": {
      "byteLimit": 2048000,
      "rowLimit": 10000
     },
     "inputWidgets": {},
     "nuid": "774669f4-5d20-4510-94cc-f1dac820b43f",
     "showTitle": false,
     "tableResultSettingsMap": {},
     "title": ""
    }
   },
   "outputs": [],
   "source": [
    "OPTIMIZE openalex.works.work_topics_frontfill_input ZORDER BY (work_id);"
   ]
  },
  {
   "cell_type": "code",
   "execution_count": 0,
   "metadata": {
    "application/vnd.databricks.v1+cell": {
     "cellMetadata": {
      "byteLimit": 2048000,
      "rowLimit": 10000
     },
     "inputWidgets": {},
     "nuid": "214c577e-1c2a-46aa-95ed-916d378fc9ea",
     "showTitle": false,
     "tableResultSettingsMap": {
      "0": {
       "dataGridStateBlob": "{\"version\":1,\"tableState\":{\"columnPinning\":{\"left\":[\"#row_number#\"],\"right\":[]},\"columnSizing\":{},\"columnVisibility\":{}},\"settings\":{\"columns\":{}},\"syncTimestamp\":1761691796297}",
       "filterBlob": null,
       "queryPlanFiltersBlob": null,
       "tableResultIndex": 0
      }
     },
     "title": ""
    }
   },
   "outputs": [],
   "source": [
    "SELECT\n",
    "    count(*)\n",
    "    --id as work_id, title, abstract, \n",
    "    --primary_location.source.display_name as journal_name\n",
    "FROM openalex.works.openalex_works w\n",
    "LEFT ANTI JOIN openalex.works.work_topics_frontfill lm ON w.id = lm.work_id -- changed from topics_key (too slow and not needed in incremental scenarios)\n",
    "WHERE ((length(title) > 15\n",
    "    AND length(abstract) > 30) OR length(title) > 50)\n",
    "    --AND primary_location.source.display_name IS NOT NULL \n",
    "    AND (topics is NULL OR size(topics) = 0);"
   ]
  },
  {
   "cell_type": "code",
   "execution_count": 0,
   "metadata": {
    "application/vnd.databricks.v1+cell": {
     "cellMetadata": {},
     "inputWidgets": {},
     "nuid": "54a6a5db-21bc-4054-920f-61c39e141315",
     "showTitle": false,
     "tableResultSettingsMap": {},
     "title": ""
    }
   },
   "outputs": [],
   "source": []
  }
 ],
 "metadata": {
  "application/vnd.databricks.v1+notebook": {
   "computePreferences": null,
   "dashboards": [],
   "environmentMetadata": {
    "base_environment": "",
    "environment_version": "4"
   },
   "inputWidgetPreferences": null,
   "language": "sql",
   "notebookMetadata": {
    "pythonIndentUnit": 4
   },
   "notebookName": "topics_create_frontfill_input",
   "widgets": {}
  },
  "language_info": {
   "name": "sql"
  }
 },
 "nbformat": 4,
 "nbformat_minor": 0
}
