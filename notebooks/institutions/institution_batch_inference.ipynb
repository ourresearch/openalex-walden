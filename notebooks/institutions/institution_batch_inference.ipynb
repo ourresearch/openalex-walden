{
 "cells": [
  {
   "cell_type": "markdown",
   "metadata": {
    "application/vnd.databricks.v1+cell": {
     "cellMetadata": {},
     "inputWidgets": {},
     "nuid": "74a987ab-9734-473e-9abc-1a89c3947254",
     "showTitle": false,
     "tableResultSettingsMap": {},
     "title": ""
    }
   },
   "source": [
    "### Load model and tokenizer"
   ]
  },
  {
   "cell_type": "code",
   "execution_count": 0,
   "metadata": {
    "application/vnd.databricks.v1+cell": {
     "cellMetadata": {
      "byteLimit": 2048000,
      "rowLimit": 10000
     },
     "inputWidgets": {},
     "nuid": "94dedfcd-e836-41e2-9c40-9558f86d0f00",
     "showTitle": false,
     "tableResultSettingsMap": {},
     "title": ""
    }
   },
   "outputs": [],
   "source": [
    "import numpy as np\n",
    "import tensorflow as tf\n",
    "from tokenizers import Tokenizer\n",
    "import pickle\n",
    "import numpy as np\n",
    "\n",
    "import json\n",
    "\n",
    "class InstitutionModelCache:\n",
    "    model = None\n",
    "    tokenizer = None\n",
    "    idx_to_inst = None\n",
    "    inverted_idx_to_inst = None\n",
    "    full_affiliation_dict = None\n",
    "\n",
    "    @classmethod\n",
    "    def load(cls):\n",
    "        if cls.model is None:\n",
    "            cls.model = tf.saved_model.load(\"/Volumes/openalex/works/models/institution_tagger_v2/basic_model\")\n",
    "            cls.tokenizer = Tokenizer.from_file(\"/Volumes/openalex/works/models/institution_tagger_v2/basic_model_tokenizer\")\n",
    "\n",
    "            with open(\"/Volumes/openalex/works/models/institution_tagger_v2/affiliation_vocab.pkl\", \"rb\") as f:\n",
    "                cls.idx_to_inst = pickle.load(f)\n",
    "            cls.inverted_idx_to_inst = {v: k for k, v in cls.idx_to_inst.items()}\n",
    "\n",
    "            with open(\"/Volumes/openalex/works/models/institution_tagger_v2/full_affiliation_dict.pkl\", \"rb\") as f:\n",
    "                cls.full_affiliation_dict = pickle.load(f)\n",
    "\n",
    "def infer_institutions_batch(\n",
    "    raw_affiliations,\n",
    "    model_predict_fn,\n",
    "    tokenizer,\n",
    "    inverted_idx_to_inst,\n",
    "    full_affiliation_dict,\n",
    "    max_len=128,\n",
    "    top_n=5,\n",
    "    batch_size=20\n",
    "):\n",
    "    \"\"\"\n",
    "    Processes affiliation strings in batches and returns top-N institution metadata.\n",
    "\n",
    "    Args:\n",
    "        raw_affiliations (List[str]): Input affiliation strings\n",
    "        model_predict_fn: TensorFlow signature (e.g., model.signatures[\"serving_default\"])\n",
    "        tokenizer: Loaded HuggingFace `tokenizers.Tokenizer`\n",
    "        inverted_idx_to_inst (dict): Mapping from model index → institution_id\n",
    "        full_affiliation_dict (dict): Mapping from institution_id → metadata\n",
    "        max_len (int): Max token length\n",
    "        top_n (int): Number of top results to return\n",
    "        batch_size (int): Mini-batch size for inference\n",
    "\n",
    "    Returns:\n",
    "        List[List[dict]]: A list (one per input) of top-N metadata dicts\n",
    "    \"\"\"\n",
    "    def tokenize_and_pad(text):\n",
    "        ids = np.array(tokenizer.encode(text).ids[:max_len], dtype=np.int64)\n",
    "        padded = np.zeros(max_len, dtype=np.int64)\n",
    "        padded[:len(ids)] = ids\n",
    "        return padded\n",
    "\n",
    "    results = []\n",
    "    for i in range(0, len(raw_affiliations), batch_size):\n",
    "        batch = raw_affiliations[i:i+batch_size]\n",
    "        input_ids = np.array([tokenize_and_pad(aff) for aff in batch], dtype=np.int64)\n",
    "        input_tensor = tf.convert_to_tensor(input_ids, dtype=tf.int64)\n",
    "\n",
    "        logits = model_predict_fn(tokenized_aff_string_input=input_tensor)[\"cls\"].numpy()\n",
    "\n",
    "        for logit_vector in logits:\n",
    "            top_indices = logit_vector.argsort()[-top_n:][::-1]\n",
    "            top_matches = []\n",
    "            for idx in top_indices:\n",
    "                inst_id = inverted_idx_to_inst[idx]\n",
    "                metadata = full_affiliation_dict.get(inst_id, {})\n",
    "                top_matches.append({\n",
    "                    \"id\": inst_id,\n",
    "                    \"score\": float(logit_vector[idx]),\n",
    "                    \"display_name\": metadata.get(\"display_name\"),\n",
    "                    \"ror_id\": metadata.get(\"ror_id\"),\n",
    "                    \"other_names\": metadata.get(\"final_names\"),\n",
    "                    \"type\": metadata.get(\"types\"),\n",
    "                })\n",
    "            results.append(top_matches)\n",
    "\n",
    "    return results\n",
    "\n",
    "def process_affiliation_batch(buffer, predict_fn, tokenizer, inverted_idx_to_inst, full_affiliation_dict, batch_size, affiliation_column_name):\n",
    "    aff_batch = [r[affiliation_column_name] for r in buffer]\n",
    "    batch_results = infer_institutions_batch(\n",
    "        raw_affiliations=aff_batch,\n",
    "        model_predict_fn=predict_fn,\n",
    "        tokenizer=tokenizer,\n",
    "        inverted_idx_to_inst=inverted_idx_to_inst,\n",
    "        full_affiliation_dict=full_affiliation_dict,\n",
    "        batch_size=batch_size\n",
    "    )\n",
    "    for raw_aff, match_list in zip(aff_batch, batch_results):\n",
    "        yield {\n",
    "            \"raw_affiliation_string\": raw_aff,\n",
    "            \"model_response\": match_list  # Already a list of dicts\n",
    "        }\n",
    "\n",
    "def process_partition(rows, affiliation_column_name = \"raw_affiliation_string\", batch_size = 20):\n",
    "    # All happens inside the executor process now\n",
    "    InstitutionModelCache.load()\n",
    "    predict_fn = InstitutionModelCache.model.signatures[\"serving_default\"]\n",
    "    tokenizer = InstitutionModelCache.tokenizer\n",
    "    inverted_idx_to_inst = InstitutionModelCache.inverted_idx_to_inst\n",
    "    full_affiliation_dict = InstitutionModelCache.full_affiliation_dict\n",
    "\n",
    "    # Buffer for streaming batch\n",
    "    buffer = []\n",
    "    for row in rows:\n",
    "        buffer.append(row)\n",
    "        if len(buffer) == batch_size:\n",
    "            yield from process_affiliation_batch(buffer, predict_fn, tokenizer,\n",
    "                inverted_idx_to_inst, full_affiliation_dict, batch_size, affiliation_column_name)\n",
    "            buffer = []\n",
    "\n",
    "    if buffer:\n",
    "            yield from process_affiliation_batch(buffer, predict_fn, tokenizer,\n",
    "                inverted_idx_to_inst, full_affiliation_dict, batch_size, affiliation_column_name)"
   ]
  },
  {
   "cell_type": "markdown",
   "metadata": {
    "application/vnd.databricks.v1+cell": {
     "cellMetadata": {},
     "inputWidgets": {},
     "nuid": "6063654b-5b40-4bff-823a-9042762e5f4d",
     "showTitle": false,
     "tableResultSettingsMap": {},
     "title": ""
    }
   },
   "source": [
    "### Migrated, refactored and combined Jason's post-processing functions"
   ]
  },
  {
   "cell_type": "code",
   "execution_count": 0,
   "metadata": {
    "application/vnd.databricks.v1+cell": {
     "cellMetadata": {
      "byteLimit": 2048000,
      "rowLimit": 10000
     },
     "inputWidgets": {},
     "nuid": "98e9c115-2171-4ff4-9246-3d8a55a74e1c",
     "showTitle": false,
     "tableResultSettingsMap": {},
     "title": ""
    }
   },
   "outputs": [],
   "source": [
    "from typing import List, Optional\n",
    "from pyspark.sql.types import *\n",
    "from pyspark.sql.functions import *\n",
    "\n",
    "from affiliation_string_parsing import match_affiliation_to_institution_ids, process_current_affiliation_with_ids\n",
    "\n",
    "@udf(returnType=ArrayType(LongType()))\n",
    "def override_institution_ids(\n",
    "    raw_affiliation_string: str,\n",
    "    model_current_affs: Optional[List[int]]\n",
    ") -> List[int]:\n",
    "    # String-based matching\n",
    "    string_matches = match_affiliation_to_institution_ids(raw_affiliation_string)\n",
    "    \n",
    "    # Combine with model-inferred affiliations\n",
    "    combined_affs = (string_matches or []) + (model_current_affs or [])\n",
    "\n",
    "    # Disambiguation rules based on combined list\n",
    "    updated_affs = process_current_affiliation_with_ids(combined_affs, raw_affiliation_string)\n",
    "\n",
    "    # Final cleanup\n",
    "    filtered_affs = [x for x in updated_affs if x != -1] if len(updated_affs) > 1 else updated_affs\n",
    "\n",
    "    # Step 5: Skip override if it's identical to model's output\n",
    "    if set(filtered_affs) == set(model_current_affs or []):\n",
    "        return []\n",
    "\n",
    "    return filtered_affs or [-1]\n"
   ]
  },
  {
   "cell_type": "markdown",
   "metadata": {
    "application/vnd.databricks.v1+cell": {
     "cellMetadata": {},
     "inputWidgets": {},
     "nuid": "7e20277f-868c-412b-b7a1-35b11b0904f1",
     "showTitle": false,
     "tableResultSettingsMap": {},
     "title": ""
    }
   },
   "source": [
    "### Load data for processing"
   ]
  },
  {
   "cell_type": "code",
   "execution_count": 0,
   "metadata": {
    "application/vnd.databricks.v1+cell": {
     "cellMetadata": {
      "byteLimit": 2048000,
      "rowLimit": 10000
     },
     "inputWidgets": {},
     "nuid": "155b87e2-96df-445f-b881-c2302f662b39",
     "showTitle": false,
     "tableResultSettingsMap": {
      "0": {
       "dataGridStateBlob": "{\"version\":1,\"tableState\":{\"columnPinning\":{\"left\":[\"#row_number#\"],\"right\":[]},\"columnSizing\":{},\"columnVisibility\":{}},\"settings\":{\"columns\":{}},\"syncTimestamp\":1752539263969}",
       "filterBlob": null,
       "queryPlanFiltersBlob": null,
       "tableResultIndex": 0
      }
     },
     "title": ""
    }
   },
   "outputs": [],
   "source": [
    "df = spark.sql(\"\"\" \n",
    "        SELECT raw_affiliation_string\n",
    "        FROM openalex.institutions.affiliation_strings_lookup \n",
    "        WHERE institution_ids IS NULL and model_response is NULL\n",
    "        -- this really helps (if clustered by the column) with preventing Spark from sampling rows randomly and causing a shuffle\n",
    "        ORDER BY raw_affiliation_string \n",
    "        LIMIT 1000000;\n",
    "\"\"\").repartition(48).cache()\n",
    "\n",
    "print(f\"Total rows to process: {df.count()}\")\n",
    "display(df) # trigger repartitioning and caching\n",
    "\n",
    "# df = spark.createDataFrame([(\"Uniwersytet Mikołaja Kopernika w Toruniu, Klinika Medycyny Ratunkowej Collegium Medicum w Bydgoszczy\",)], \n",
    "#                            [\"raw_affiliation_string\"])"
   ]
  },
  {
   "cell_type": "markdown",
   "metadata": {
    "application/vnd.databricks.v1+cell": {
     "cellMetadata": {},
     "inputWidgets": {},
     "nuid": "8aaf03e5-4b45-4c3b-8e0d-39b2330a227b",
     "showTitle": false,
     "tableResultSettingsMap": {},
     "title": ""
    }
   },
   "source": [
    "### Run inference via `mapPartitions`"
   ]
  },
  {
   "cell_type": "code",
   "execution_count": 0,
   "metadata": {
    "application/vnd.databricks.v1+cell": {
     "cellMetadata": {
      "byteLimit": 2048000,
      "rowLimit": 10000
     },
     "inputWidgets": {},
     "nuid": "ea434e06-0391-45ab-891a-9eb0eda8c6d4",
     "showTitle": false,
     "tableResultSettingsMap": {
      "0": {
       "dataGridStateBlob": "{\"version\":1,\"tableState\":{\"columnPinning\":{\"left\":[\"#row_number#\"],\"right\":[]},\"columnSizing\":{\"raw_affiliation_string\":460},\"columnVisibility\":{}},\"settings\":{\"columns\":{}},\"syncTimestamp\":1752556323616}",
       "filterBlob": null,
       "queryPlanFiltersBlob": null,
       "tableResultIndex": 0
      }
     },
     "title": ""
    }
   },
   "outputs": [],
   "source": [
    "from pyspark.sql.types import *\n",
    "\n",
    "schema = StructType([\n",
    "    StructField(\"raw_affiliation_string\", StringType(), nullable=False),\n",
    "    StructField(\"model_response\", ArrayType(\n",
    "        StructType([\n",
    "            StructField(\"id\", StringType(), nullable=False),\n",
    "            StructField(\"score\", DoubleType(), nullable=False),\n",
    "            StructField(\"display_name\", StringType(), nullable=True),\n",
    "            StructField(\"ror_id\", StringType(), nullable=True),\n",
    "            StructField(\"other_names\", ArrayType(StringType()), nullable=True),\n",
    "            StructField(\"type\", StringType(), nullable=True),\n",
    "        ])\n",
    "    ), nullable=True)\n",
    "])\n",
    "\n",
    "res_rdd = df.rdd.mapPartitions(process_partition)\n",
    "res_df = spark.createDataFrame(res_rdd, schema).cache()\n",
    "res_df.createOrReplaceTempView(\"model_results\")\n",
    "\n",
    "print(f\"Total rows inferred: {res_df.count()}\")\n",
    "display(res_df)"
   ]
  },
  {
   "cell_type": "markdown",
   "metadata": {
    "application/vnd.databricks.v1+cell": {
     "cellMetadata": {},
     "inputWidgets": {},
     "nuid": "171542ab-c082-4db3-b01b-c9a1bdab12ee",
     "showTitle": false,
     "tableResultSettingsMap": {},
     "title": ""
    }
   },
   "source": [
    "### Merge `model_response` to lookup table "
   ]
  },
  {
   "cell_type": "code",
   "execution_count": 0,
   "metadata": {
    "application/vnd.databricks.v1+cell": {
     "cellMetadata": {
      "byteLimit": 2048000,
      "implicitDf": true,
      "rowLimit": 10000
     },
     "inputWidgets": {},
     "nuid": "71393c18-e850-4047-b8a7-d3943ca9477a",
     "showTitle": false,
     "tableResultSettingsMap": {},
     "title": ""
    }
   },
   "outputs": [],
   "source": [
    "%sql\n",
    "MERGE INTO openalex.institutions.affiliation_strings_lookup AS target\n",
    "USING model_results AS source\n",
    "ON target.model_response IS NULL \n",
    "  AND target.institution_ids IS NULL \n",
    "  AND target.raw_affiliation_string = source.raw_affiliation_string\n",
    "WHEN MATCHED THEN\n",
    "  UPDATE SET target.model_response = source.model_response, \n",
    "    target.source = 'walden',\n",
    "    target.updated_datetime = current_timestamp();"
   ]
  },
  {
   "cell_type": "markdown",
   "metadata": {
    "application/vnd.databricks.v1+cell": {
     "cellMetadata": {},
     "inputWidgets": {},
     "nuid": "9399b7f8-13e9-4aac-89f4-787f776c857c",
     "showTitle": false,
     "tableResultSettingsMap": {},
     "title": ""
    }
   },
   "source": [
    "### "
   ]
  },
  {
   "cell_type": "markdown",
   "metadata": {
    "application/vnd.databricks.v1+cell": {
     "cellMetadata": {
      "byteLimit": 2048000,
      "rowLimit": 10000
     },
     "inputWidgets": {},
     "nuid": "45d5f182-e179-4c65-afbe-bcf781b81c14",
     "showTitle": false,
     "tableResultSettingsMap": {},
     "title": ""
    }
   },
   "source": [
    "### Filter by `score > 0.1` but keep the first `institution_id` if filter removes all"
   ]
  },
  {
   "cell_type": "code",
   "execution_count": 0,
   "metadata": {
    "application/vnd.databricks.v1+cell": {
     "cellMetadata": {
      "byteLimit": 2048000,
      "implicitDf": true,
      "rowLimit": 10000
     },
     "inputWidgets": {},
     "nuid": "a8b7db1c-5ac8-4b54-906c-95258075e050",
     "showTitle": false,
     "tableResultSettingsMap": {
      "0": {
       "dataGridStateBlob": "{\"version\":1,\"tableState\":{\"columnPinning\":{\"left\":[\"#row_number#\"],\"right\":[]},\"columnSizing\":{},\"columnVisibility\":{}},\"settings\":{\"columns\":{}},\"syncTimestamp\":1752556956117}",
       "filterBlob": null,
       "queryPlanFiltersBlob": null,
       "tableResultIndex": 0
      }
     },
     "title": ""
    }
   },
   "outputs": [],
   "source": [
    "%sql\n",
    "with inst_ids AS (\n",
    "  SELECT\n",
    "     raw_affiliation_string,\n",
    "     transform(\n",
    "          filter(model_response, \n",
    "            x -> x.score > 0.1\n",
    "          ), \n",
    "          x -> x.id\n",
    "        ) AS scored_institution_ids,\n",
    "      model_response.id as model_ids\n",
    "  FROM openalex.institutions.affiliation_strings_lookup\n",
    "  WHERE model_response IS NOT NULL and source = 'walden'\n",
    "),\n",
    "selected_ids AS (\n",
    "  SELECT\n",
    "    raw_affiliation_string,\n",
    "    CASE WHEN size(scored_institution_ids) < 1 THEN SLICE(model_ids, 1, 1)\n",
    "      ELSE scored_institution_ids END AS institution_ids\n",
    "  FROM inst_ids\n",
    ")\n",
    "MERGE INTO openalex.institutions.affiliation_strings_lookup AS target\n",
    "USING selected_ids AS source\n",
    "ON target.institution_ids IS NULL\n",
    "  AND target.source = 'walden'\n",
    "  AND target.raw_affiliation_string = source.raw_affiliation_string\n",
    "WHEN MATCHED THEN\n",
    "  UPDATE SET target.institution_ids = source.institution_ids;\n",
    "-- select size(institution_ids), count(*) from selected_ids\n",
    "-- group by size(institution_ids)\n",
    "-- order by size(institution_ids)"
   ]
  },
  {
   "cell_type": "markdown",
   "metadata": {
    "application/vnd.databricks.v1+cell": {
     "cellMetadata": {},
     "inputWidgets": {},
     "nuid": "ec9d80ab-54b8-4ee3-a01d-6a509ba39f39",
     "showTitle": false,
     "tableResultSettingsMap": {},
     "title": ""
    }
   },
   "source": [
    "### Execute migrated `institution_ids` override logic"
   ]
  },
  {
   "cell_type": "code",
   "execution_count": 0,
   "metadata": {
    "application/vnd.databricks.v1+cell": {
     "cellMetadata": {
      "byteLimit": 2048000,
      "rowLimit": 10000
     },
     "inputWidgets": {},
     "nuid": "3506e2d8-17c9-4626-bb26-f640d103104e",
     "showTitle": false,
     "tableResultSettingsMap": {},
     "title": ""
    }
   },
   "outputs": [],
   "source": [
    "# Load the source table\n",
    "df = spark.sql(\"\"\"\n",
    "               SELECT * FROM openalex.institutions.affiliation_strings_lookup \n",
    "               WHERE model_response is not null \n",
    "                and institution_ids is not null\n",
    "                and institution_ids_override is null\n",
    "               \"\"\")\n",
    "\n",
    "# Apply UDF to compute updated overrides\n",
    "df_with_override = df.withColumn(\n",
    "    \"institution_ids_override\",\n",
    "    override_institution_ids(col(\"raw_affiliation_string\"), col(\"institution_ids\"))\n",
    ")\n",
    "\n",
    "# Only update rows where the override is non-null (optional)\n",
    "df_with_override.createOrReplaceTempView(\"override_updates\")\n",
    "\n",
    "# Perform the merge update\n",
    "df = spark.sql(\"\"\"\n",
    "    MERGE INTO openalex.institutions.affiliation_strings_lookup AS target\n",
    "    USING override_updates AS source\n",
    "    ON target.model_response IS NOT NULL AND target.raw_affiliation_string = source.raw_affiliation_string\n",
    "    WHEN MATCHED THEN\n",
    "      UPDATE SET target.institution_ids_override = source.institution_ids_override\n",
    "\"\"\")\n",
    "display(df)"
   ]
  },
  {
   "cell_type": "markdown",
   "metadata": {
    "application/vnd.databricks.v1+cell": {
     "cellMetadata": {},
     "inputWidgets": {},
     "nuid": "1c3b3b6c-46f4-402f-8451-ef27ba33a9e0",
     "showTitle": false,
     "tableResultSettingsMap": {},
     "title": ""
    }
   },
   "source": [
    "#### `institution_id` size distribution (similar to PROD)"
   ]
  },
  {
   "cell_type": "code",
   "execution_count": 0,
   "metadata": {
    "application/vnd.databricks.v1+cell": {
     "cellMetadata": {
      "byteLimit": 2048000,
      "implicitDf": true,
      "rowLimit": 10000
     },
     "inputWidgets": {},
     "nuid": "96f55a2f-cd5d-4fd2-ac4c-83bdd67802c3",
     "showTitle": false,
     "tableResultSettingsMap": {
      "0": {
       "dataGridStateBlob": "{\"version\":1,\"tableState\":{\"columnPinning\":{\"left\":[\"#row_number#\"],\"right\":[]},\"columnSizing\":{},\"columnVisibility\":{}},\"settings\":{\"columns\":{}},\"syncTimestamp\":1752536433368}",
       "filterBlob": null,
       "queryPlanFiltersBlob": null,
       "tableResultIndex": 0
      }
     },
     "title": ""
    }
   },
   "outputs": [],
   "source": [
    "%sql\n",
    "SELECT size(institution_ids), count(*) \n",
    "FROM openalex.institutions.affiliation_strings_lookup\n",
    "WHERE source = 'walden'\n",
    "GROUP by size(institution_ids)"
   ]
  },
  {
   "cell_type": "markdown",
   "metadata": {
    "application/vnd.databricks.v1+cell": {
     "cellMetadata": {},
     "inputWidgets": {},
     "nuid": "24eb4885-f810-473a-a360-49df5117bc1d",
     "showTitle": false,
     "tableResultSettingsMap": {},
     "title": ""
    }
   },
   "source": [
    "#### `institution_ids_override` size distribution after applying logic (5%+ affected)"
   ]
  },
  {
   "cell_type": "code",
   "execution_count": 0,
   "metadata": {
    "application/vnd.databricks.v1+cell": {
     "cellMetadata": {
      "byteLimit": 2048000,
      "implicitDf": true,
      "rowLimit": 10000
     },
     "inputWidgets": {},
     "nuid": "e363a53c-b354-4dc6-ac22-fc5d4e319b72",
     "showTitle": false,
     "tableResultSettingsMap": {
      "0": {
       "dataGridStateBlob": "{\"version\":1,\"tableState\":{\"columnPinning\":{\"left\":[\"#row_number#\"],\"right\":[]},\"columnSizing\":{},\"columnVisibility\":{}},\"settings\":{\"columns\":{}},\"syncTimestamp\":1752560519654}",
       "filterBlob": null,
       "queryPlanFiltersBlob": null,
       "tableResultIndex": 0
      }
     },
     "title": ""
    }
   },
   "outputs": [],
   "source": [
    "%sql\n",
    "SELECT size(institution_ids_override), count(*) \n",
    "FROM openalex.institutions.affiliation_strings_lookup\n",
    "WHERE source = 'walden'\n",
    "GROUP by size(institution_ids_override)"
   ]
  }
 ],
 "metadata": {
  "application/vnd.databricks.v1+notebook": {
   "computePreferences": {
    "hardware": {
     "accelerator": null,
     "gpuPoolId": null,
     "memory": null
    }
   },
   "dashboards": [],
   "environmentMetadata": {
    "base_environment": "",
    "environment_version": "3"
   },
   "inputWidgetPreferences": null,
   "language": "python",
   "notebookMetadata": {
    "mostRecentlyExecutedCommandWithImplicitDF": {
     "commandId": 8820340067968847,
     "dataframes": [
      "_sqldf"
     ]
    },
    "pythonIndentUnit": 4
   },
   "notebookName": "institution_batch_inference",
   "widgets": {}
  },
  "language_info": {
   "name": "python"
  }
 },
 "nbformat": 4,
 "nbformat_minor": 0
}
