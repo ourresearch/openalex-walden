{
 "cells": [
  {
   "cell_type": "code",
   "execution_count": 0,
   "metadata": {
    "application/vnd.databricks.v1+cell": {
     "cellMetadata": {
      "byteLimit": 2048000,
      "rowLimit": 10000
     },
     "inputWidgets": {},
     "nuid": "f3603e5a-f696-4985-adf3-3e547f941097",
     "showTitle": false,
     "tableResultSettingsMap": {},
     "title": ""
    }
   },
   "outputs": [],
   "source": [
    "-- large orgs that will be removed from lineage\n",
    "DECLARE OR REPLACE VARIABLE SUPER_SYSTEM_INSTITUTIONS ARRAY<BIGINT>;\n",
    "SET VARIABLE SUPER_SYSTEM_INSTITUTIONS = ARRAY(\n",
    "    2802694670,  -- Academic Center for Education, Culture and Research\n",
    "    4210123452,  -- Anahuac University Network\n",
    "    2800507078,  -- University of Alabama System\n",
    "    2802090665,  -- University of Alaska System\n",
    "    3132585960,  -- Arizona's Public Universities\n",
    "    3211005485,  -- Arkansas State University System\n",
    "    2799691083,  -- University of Arkansas System\n",
    "    4210151215,  -- Auburn University System\n",
    "    919953467,   -- California Community Colleges System\n",
    "    127339247,   -- California State University System\n",
    "    2803209242,  -- University of California System\n",
    "    174216632,   -- City University of New York\n",
    "    872248612,   -- Claremont Colleges\n",
    "    4210131357,  -- Colorado State University System\n",
    "    2802236040,  -- University of Colorado System\n",
    "    40372098,    -- DeVry University\n",
    "    17866349,    -- Université de Toulouse\n",
    "    3132770690,  -- Florida College System\n",
    "    2802646605,  -- Kentucky Community and Technical College System\n",
    "    2799601127,  -- Louisiana Community and Technical College System\n",
    "    107341208,   -- Louisiana State University System\n",
    "    4210128516,  -- Maine Community College System\n",
    "    2802089280,  -- Maricopa County Community College District\n",
    "    2801213986,  -- Montana University System\n",
    "    181231927,   -- National University of Ireland\n",
    "    4210151660,  -- Nebraska State College System\n",
    "    68260882,    -- Nevada System of Higher Education\n",
    "    4210127926,  -- North Dakota University System\n",
    "    2800216316,  -- Oklahoma State University System\n",
    "    2800918300,  -- Oregon University System\n",
    "    29957033,    -- Pennsylvania State System of Higher Education\n",
    "    2801333002,  -- Purdue University System\n",
    "    4210163361,  -- Rajabhat University System\n",
    "    2800204061,  -- Southern University System\n",
    "    2801649442,  -- State University System of Florida\n",
    "    1327163397,  -- State University of New York\n",
    "    3132885913,  -- Taiwan Comprehensive University System\n",
    "    2800756461,  -- Technical College System of Georgia\n",
    "    2801273398,  -- Texas State University System\n",
    "    4210088475,  -- Texas Tech University System\n",
    "    4210138650,  -- Universiti Teknologi MARA System\n",
    "    1289702989,  -- University System of Georgia\n",
    "    1317227900,  -- University System of Maryland\n",
    "    2800453862,  -- University System of New Hampshire\n",
    "    2802096936,  -- University System of Ohio\n",
    "    2802348453,  -- University System of Taiwan\n",
    "    2801365484,  -- Utah System of Higher Education\n",
    "    2802841742,  -- University of Massachusetts System\n",
    "    2802450327,  -- University of Nebraska System\n",
    "    4210158053,  -- University of North Carolina System\n",
    "    2802090120,  -- University of North Texas System\n",
    "    1331384533,  -- University of Hawaii System\n",
    "    2801525821,  -- University of Houston System\n",
    "    1304256225,  -- University of Wisconsin System\n",
    "    2799495847,  -- University of Tennessee System\n",
    "    2887101046,  -- University of South Carolina System\n",
    "    2800421839,  -- Government of the United States of America\n",
    "    56066814,    -- Virginia Community College System\n",
    "    16452829,    -- The University of Texas System\n",
    "    2801919071,  -- University of Illinois System\n",
    "    2800403580,  -- University of Minnesota System\n",
    "    173268674,   -- Texas A&M University System\n",
    "    4390039267,  -- Tokai National Higher Education and Research System\n",
    "    4777552      -- University of Missouri System\n",
    ");\n",
    "SELECT printf(\"SUPER_SYSTEM_INSTITUTIONS ARRAY initialized\") as declarations;"
   ]
  }
 ],
 "metadata": {
  "application/vnd.databricks.v1+notebook": {
   "computePreferences": null,
   "dashboards": [],
   "environmentMetadata": {
    "base_environment": "",
    "environment_version": "3"
   },
   "inputWidgetPreferences": null,
   "language": "sql",
   "notebookMetadata": {
    "pythonIndentUnit": 4
   },
   "notebookName": "variables",
   "widgets": {
    "env_suffix": {
     "currentValue": "",
     "nuid": "c2692448-e5c6-4456-b67c-94bd3795b204",
     "typedWidgetInfo": {
      "autoCreated": true,
      "defaultValue": "",
      "label": null,
      "name": "env_suffix",
      "options": {
       "widgetDisplayType": "Text",
       "validationRegex": null
      },
      "parameterDataType": "String"
     },
     "widgetInfo": {
      "widgetType": "text",
      "defaultValue": "",
      "label": null,
      "name": "env_suffix",
      "options": {
       "widgetType": "text",
       "autoCreated": true,
       "validationRegex": null
      }
     }
    }
   }
  },
  "language_info": {
   "name": "sql"
  }
 },
 "nbformat": 4,
 "nbformat_minor": 0
}
