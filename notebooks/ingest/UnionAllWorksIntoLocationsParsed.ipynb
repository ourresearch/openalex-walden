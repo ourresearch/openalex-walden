{
 "cells": [
  {
   "cell_type": "code",
   "execution_count": 0,
   "metadata": {
    "application/vnd.databricks.v1+cell": {
     "cellMetadata": {},
     "inputWidgets": {},
     "nuid": "81647cd1-fb1a-4700-81d0-4c1a7d7588f1",
     "showTitle": false,
     "tableResultSettingsMap": {},
     "title": ""
    }
   },
   "outputs": [],
   "source": [
    "%pip install /Volumes/openalex/default/libraries/openalex_dlt_utils-0.2.1-py3-none-any.whl"
   ]
  },
  {
   "cell_type": "code",
   "execution_count": 0,
   "metadata": {
    "application/vnd.databricks.v1+cell": {
     "cellMetadata": {},
     "inputWidgets": {},
     "nuid": "3880b645-74c4-49cb-b468-737c3cbde60c",
     "showTitle": false,
     "tableResultSettingsMap": {},
     "title": ""
    }
   },
   "outputs": [],
   "source": [
    "import dlt\n",
    "from functools import reduce\n",
    "from pyspark.sql import DataFrame\n",
    "from pyspark.sql import functions as F\n",
    "\n",
    "from openalex.utils.environment import *\n",
    "\n",
    "UPSTREAM_SOURCES = {\n",
    "    \"crossref\": f\"openalex{ENV_SUFFIX}.crossref.crossref_works\",\n",
    "    \"datacite\": f\"openalex{ENV_SUFFIX}.datacite.datacite_works\",\n",
    "    \"pdf\": f\"openalex{ENV_SUFFIX}.pdf.pdf_works\",\n",
    "    \"pubmed\": f\"openalex{ENV_SUFFIX}.pubmed.pubmed_works\",\n",
    "    \"repo\": f\"openalex{ENV_SUFFIX}.repo.repo_works\",\n",
    "    \"landing_page\": f\"openalex{ENV_SUFFIX}.landing_page.landing_page_works\",\n",
    "    \"mag\": f\"openalex{ENV_SUFFIX}.mag.mag_dlt_works\"\n",
    "}\n",
    "\n",
    "@dlt.table(\n",
    "    name=\"locations_parsed\",\n",
    "    comment=f\"Unified parsed works data in {ENV.upper()} environment from Crossref, DataCite, PDF, PubMed, Repo and Landing Page.\",\n",
    "    cluster_by=[\"provenance\", \"native_id\"],\n",
    "    table_properties={\n",
    "        \"delta.enableChangeDataFeed\": \"true\",\n",
    "        \"delta.autoOptimize.optimizeWrite\": \"true\",\n",
    "        \"delta.autoOptimize.autoCompact\": \"true\"\n",
    "    }\n",
    ")\n",
    "def locations_parsed():\n",
    "    # Read all sources with CDF enabled (DLT handles it internally)\n",
    "    dfs = [spark.readStream.table(src) for src in UPSTREAM_SOURCES.values()]\n",
    "    \n",
    "    # Union all sources\n",
    "    return reduce(lambda df1, df2: df1.unionByName(df2), dfs)\n"
   ]
  }
 ],
 "metadata": {
  "application/vnd.databricks.v1+notebook": {
   "computePreferences": null,
   "dashboards": [],
   "environmentMetadata": {
    "base_environment": "",
    "environment_version": "2"
   },
   "inputWidgetPreferences": null,
   "language": "python",
   "notebookMetadata": {
    "pythonIndentUnit": 4
   },
   "notebookName": "UnionAllWorksIntoLocationsParsed",
   "widgets": {}
  },
  "language_info": {
   "name": "python"
  }
 },
 "nbformat": 4,
 "nbformat_minor": 0
}
