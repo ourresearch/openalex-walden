{
 "cells": [
  {
   "cell_type": "code",
   "execution_count": 0,
   "metadata": {
    "application/vnd.databricks.v1+cell": {
     "cellMetadata": {},
     "inputWidgets": {},
     "nuid": "3880b645-74c4-49cb-b468-737c3cbde60c",
     "showTitle": false,
     "tableResultSettingsMap": {},
     "title": ""
    }
   },
   "outputs": [],
   "source": [
    "import dlt\n",
    "from functools import reduce\n",
    "from pyspark.sql import DataFrame\n",
    "from pyspark.sql import functions as F\n",
    "\n",
    "UPSTREAM_SOURCES = {\n",
    "    \"crossref\": \"openalex_dev.crossref.crossref_works\",\n",
    "    \"datacite\": \"openalex_dev.datacite.datacite_works\",\n",
    "    \"pdf\": \"openalex_dev.pdf.pdf_works\",\n",
    "    \"pubmed\": \"openalex_dev.pubmed.pubmed_works\",\n",
    "    \"repo\": \"openalex_dev.repo.repo_works\",\n",
    "    \"landing_page\": \"openalex_dev.landing_page.landing_page_works\"\n",
    "}\n",
    "\n",
    "@dlt.table(\n",
    "    name=\"locations_parsed\",\n",
    "    comment=\"Unified parsed works data from Crossref, DataCite, PDF, PubMed, Repo and Landing Page.\",\n",
    "    cluster_by=[\"provenance\", \"native_id\"],\n",
    "    table_properties={\n",
    "        \"delta.enableChangeDataFeed\": \"true\",\n",
    "        \"delta.autoOptimize.optimizeWrite\": \"true\",\n",
    "        \"delta.autoOptimize.autoCompact\": \"true\"\n",
    "    }\n",
    ")\n",
    "def locations_parsed():\n",
    "    dfs = []\n",
    "    for source in UPSTREAM_SOURCES.values():\n",
    "        df = (\n",
    "            spark.readStream\n",
    "                .option(\"readChangeFeed\", \"true\")\n",
    "                .table(source)\n",
    "                .filter(F.col(\"_change_type\").isin(\"insert\", \"update_postimage\"))\n",
    "                .drop(\"_change_type\", \"_commit_version\", \"_commit_timestamp\")\n",
    "        )\n",
    "        dfs.append(df)\n",
    "    \n",
    "    combined_df = reduce(lambda df1, df2: df1.unionByName(df2), dfs)\n",
    "    return combined_df\n"
   ]
  }
 ],
 "metadata": {
  "application/vnd.databricks.v1+notebook": {
   "computePreferences": null,
   "dashboards": [],
   "environmentMetadata": {
    "base_environment": "",
    "environment_version": "2"
   },
   "inputWidgetPreferences": null,
   "language": "python",
   "notebookMetadata": {
    "pythonIndentUnit": 4
   },
   "notebookName": "UnionAllWorksIntoLocationsParsed",
   "widgets": {}
  },
  "language_info": {
   "name": "python"
  }
 },
 "nbformat": 4,
 "nbformat_minor": 0
}
