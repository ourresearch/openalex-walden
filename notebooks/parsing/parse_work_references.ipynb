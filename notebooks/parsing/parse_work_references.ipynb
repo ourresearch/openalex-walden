{
 "cells": [
  {
   "cell_type": "markdown",
   "metadata": {
    "application/vnd.databricks.v1+cell": {
     "cellMetadata": {
      "byteLimit": 2048000,
      "rowLimit": 10000
     },
     "inputWidgets": {},
     "nuid": "f91c1a82-c7d3-4162-aea5-5e103607661b",
     "showTitle": false,
     "tableResultSettingsMap": {},
     "title": ""
    }
   },
   "source": [
    "### Create `openalex.works.work_references` table (if not exists)"
   ]
  },
  {
   "cell_type": "code",
   "execution_count": 0,
   "metadata": {
    "application/vnd.databricks.v1+cell": {
     "cellMetadata": {
      "byteLimit": 2048000,
      "implicitDf": true,
      "rowLimit": 10000
     },
     "inputWidgets": {},
     "nuid": "c48ed9a6-c9a9-4b91-a183-c96101b68e2d",
     "showTitle": false,
     "tableResultSettingsMap": {},
     "title": ""
    }
   },
   "outputs": [],
   "source": [
    "%sql\n",
    "-- looks like a few fields have been added after - citing_work_id, cited_work_id, etc.\n",
    "CREATE TABLE IF NOT EXISTS openalex.works.work_references \n",
    "CLUSTER BY AUTO\n",
    "AS\n",
    "  WITH references_exploded AS (\n",
    "    SELECT \n",
    "      native_id, \n",
    "      native_id_namespace,\n",
    "      work_id as citing_work_id,\n",
    "      provenance,\n",
    "      posexplode(references) as (ref_ind, ref)\n",
    "    FROM openalex.works.locations_mapped\n",
    "  )\n",
    "  SELECT\n",
    "    native_id, \n",
    "    native_id_namespace,\n",
    "    citing_work_id,\n",
    "    ref_ind,\n",
    "    ref.doi as doi,\n",
    "    ref.pmid as pmid,\n",
    "    ref.arxiv as arxiv,\n",
    "    ref.title as title,\n",
    "    ref.authors as authors,\n",
    "    ref.year as year,\n",
    "    ref.raw as raw,\n",
    "    provenance,\n",
    "    current_timestamp() as created_timestamp,\n",
    "    current_timestamp() as updated_timestamp\n",
    "  FROM references_exploded\n"
   ]
  },
  {
   "cell_type": "markdown",
   "metadata": {
    "application/vnd.databricks.v1+cell": {
     "cellMetadata": {
      "byteLimit": 2048000,
      "rowLimit": 10000
     },
     "inputWidgets": {},
     "nuid": "697be13a-4c28-4915-8100-2471f5e9be28",
     "showTitle": false,
     "tableResultSettingsMap": {},
     "title": ""
    }
   },
   "source": [
    "### Insert fresh records for Parsing into `work_references`"
   ]
  },
  {
   "cell_type": "code",
   "execution_count": 0,
   "metadata": {
    "application/vnd.databricks.v1+cell": {
     "cellMetadata": {
      "byteLimit": 2048000,
      "implicitDf": true,
      "rowLimit": 10000
     },
     "inputWidgets": {},
     "nuid": "567d7915-cb93-49dd-82fa-886cfc4fb6f5",
     "showTitle": false,
     "tableResultSettingsMap": {},
     "title": ""
    }
   },
   "outputs": [],
   "source": [
    "%sql\n",
    "-- Insert new references into work_references table\n",
    "-- Strategy: INSERT ONLY for new (citing_work_id, ref_ind) combinations\n",
    "-- Rationale: References don't change often; avoids data shift issues\n",
    "-- For full re-processing of a work, delete its references first, then insert\n",
    "-- 10/23 \n",
    "    -- 84,848,991 records inserted\n",
    "    -- 3,758,687,070 total records\n",
    "    -- 1,526,343,813 cited_work_id is NULL\n",
    "\n",
    "INSERT INTO openalex.works.work_references (\n",
    "  native_id,\n",
    "  native_id_namespace,\n",
    "  citing_work_id,\n",
    "  cited_work_id,\n",
    "  ref_ind,\n",
    "  doi,\n",
    "  pmid,\n",
    "  arxiv,\n",
    "  title,\n",
    "  normalized_title,\n",
    "  authors,\n",
    "  year,\n",
    "  raw,\n",
    "  parsed_doi,\n",
    "  parsed_first_author,\n",
    "  parsed_title,\n",
    "  title_author,\n",
    "  provenance,\n",
    "  created_timestamp,\n",
    "  updated_timestamp\n",
    ")\n",
    "WITH works_to_process AS (\n",
    "  SELECT \n",
    "    lm.native_id,\n",
    "    lm.native_id_namespace,\n",
    "    lm.work_id as citing_work_id,\n",
    "    lm.provenance,\n",
    "    posexplode(lm.references) as (ref_ind, ref)\n",
    "  FROM openalex.works.locations_mapped lm\n",
    "  LEFT ANTI JOIN openalex.works.work_references wr\n",
    "    ON lm.work_id = wr.citing_work_id\n",
    ")\n",
    "SELECT \n",
    "  native_id,\n",
    "  native_id_namespace,\n",
    "  citing_work_id,\n",
    "  CAST(null as BIGINT), -- cited_work_id (calculated later)\n",
    "  ref_ind,\n",
    "  ref.doi as doi,\n",
    "  ref.pmid as pmid,\n",
    "  ref.arxiv as arxiv,\n",
    "  ref.title as title,\n",
    "  CAST(null as STRING), -- normalized_title (calculated later)\n",
    "  ref.authors as authors,\n",
    "  ref.year as year,\n",
    "  ref.raw as raw,\n",
    "  CAST(null as STRING), -- parsed_doi (calculated later)\n",
    "  CAST(null as STRING), -- parsed_first_author (calculated later)\n",
    "  CAST(null as STRING), -- parsed_title (calculated later)\n",
    "  CAST(null as STRING), -- title_author (calculated later)\n",
    "  provenance,\n",
    "  current_timestamp() as created_timestamp,\n",
    "  current_timestamp() as updated_timestamp\n",
    "FROM works_to_process;\n",
    "-- For full re-processing of specific works, run this first:\n",
    "-- DELETE FROM openalex.works.work_references\n",
    "-- WHERE citing_work_id IN (SELECT work_id FROM openalex.works.locations_mapped WHERE ...);"
   ]
  },
  {
   "cell_type": "markdown",
   "metadata": {
    "application/vnd.databricks.v1+cell": {
     "cellMetadata": {
      "byteLimit": 2048000,
      "rowLimit": 10000
     },
     "inputWidgets": {},
     "nuid": "477d6ec4-4cc7-45d1-a780-d77e02612d4c",
     "showTitle": false,
     "tableResultSettingsMap": {},
     "title": ""
    }
   },
   "source": [
    "### Merge with `work_id_map.doi`"
   ]
  },
  {
   "cell_type": "code",
   "execution_count": 0,
   "metadata": {
    "application/vnd.databricks.v1+cell": {
     "cellMetadata": {
      "byteLimit": 2048000,
      "implicitDf": true,
      "rowLimit": 10000
     },
     "inputWidgets": {},
     "nuid": "6e3202e4-3891-4e5c-aae2-5bb478c2daaa",
     "showTitle": false,
     "tableResultSettingsMap": {},
     "title": ""
    }
   },
   "outputs": [],
   "source": [
    "%sql\n",
    "-- ============================================================\n",
    "-- STEP 2: Link references to cited works via DOI matching\n",
    "-- ============================================================\n",
    "-- Update cited_work_id and title_author for references where DOI matches work_id_map\n",
    "-- Prefer paper_id, fall back to id within work_id_map\n",
    "-- Only updates records where cited_work_id is still NULL\n",
    "-- 10/23 added 29,913,749 IDs for 84,848,991 new records, recovered 39,496 pmid\n",
    "\n",
    "MERGE INTO openalex.works.work_references AS target\n",
    "USING (\n",
    "  SELECT \n",
    "    LOWER(doi) as doi,\n",
    "    MIN(paper_id) as paper_id,\n",
    "    MIN(id) as work_id,\n",
    "    MIN(pmid) as pmid,\n",
    "    MAX(title_author) as title_author \n",
    "  FROM openalex.works.work_id_map\n",
    "  WHERE doi IS NOT NULL\n",
    "  GROUP BY lower(doi)\n",
    ") AS source\n",
    "ON lower(target.doi) = source.doi\n",
    "WHEN MATCHED AND target.cited_work_id IS NULL\n",
    "THEN UPDATE SET\n",
    "  target.cited_work_id = COALESCE(source.paper_id, source.work_id),\n",
    "  target.pmid = COALESCE(source.pmid, target.pmid), -- bring it in if exists\n",
    "  target.title_author = COALESCE(source.title_author, target.title_author), -- bring it in if exists\n",
    "  target.updated_timestamp = current_timestamp();"
   ]
  },
  {
   "cell_type": "markdown",
   "metadata": {
    "application/vnd.databricks.v1+cell": {
     "cellMetadata": {
      "byteLimit": 2048000,
      "rowLimit": 10000
     },
     "inputWidgets": {},
     "nuid": "b4bc567e-f032-46ff-9139-d860b77363af",
     "showTitle": false,
     "tableResultSettingsMap": {},
     "title": ""
    }
   },
   "source": [
    "### Merge with `work_id_map.pmid`"
   ]
  },
  {
   "cell_type": "code",
   "execution_count": 0,
   "metadata": {
    "application/vnd.databricks.v1+cell": {
     "cellMetadata": {
      "byteLimit": 2048000,
      "implicitDf": true,
      "rowLimit": 10000
     },
     "inputWidgets": {},
     "nuid": "63abcef0-acf8-4034-89fc-86c029220782",
     "showTitle": false,
     "tableResultSettingsMap": {},
     "title": ""
    }
   },
   "outputs": [],
   "source": [
    "%sql\n",
    "-- 10/23 added 11,311,131 IDs (where doi was null) for 84,848,991 new records \n",
    "MERGE INTO openalex.works.work_references AS target\n",
    "USING (\n",
    "  SELECT DISTINCT\n",
    "    lower(pmid) as pmid,\n",
    "    MIN(paper_id) AS paper_id,\n",
    "    MIN(id) as work_id,\n",
    "    MAX(title_author) as title_author\n",
    "  FROM openalex.works.work_id_map\n",
    "  WHERE pmid IS NOT NULL and doi is NULL -- keep doi is null because it otherwise adds a lot of erroneous refs\n",
    "  GROUP BY pmid\n",
    ") as source\n",
    "ON lower(target.pmid) = source.pmid\n",
    "WHEN MATCHED AND target.cited_work_id IS NULL\n",
    "THEN UPDATE SET\n",
    "  target.cited_work_id = COALESCE(source.paper_id, source.work_id),\n",
    "  target.title_author = COALESCE(source.title_author, target.title_author), -- bring it in if exists\n",
    "  target.updated_timestamp = current_timestamp();"
   ]
  },
  {
   "cell_type": "markdown",
   "metadata": {
    "application/vnd.databricks.v1+cell": {
     "cellMetadata": {
      "byteLimit": 2048000,
      "rowLimit": 10000
     },
     "inputWidgets": {},
     "nuid": "86d9e5cc-b5cd-4aba-b42f-b18f233432e2",
     "showTitle": false,
     "tableResultSettingsMap": {},
     "title": ""
    }
   },
   "source": [
    "### Merge with `work_id_map.title_author`"
   ]
  },
  {
   "cell_type": "code",
   "execution_count": 0,
   "metadata": {
    "application/vnd.databricks.v1+cell": {
     "cellMetadata": {
      "byteLimit": 2048000,
      "rowLimit": 10000
     },
     "inputWidgets": {},
     "nuid": "2981664c-f416-47d0-a2de-34518fbf8d3c",
     "showTitle": false,
     "tableResultSettingsMap": {},
     "title": ""
    }
   },
   "outputs": [],
   "source": [
    "%sql\n",
    "-- 10/23 added 11,311,131 IDs for 84,848,991 new records\n",
    "MERGE INTO openalex.works.work_references AS target\n",
    "USING (\n",
    "  SELECT DISTINCT\n",
    "    lower(pmid) as pmid,\n",
    "    MIN(paper_id) AS paper_id,\n",
    "    MIN(id) as work_id,\n",
    "    MAX(title_author) as title_author\n",
    "  FROM openalex.works.work_id_map\n",
    "  WHERE pmid IS NOT NULL AND doi is NULL\n",
    "  GROUP BY pmid\n",
    ") as source\n",
    "ON lower(target.pmid) = source.pmid\n",
    "WHEN MATCHED AND target.cited_work_id IS NULL\n",
    "THEN UPDATE SET\n",
    "  target.cited_work_id = COALESCE(source.paper_id, source.work_id),\n",
    "  target.title_author = COALESCE(source.title_author, target.title_author), -- bring it in if exists\n",
    "  target.updated_timestamp = current_timestamp();"
   ]
  },
  {
   "cell_type": "code",
   "execution_count": 0,
   "metadata": {
    "application/vnd.databricks.v1+cell": {
     "cellMetadata": {
      "byteLimit": 2048000,
      "rowLimit": 10000
     },
     "inputWidgets": {},
     "nuid": "cbba8c1e-5126-4fd3-a3c5-aa26a15ad819",
     "showTitle": false,
     "tableResultSettingsMap": {},
     "title": ""
    }
   },
   "outputs": [],
   "source": [
    "%sql\n",
    "  SELECT provenance, native_id, native_id_namespace, references\n",
    "  FROM openalex.works.locations_parsed\n",
    "  WHERE references is not null and size(references) > 0\n",
    "  AND NOT(size(references) = 1 and references[0].doi is null \n",
    "    and references[0].pmid is null and references[0].title is null and references[0].arxiv is null and references[0].raw is null)"
   ]
  },
  {
   "cell_type": "code",
   "execution_count": 0,
   "metadata": {
    "application/vnd.databricks.v1+cell": {
     "cellMetadata": {
      "byteLimit": 2048000,
      "implicitDf": true,
      "rowLimit": 10000
     },
     "inputWidgets": {},
     "nuid": "b15fbea8-57e4-482c-9d62-05a91ac900d1",
     "showTitle": false,
     "tableResultSettingsMap": {
      "0": {
       "dataGridStateBlob": "{\"version\":1,\"tableState\":{\"columnPinning\":{\"left\":[\"#row_number#\"],\"right\":[]},\"columnSizing\":{\"provenance\":108,\"total_record_count\":155,\"total_reference_count\":170,\"total_dois\":104,\"total_pmids\":114,\"total_titles\":104,\"total_raw_strings\":144,\"total_authors\":117,\"has_any_dois\":119,\"has_any_pmids\":132,\"has_any_titles\":126},\"columnVisibility\":{}},\"settings\":{\"columns\":{}},\"syncTimestamp\":1761243781775}",
       "filterBlob": null,
       "queryPlanFiltersBlob": null,
       "tableResultIndex": 0
      }
     },
     "title": ""
    }
   },
   "outputs": [],
   "source": [
    "%sql\n",
    "WITH filtered_refs AS (\n",
    "  SELECT provenance, native_id, native_id_namespace, \n",
    "    references,\n",
    "    size(array_compact(references.doi)) as num_dois,\n",
    "    size(array_compact(references.pmid)) as num_pmids,\n",
    "    size(array_compact(references.title)) as num_titles,\n",
    "    size(array_compact(references.raw)) as num_raw,\n",
    "    size(array_compact(references.authors)) as num_authors\n",
    "  FROM openalex.works.locations_parsed\n",
    "  WHERE references is not null and size(references) > 0\n",
    "  AND NOT(size(references) = 1 and references[0].doi is null \n",
    "    and references[0].pmid is null and references[0].title is null \n",
    "    and references[0].arxiv is null and references[0].raw is null)\n",
    ")\n",
    "SELECT provenance,\n",
    "  format_number(count(*),0) as total_record_count,\n",
    "  format_number(sum(size(references)),0) as total_reference_count,\n",
    "  format_number(sum(num_dois),0) as total_dois, \n",
    "  format_number(sum(num_pmids),0) as total_pmids, \n",
    "  format_number(sum(num_titles),0) as total_titles,   \n",
    "  format_number(sum(num_authors),0) as total_authors,\n",
    "  format_number(sum(num_raw),0) as total_raw_strings,  \n",
    "  format_number(count_if(num_dois > 0),0) as has_any_dois,\n",
    "  format_number(count_if(num_pmids > 0),0) as has_any_pmids, \n",
    "  format_number(count_if(num_titles > 0),0) as has_any_titles,  \n",
    "  format_number(count_if(num_authors > 0),0) as has_any_authors,\n",
    "  format_number(count_if(num_raw > 0),0) as has_any_raw_strings\n",
    "FROM filtered_refs group by provenance order by 2 desc"
   ]
  },
  {
   "cell_type": "markdown",
   "metadata": {
    "application/vnd.databricks.v1+cell": {
     "cellMetadata": {
      "byteLimit": 2048000,
      "rowLimit": 10000
     },
     "inputWidgets": {},
     "nuid": "ee466efb-76a4-4a0a-9820-293eeb4dfccb",
     "showTitle": false,
     "tableResultSettingsMap": {},
     "title": ""
    }
   },
   "source": [
    "### Aggregate before `openalex_works`"
   ]
  },
  {
   "cell_type": "code",
   "execution_count": 0,
   "metadata": {
    "application/vnd.databricks.v1+cell": {
     "cellMetadata": {
      "byteLimit": 2048000,
      "rowLimit": 10000
     },
     "inputWidgets": {},
     "nuid": "b0a15919-09c3-4c0f-856c-8e8b32f59e94",
     "showTitle": false,
     "tableResultSettingsMap": {},
     "title": ""
    }
   },
   "outputs": [],
   "source": [
    "%sql\n",
    "CREATE OR REPLACE TABLE openalex.works.referenced_works\n",
    "SELECT\n",
    "  citing_work_id,\n",
    "  TRANSFORM(\n",
    "    SORT_ARRAY(COLLECT_LIST(STRUCT(ref_ind, cited_work_id))),\n",
    "    x -> x.cited_work_id\n",
    "  ) AS referenced_works\n",
    "FROM openalex.works.work_references\n",
    "WHERE cited_work_id IS NOT NULL\n",
    "GROUP BY citing_work_id;\n",
    "OPTIMIZE openalex.works.referenced_works ZORDER BY (citing_work_id);"
   ]
  }
 ],
 "metadata": {
  "application/vnd.databricks.v1+notebook": {
   "computePreferences": {
    "hardware": {
     "accelerator": null,
     "gpuPoolId": null,
     "memory": null
    }
   },
   "dashboards": [],
   "environmentMetadata": {
    "base_environment": "",
    "environment_version": "3"
   },
   "inputWidgetPreferences": null,
   "language": "sql",
   "notebookMetadata": {
    "mostRecentlyExecutedCommandWithImplicitDF": {
     "commandId": 4588904806706811,
     "dataframes": [
      "_sqldf"
     ]
    },
    "pythonIndentUnit": 4
   },
   "notebookName": "parse_work_references",
   "widgets": {}
  },
  "language_info": {
   "name": "sql"
  }
 },
 "nbformat": 4,
 "nbformat_minor": 0
}
