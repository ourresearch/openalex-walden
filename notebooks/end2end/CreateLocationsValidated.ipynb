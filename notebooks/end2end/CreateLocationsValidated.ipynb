{
 "cells": [
  {
   "cell_type": "markdown",
   "metadata": {
    "application/vnd.databricks.v1+cell": {
     "cellMetadata": {},
     "inputWidgets": {},
     "nuid": "0878b48a-6998-4e86-80b7-8d4eb21cee0a",
     "showTitle": false,
     "tableResultSettingsMap": {},
     "title": ""
    }
   },
   "source": [
    "### Remove incomplete or faulty locations from `locations_w_sources`"
   ]
  },
  {
   "cell_type": "markdown",
   "metadata": {
    "application/vnd.databricks.v1+cell": {
     "cellMetadata": {},
     "inputWidgets": {},
     "nuid": "3760428f-2f15-46bb-9a2f-5fa687e8fdbf",
     "showTitle": false,
     "tableResultSettingsMap": {},
     "title": ""
    }
   },
   "source": [
    "#### Count locations to remove"
   ]
  },
  {
   "cell_type": "code",
   "execution_count": 0,
   "metadata": {
    "application/vnd.databricks.v1+cell": {
     "cellMetadata": {
      "byteLimit": 2048000,
      "rowLimit": 10000
     },
     "inputWidgets": {},
     "nuid": "3f08cea9-cb2d-40c4-aca1-f8834c0bd962",
     "showTitle": false,
     "tableResultSettingsMap": {
      "0": {
       "dataGridStateBlob": "{\"version\":1,\"tableState\":{\"columnPinning\":{\"left\":[\"#row_number#\"],\"right\":[]},\"columnSizing\":{},\"columnVisibility\":{}},\"settings\":{\"columns\":{}},\"syncTimestamp\":1755729439031}",
       "filterBlob": null,
       "queryPlanFiltersBlob": null,
       "tableResultIndex": 0
      }
     },
     "title": ""
    }
   },
   "outputs": [],
   "source": [
    "SELECT \n",
    "  s.display_name,\n",
    "  s.publisher,\n",
    "  source_id,\n",
    "  format_number(count(*),0) as locations_count\n",
    "FROM openalex.works.locations_w_sources l\n",
    "JOIN openalex.sources.sources s\n",
    "ON s.id = l.source_id\n",
    "WHERE source_id IN ( \n",
    "  --@TODO add more sources, finer-grained logic as we get more exact requirements\n",
    "  4306402117,   -- City of Paris\n",
    "  4377196106,   -- Internet Archive\n",
    "  4377196282,   -- Figshare\n",
    "  4306400108    -- Library Stack\n",
    ") \n",
    "GROUP BY s.display_name, s.publisher, source_id"
   ]
  },
  {
   "cell_type": "code",
   "execution_count": 0,
   "metadata": {
    "application/vnd.databricks.v1+cell": {
     "cellMetadata": {
      "byteLimit": 2048000,
      "rowLimit": 10000
     },
     "inputWidgets": {},
     "nuid": "446be927-0140-4c63-9438-4ef9d2166541",
     "showTitle": false,
     "tableResultSettingsMap": {
      "0": {
       "dataGridStateBlob": "{\"version\":1,\"tableState\":{\"columnPinning\":{\"left\":[\"#row_number#\"],\"right\":[]},\"columnSizing\":{},\"columnVisibility\":{}},\"settings\":{\"columns\":{}},\"syncTimestamp\":1755735172167}",
       "filterBlob": null,
       "queryPlanFiltersBlob": null,
       "tableResultIndex": 0
      }
     },
     "title": ""
    }
   },
   "outputs": [],
   "source": [
    "CREATE OR REPLACE TABLE identifier('openalex' || :env_suffix || '.works.locations_validated')\n",
    "CLUSTER BY AUTO\n",
    "AS (\n",
    "  SELECT * FROM identifier('openalex' || :env_suffix || '.works.locations_w_sources')\n",
    "  WHERE source_id not in (\n",
    "    4306402117,   -- City of Paris\n",
    "    4377196106,   -- Internet Archive\n",
    "    4377196282,   -- Figshare\n",
    "    4306400108    -- Library Stack\n",
    "  )\n",
    ")"
   ]
  }
 ],
 "metadata": {
  "application/vnd.databricks.v1+notebook": {
   "computePreferences": null,
   "dashboards": [],
   "environmentMetadata": {
    "base_environment": "",
    "environment_version": "2"
   },
   "inputWidgetPreferences": null,
   "language": "sql",
   "notebookMetadata": {
    "pythonIndentUnit": 4
   },
   "notebookName": "CreateLocationsValidated",
   "widgets": {
    "env_suffix": {
     "currentValue": "",
     "nuid": "982c8561-ac60-417f-93aa-72e952c74b53",
     "typedWidgetInfo": {
      "autoCreated": true,
      "defaultValue": "",
      "label": null,
      "name": "env_suffix",
      "options": {
       "widgetDisplayType": "Text",
       "validationRegex": null
      },
      "parameterDataType": "String"
     },
     "widgetInfo": {
      "widgetType": "text",
      "defaultValue": "",
      "label": null,
      "name": "env_suffix",
      "options": {
       "widgetType": "text",
       "autoCreated": true,
       "validationRegex": null
      }
     }
    }
   }
  },
  "language_info": {
   "name": "sql"
  }
 },
 "nbformat": 4,
 "nbformat_minor": 0
}
