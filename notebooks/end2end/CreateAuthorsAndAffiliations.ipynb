{
 "cells": [
  {
   "cell_type": "markdown",
   "metadata": {
    "application/vnd.databricks.v1+cell": {
     "cellMetadata": {},
     "inputWidgets": {},
     "nuid": "2f2ba9cf-1ad7-433f-ba67-54f1afe9cc8a",
     "showTitle": false,
     "tableResultSettingsMap": {},
     "title": ""
    }
   },
   "source": [
    "### Creates `openalex.works.authors_and_affiliations` in Walden End to End workflow"
   ]
  },
  {
   "cell_type": "code",
   "execution_count": 0,
   "metadata": {
    "application/vnd.databricks.v1+cell": {
     "cellMetadata": {
      "byteLimit": 2048000,
      "rowLimit": 10000
     },
     "inputWidgets": {},
     "nuid": "8db82f32-47cd-41d6-a45f-b32bbae675b1",
     "showTitle": false,
     "tableResultSettingsMap": {},
     "title": ""
    }
   },
   "outputs": [],
   "source": [
    "CREATE OR REPLACE TABLE identifier('openalex' || :env_suffix || '.works.authors_and_affiliations')\n",
    "CLUSTER BY (work_id) AS (\n",
    "\n",
    "WITH base AS (\n",
    "    SELECT\n",
    "        native_id,\n",
    "        work_id,\n",
    "        authors,\n",
    "        priority,\n",
    "        get(authors.affiliations.name, 0) IS NOT NULL AS affiliations_exist,\n",
    "        EXISTS(authors.is_corresponding, x -> x = TRUE) AS is_corresponding_exists,\n",
    "        ROW_NUMBER() OVER (\n",
    "            PARTITION BY work_id\n",
    "            ORDER BY priority ASC, hash(to_json(authors)) ASC\n",
    "        ) AS r\n",
    "    FROM identifier('openalex' || :env_suffix || '.works.locations_mapped')\n",
    "    LEFT JOIN openalex.system.priority_table USING (provenance)\n",
    "    WHERE authors_exist\n",
    "),\n",
    "\n",
    "best_authors_exploded AS (\n",
    "    SELECT\n",
    "        work_id,\n",
    "        array_size(authors) AS best_author_list_len,\n",
    "        posexplode(authors) AS (original_author_order, best_author_list_exploded),\n",
    "        best_author_list_exploded.author_key AS author_key\n",
    "    FROM base\n",
    "    WHERE r = 1\n",
    "),\n",
    "\n",
    "affiliations_base AS (\n",
    "    SELECT\n",
    "        work_id,\n",
    "        explode(authors) AS authors_exploded,\n",
    "        authors_exploded.affiliations,\n",
    "        authors_exploded.author_key AS author_key,\n",
    "        priority\n",
    "    FROM base\n",
    "    WHERE affiliations_exist\n",
    "),\n",
    "\n",
    "affiliations_staging AS (\n",
    "    SELECT\n",
    "        *,\n",
    "        RANK() OVER (\n",
    "            PARTITION BY work_id, author_key\n",
    "            ORDER BY priority ASC, author_key ASC\n",
    "        ) AS r\n",
    "    FROM affiliations_base\n",
    "),\n",
    "\n",
    "affiliations AS (\n",
    "    SELECT\n",
    "        work_id,\n",
    "        author_key,\n",
    "        affiliations\n",
    "    FROM affiliations_staging\n",
    "    WHERE r = 1\n",
    "),\n",
    "\n",
    "is_corresponding_base AS (\n",
    "    SELECT\n",
    "        work_id,\n",
    "        authors,\n",
    "        explode(filter(authors, x -> x.is_corresponding = TRUE)) AS corresponding_author,\n",
    "        corresponding_author.author_key AS author_key,\n",
    "        corresponding_author.is_corresponding AS is_corresponding_landing_page\n",
    "    FROM base\n",
    "    WHERE is_corresponding_exists\n",
    "),\n",
    "\n",
    "is_corresponding AS (\n",
    "    SELECT\n",
    "        work_id,\n",
    "        author_key,\n",
    "        is_corresponding_landing_page\n",
    "    FROM is_corresponding_base\n",
    "),\n",
    "\n",
    "work_has_corresponding_author AS (\n",
    "    SELECT\n",
    "        work_id,\n",
    "        EXISTS(\n",
    "            collect_list(is_corresponding_landing_page),\n",
    "            x -> x == TRUE\n",
    "        ) AS work_has_corresponding_author\n",
    "    FROM is_corresponding\n",
    "    GROUP BY work_id\n",
    "),\n",
    "\n",
    "authors_and_affiliations_base AS (\n",
    "    SELECT\n",
    "        *\n",
    "    FROM best_authors_exploded\n",
    "    LEFT JOIN affiliations USING (work_id, author_key)\n",
    "    LEFT JOIN is_corresponding USING (work_id, author_key)\n",
    "    LEFT JOIN work_has_corresponding_author USING (work_id)\n",
    "),\n",
    "\n",
    "authors_and_affiliations_staging AS (\n",
    "    SELECT\n",
    "        work_id,\n",
    "        original_author_order,\n",
    "        STRUCT(\n",
    "            CASE\n",
    "                WHEN original_author_order == 0 THEN \"first\"\n",
    "                WHEN original_author_order + 1 == best_author_list_len THEN \"last\"\n",
    "                ELSE \"additional\"\n",
    "            END AS author_position,\n",
    "            TRIM(best_author_list_exploded.name) AS raw_author_name,\n",
    "            CASE\n",
    "                WHEN is_corresponding_landing_page THEN TRUE\n",
    "                WHEN work_has_corresponding_author THEN FALSE\n",
    "                WHEN original_author_order == 0 THEN TRUE\n",
    "                ELSE FALSE\n",
    "            END AS is_corresponding,\n",
    "            affiliations.name AS raw_affiliation_strings,\n",
    "            original_author_order\n",
    "        ) AS authorships\n",
    "    FROM authors_and_affiliations_base\n",
    ")\n",
    "\n",
    "SELECT\n",
    "    work_id,\n",
    "    TRANSFORM(\n",
    "        ARRAY_SORT(\n",
    "            COLLECT_SET(authorships),\n",
    "            (left, right) -> CASE\n",
    "                WHEN left.original_author_order < right.original_author_order THEN -1\n",
    "                WHEN left.original_author_order > right.original_author_order THEN 1\n",
    "                ELSE 0\n",
    "            END\n",
    "        ),\n",
    "        x -> STRUCT(\n",
    "            x.author_position,\n",
    "            TRIM(REPLACE(x.raw_author_name, \"\\n\", \"\")) AS raw_author_name,\n",
    "            x.is_corresponding,\n",
    "            TRANSFORM(x.raw_affiliation_strings, y -> TRIM(REPLACE(y, \"\\n\", \"\"))) AS raw_affiliation_strings\n",
    "        )\n",
    "    ) AS authorships\n",
    "FROM authors_and_affiliations_staging\n",
    "GROUP BY work_id\n",
    "\n",
    ");"
   ]
  },
  {
   "cell_type": "code",
   "execution_count": 0,
   "metadata": {
    "application/vnd.databricks.v1+cell": {
     "cellMetadata": {},
     "inputWidgets": {},
     "nuid": "4be792ab-2e17-4094-9903-2ac1a9bd8ba4",
     "showTitle": false,
     "tableResultSettingsMap": {},
     "title": ""
    }
   },
   "outputs": [],
   "source": [
    "select * from openalex.works.authors_and_affiliations;"
   ]
  }
 ],
 "metadata": {
  "application/vnd.databricks.v1+notebook": {
   "computePreferences": null,
   "dashboards": [],
   "environmentMetadata": {
    "base_environment": "",
    "environment_version": "2"
   },
   "inputWidgetPreferences": null,
   "language": "sql",
   "notebookMetadata": {},
   "notebookName": "CreateAuthorsAndAffiliations",
   "widgets": {
    "env_suffix": {
     "currentValue": "_dev",
     "nuid": "ab378cd9-0a33-46a0-bc9c-fa98464945d7",
     "typedWidgetInfo": {
      "autoCreated": false,
      "defaultValue": "_dev",
      "label": "",
      "name": "env_suffix",
      "options": {
       "widgetDisplayType": "Text",
       "validationRegex": null
      },
      "parameterDataType": "String"
     },
     "widgetInfo": {
      "widgetType": "text",
      "defaultValue": "_dev",
      "label": "",
      "name": "env_suffix",
      "options": {
       "widgetType": "text",
       "autoCreated": false,
       "validationRegex": null
      }
     }
    }
   }
  },
  "language_info": {
   "name": "sql"
  }
 },
 "nbformat": 4,
 "nbformat_minor": 0
}
