{
 "cells": [
  {
   "cell_type": "markdown",
   "metadata": {
    "application/vnd.databricks.v1+cell": {
     "cellMetadata": {},
     "inputWidgets": {},
     "nuid": "16cb0c88-5c05-40e3-801c-daa1a9d92d74",
     "showTitle": false,
     "tableResultSettingsMap": {},
     "title": ""
    }
   },
   "source": [
    "### Install utils libraries, import and register UDFs"
   ]
  },
  {
   "cell_type": "code",
   "execution_count": 0,
   "metadata": {
    "application/vnd.databricks.v1+cell": {
     "cellMetadata": {
      "byteLimit": 2048000,
      "rowLimit": 10000
     },
     "inputWidgets": {},
     "nuid": "d116a2c7-987e-4f76-9d09-3202f560e706",
     "showTitle": false,
     "tableResultSettingsMap": {},
     "title": ""
    }
   },
   "outputs": [],
   "source": [
    "%pip install /Volumes/openalex/default/libraries/openalex_dlt_utils-0.2.1-py3-none-any.whl\n",
    "from nameparser import HumanName # Will be installed via pipeline libraries\n",
    "from openalex.dlt.normalize import normalize_title_udf, udf_last_name_only\n",
    "spark.udf.register(\"normalize_title_udf\", normalize_title_udf)\n",
    "spark.udf.register(\"udf_last_name_only\", udf_last_name_only)"
   ]
  },
  {
   "cell_type": "markdown",
   "metadata": {
    "application/vnd.databricks.v1+cell": {
     "cellMetadata": {},
     "inputWidgets": {},
     "nuid": "5bdeb31f-f970-4bc9-a878-8a3384cf3a7b",
     "showTitle": false,
     "tableResultSettingsMap": {},
     "title": ""
    }
   },
   "source": [
    "### Sync Tables from PROD"
   ]
  },
  {
   "cell_type": "code",
   "execution_count": 0,
   "metadata": {
    "application/vnd.databricks.v1+cell": {
     "cellMetadata": {
      "byteLimit": 2048000,
      "implicitDf": true,
      "rowLimit": 10000
     },
     "inputWidgets": {},
     "nuid": "8a15f7be-0eed-44f7-84f7-a1d1e2c710a3",
     "showTitle": false,
     "tableResultSettingsMap": {},
     "title": ""
    }
   },
   "outputs": [],
   "source": [
    "%sql\n",
    "DECLARE OR REPLACE VARIABLE walden_paper_id BIGINT DEFAULT 9999999999;\n",
    "SET VARIABLE walden_paper_id = (SELECT max(paper_id) from openalex.mid.work);\n",
    "\n",
    "DECLARE OR REPLACE VARIABLE walden_full_updated_date TIMESTAMP DEFAULT current_timestamp();\n",
    "SET VARIABLE walden_full_updated_date = (SELECT max(full_updated_date) from openalex.mid.work);\n",
    "\n",
    "MERGE INTO openalex.mid.work AS target\n",
    "USING (\n",
    "      SELECT *\n",
    "      FROM openalex_postgres.mid.work -- federated foreign table\n",
    "      WHERE paper_id > walden_paper_id\n",
    "         OR full_updated_date > walden_full_updated_date\n",
    ") AS source\n",
    "ON target.paper_id = source.paper_id\n",
    "WHEN MATCHED THEN UPDATE SET *\n",
    "WHEN NOT MATCHED THEN INSERT *;"
   ]
  },
  {
   "cell_type": "code",
   "execution_count": 0,
   "metadata": {
    "application/vnd.databricks.v1+cell": {
     "cellMetadata": {
      "byteLimit": 2048000,
      "implicitDf": true,
      "rowLimit": 10000
     },
     "inputWidgets": {},
     "nuid": "d4125535-dd6d-47ed-9717-22701e0abe6c",
     "showTitle": false,
     "tableResultSettingsMap": {},
     "title": ""
    }
   },
   "outputs": [],
   "source": [
    "%sql\n",
    "DECLARE OR REPLACE VARIABLE walden_affiliation_updated_date TIMESTAMP DEFAULT current_timestamp();\n",
    "SET VARIABLE walden_affiliation_updated_date = (SELECT max(updated_date) from openalex.mid.affiliation);\n",
    "\n",
    "MERGE INTO openalex.mid.affiliation AS target\n",
    "USING (\n",
    "      SELECT DISTINCT *\n",
    "      FROM openalex_postgres.mid.affiliation -- federated foreign table\n",
    "      WHERE updated_date > walden_affiliation_updated_date\n",
    "        AND paper_id IS NOT NULL AND author_id IS NOT NULL\n",
    ") AS source\n",
    "ON target.paper_id = source.paper_id\n",
    "  AND target.author_id = source.author_id\n",
    "  AND target.affiliation_id = source.affiliation_id\n",
    "  AND target.updated_date = source.updated_date --seems like target and source have a lot of dupes, maybe check later\n",
    "WHEN MATCHED THEN UPDATE SET *\n",
    "WHEN NOT MATCHED THEN INSERT *;"
   ]
  },
  {
   "cell_type": "code",
   "execution_count": 0,
   "metadata": {
    "application/vnd.databricks.v1+cell": {
     "cellMetadata": {
      "byteLimit": 2048000,
      "implicitDf": true,
      "rowLimit": 10000
     },
     "inputWidgets": {},
     "nuid": "38db9bd0-7f6f-4248-9c6a-0287114e7bd0",
     "showTitle": false,
     "tableResultSettingsMap": {
      "0": {
       "dataGridStateBlob": "{\"version\":1,\"tableState\":{\"columnPinning\":{\"left\":[\"#row_number#\"],\"right\":[]},\"columnSizing\":{},\"columnVisibility\":{}},\"settings\":{\"columns\":{}},\"syncTimestamp\":1754005321533}",
       "filterBlob": null,
       "queryPlanFiltersBlob": null,
       "tableResultIndex": 0
      }
     },
     "title": ""
    }
   },
   "outputs": [],
   "source": [
    "%sql\n",
    "DECLARE OR REPLACE VARIABLE walden_work_extra_id BIGINT DEFAULT 9999999999;\n",
    "SET VARIABLE walden_work_extra_id = (SELECT max(paper_id) from openalex.mid.work_extra_ids);\n",
    "\n",
    "MERGE INTO openalex.mid.work_extra_ids AS target\n",
    "USING (\n",
    "      SELECT DISTINCT *\n",
    "      FROM openalex_postgres.mid.work_extra_ids -- federated foreign table\n",
    "      WHERE paper_id > walden_work_extra_id\n",
    "        AND paper_id IS NOT NULL\n",
    ") AS source\n",
    "ON target.paper_id = source.paper_id\n",
    "  AND target.attribute_type = source.attribute_type\n",
    "WHEN MATCHED THEN UPDATE SET target.attribute_value = source.attribute_value\n",
    "WHEN NOT MATCHED THEN INSERT *;"
   ]
  },
  {
   "cell_type": "markdown",
   "metadata": {
    "application/vnd.databricks.v1+cell": {
     "cellMetadata": {},
     "inputWidgets": {},
     "nuid": "58e5b705-630d-4ebd-b99a-86e12765c782",
     "showTitle": false,
     "tableResultSettingsMap": {},
     "title": ""
    }
   },
   "source": [
    "### Update missing `normalized_title` and `match_author`"
   ]
  },
  {
   "cell_type": "code",
   "execution_count": 0,
   "metadata": {
    "application/vnd.databricks.v1+cell": {
     "cellMetadata": {
      "byteLimit": 2048000,
      "implicitDf": true,
      "rowLimit": 10000
     },
     "inputWidgets": {},
     "nuid": "7b392c56-159e-461f-ab88-43c94c52825a",
     "showTitle": false,
     "tableResultSettingsMap": {},
     "title": ""
    }
   },
   "outputs": [],
   "source": [
    "%sql\n",
    "UPDATE openalex.mid.affiliation\n",
    "SET match_author = udf_last_name_only(array(named_struct('name', original_author)))[0].author_key\n",
    "WHERE match_author IS NULL;"
   ]
  },
  {
   "cell_type": "code",
   "execution_count": 0,
   "metadata": {
    "application/vnd.databricks.v1+cell": {
     "cellMetadata": {
      "byteLimit": 2048000,
      "implicitDf": true,
      "rowLimit": 10000
     },
     "inputWidgets": {},
     "nuid": "138fc9c1-ba3b-4839-9cbe-030cc95c3c24",
     "showTitle": false,
     "tableResultSettingsMap": {},
     "title": ""
    }
   },
   "outputs": [],
   "source": [
    "%sql\n",
    "UPDATE openalex.mid.work \n",
    "SET normalized_title = normalize_title_udf(original_title)\n",
    "WHERE normalized_title IS NULL;"
   ]
  }
 ],
 "metadata": {
  "application/vnd.databricks.v1+notebook": {
   "computePreferences": null,
   "dashboards": [],
   "environmentMetadata": {
    "base_environment": "",
    "environment_version": "2"
   },
   "inputWidgetPreferences": null,
   "language": "python",
   "notebookMetadata": {
    "mostRecentlyExecutedCommandWithImplicitDF": {
     "commandId": 8886210253053437,
     "dataframes": [
      "_sqldf"
     ]
    },
    "pythonIndentUnit": 4
   },
   "notebookName": "RefreshProdMergeKeyData",
   "widgets": {}
  },
  "language_info": {
   "name": "python"
  }
 },
 "nbformat": 4,
 "nbformat_minor": 0
}
