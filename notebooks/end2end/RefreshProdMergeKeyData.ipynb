{
 "cells": [
  {
   "cell_type": "markdown",
   "metadata": {
    "application/vnd.databricks.v1+cell": {
     "cellMetadata": {},
     "inputWidgets": {},
     "nuid": "16cb0c88-5c05-40e3-801c-daa1a9d92d74",
     "showTitle": false,
     "tableResultSettingsMap": {},
     "title": ""
    }
   },
   "source": [
    "### Install utils libraries, import and register UDFs"
   ]
  },
  {
   "cell_type": "code",
   "execution_count": 0,
   "metadata": {
    "application/vnd.databricks.v1+cell": {
     "cellMetadata": {
      "byteLimit": 2048000,
      "rowLimit": 10000
     },
     "inputWidgets": {},
     "nuid": "d116a2c7-987e-4f76-9d09-3202f560e706",
     "showTitle": false,
     "tableResultSettingsMap": {},
     "title": ""
    }
   },
   "outputs": [],
   "source": [
    "%pip install /Volumes/openalex/default/libraries/openalex_dlt_utils-0.2.3-py3-none-any.whl\n",
    "from nameparser import HumanName # Will be installed via pipeline libraries\n",
    "from openalex.dlt.normalize import normalize_title_udf, udf_last_name_only\n",
    "spark.udf.register(\"normalize_title_udf\", normalize_title_udf)\n",
    "spark.udf.register(\"udf_last_name_only\", udf_last_name_only)"
   ]
  },
  {
   "cell_type": "markdown",
   "metadata": {
    "application/vnd.databricks.v1+cell": {
     "cellMetadata": {},
     "inputWidgets": {},
     "nuid": "5bdeb31f-f970-4bc9-a878-8a3384cf3a7b",
     "showTitle": false,
     "tableResultSettingsMap": {},
     "title": ""
    }
   },
   "source": [
    "### Sync Tables from PROD"
   ]
  },
  {
   "cell_type": "code",
   "execution_count": 0,
   "metadata": {
    "application/vnd.databricks.v1+cell": {
     "cellMetadata": {
      "byteLimit": 2048000,
      "implicitDf": true,
      "rowLimit": 10000
     },
     "inputWidgets": {},
     "nuid": "8a15f7be-0eed-44f7-84f7-a1d1e2c710a3",
     "showTitle": false,
     "tableResultSettingsMap": {},
     "title": ""
    }
   },
   "outputs": [],
   "source": [
    "%sql\n",
    "DECLARE OR REPLACE VARIABLE walden_paper_id BIGINT DEFAULT 9999999999;\n",
    "SET VARIABLE walden_paper_id = (SELECT max(paper_id) from openalex.mid.work);\n",
    "\n",
    "DECLARE OR REPLACE VARIABLE walden_full_updated_date TIMESTAMP DEFAULT current_timestamp();\n",
    "SET VARIABLE walden_full_updated_date = (SELECT max(full_updated_date) from openalex.mid.work);\n",
    "\n",
    "MERGE INTO openalex.mid.work AS target\n",
    "USING (\n",
    "      SELECT *\n",
    "      FROM openalex_postgres.mid.work -- federated foreign table\n",
    "      WHERE paper_id > walden_paper_id\n",
    "         OR full_updated_date > walden_full_updated_date\n",
    ") AS source\n",
    "ON target.paper_id = source.paper_id\n",
    "WHEN MATCHED THEN UPDATE SET *\n",
    "WHEN NOT MATCHED THEN INSERT *;"
   ]
  },
  {
   "cell_type": "code",
   "execution_count": 0,
   "metadata": {
    "application/vnd.databricks.v1+cell": {
     "cellMetadata": {
      "byteLimit": 2048000,
      "implicitDf": true,
      "rowLimit": 10000
     },
     "inputWidgets": {},
     "nuid": "d4125535-dd6d-47ed-9717-22701e0abe6c",
     "showTitle": false,
     "tableResultSettingsMap": {},
     "title": ""
    }
   },
   "outputs": [],
   "source": [
    "%sql\n",
    "DECLARE OR REPLACE VARIABLE walden_affiliation_updated_date TIMESTAMP DEFAULT current_timestamp();\n",
    "SET VARIABLE walden_affiliation_updated_date = (SELECT max(updated_date) from openalex.mid.affiliation);\n",
    "\n",
    "MERGE INTO openalex.mid.affiliation AS target\n",
    "USING (\n",
    "      SELECT *\n",
    "      FROM openalex_postgres.mid.affiliation -- federated foreign table\n",
    "      WHERE updated_date > walden_affiliation_updated_date\n",
    "        AND paper_id IS NOT NULL AND author_id IS NOT NULL\n",
    "      QUALIFY row_number() OVER (PARTITION BY paper_id, author_id, affiliation_id ORDER BY updated_date DESC) = 1\n",
    ") AS source\n",
    "ON target.paper_id = source.paper_id\n",
    "  AND target.author_id = source.author_id\n",
    "  AND target.affiliation_id = source.affiliation_id\n",
    "  -- AND target.updated_date = source.updated_date\n",
    "WHEN MATCHED THEN UPDATE SET *\n",
    "WHEN NOT MATCHED THEN INSERT *;"
   ]
  },
  {
   "cell_type": "code",
   "execution_count": 0,
   "metadata": {
    "application/vnd.databricks.v1+cell": {
     "cellMetadata": {
      "byteLimit": 2048000,
      "rowLimit": 10000
     },
     "inputWidgets": {},
     "nuid": "cd1c6b16-f339-4962-a2bd-12598bb151a3",
     "showTitle": false,
     "tableResultSettingsMap": {},
     "title": ""
    }
   },
   "outputs": [],
   "source": [
    "%sql\n",
    "DECLARE OR REPLACE VARIABLE walden_author_updated_date TIMESTAMP DEFAULT current_timestamp();\n",
    "SET VARIABLE walden_author_updated_date = (SELECT max(full_updated_date) from openalex.mid.author);\n",
    "\n",
    "MERGE INTO openalex.mid.author AS target\n",
    "USING (\n",
    "      SELECT *\n",
    "      FROM openalex_postgres.mid.author -- federated foreign table\n",
    "      WHERE full_updated_date > walden_author_updated_date\n",
    "        AND author_id IS NOT NULL -- check with Casey which range of authors is to be ignored (too many in the table - 400M+)\n",
    ") AS source\n",
    "ON target.author_id = source.author_id\n",
    "WHEN MATCHED THEN UPDATE SET *\n",
    "WHEN NOT MATCHED THEN INSERT *;"
   ]
  },
  {
   "cell_type": "code",
   "execution_count": 0,
   "metadata": {
    "application/vnd.databricks.v1+cell": {
     "cellMetadata": {
      "byteLimit": 2048000,
      "implicitDf": true,
      "rowLimit": 10000
     },
     "inputWidgets": {},
     "nuid": "38db9bd0-7f6f-4248-9c6a-0287114e7bd0",
     "showTitle": false,
     "tableResultSettingsMap": {
      "0": {
       "dataGridStateBlob": "{\"version\":1,\"tableState\":{\"columnPinning\":{\"left\":[\"#row_number#\"],\"right\":[]},\"columnSizing\":{},\"columnVisibility\":{}},\"settings\":{\"columns\":{}},\"syncTimestamp\":1754005321533}",
       "filterBlob": null,
       "queryPlanFiltersBlob": null,
       "tableResultIndex": 0
      }
     },
     "title": ""
    }
   },
   "outputs": [],
   "source": [
    "%sql\n",
    "DECLARE OR REPLACE VARIABLE walden_work_extra_id BIGINT DEFAULT 9999999999;\n",
    "SET VARIABLE walden_work_extra_id = (SELECT max(paper_id) from openalex.mid.work_extra_ids);\n",
    "\n",
    "MERGE INTO openalex.mid.work_extra_ids AS target\n",
    "USING (\n",
    "      SELECT DISTINCT *\n",
    "      FROM openalex_postgres.mid.work_extra_ids -- federated foreign table\n",
    "      WHERE paper_id > walden_work_extra_id\n",
    "        AND paper_id IS NOT NULL\n",
    ") AS source\n",
    "ON target.paper_id = source.paper_id\n",
    "  AND target.attribute_type = source.attribute_type\n",
    "WHEN MATCHED THEN UPDATE SET target.attribute_value = source.attribute_value\n",
    "WHEN NOT MATCHED THEN INSERT *;"
   ]
  },
  {
   "cell_type": "markdown",
   "metadata": {
    "application/vnd.databricks.v1+cell": {
     "cellMetadata": {},
     "inputWidgets": {},
     "nuid": "58e5b705-630d-4ebd-b99a-86e12765c782",
     "showTitle": false,
     "tableResultSettingsMap": {},
     "title": ""
    }
   },
   "source": [
    "### Update missing `normalized_title` and `match_author`"
   ]
  },
  {
   "cell_type": "code",
   "execution_count": 0,
   "metadata": {
    "application/vnd.databricks.v1+cell": {
     "cellMetadata": {
      "byteLimit": 2048000,
      "implicitDf": true,
      "rowLimit": 10000
     },
     "inputWidgets": {},
     "nuid": "7b392c56-159e-461f-ab88-43c94c52825a",
     "showTitle": false,
     "tableResultSettingsMap": {},
     "title": ""
    }
   },
   "outputs": [],
   "source": [
    "%sql\n",
    "UPDATE openalex.mid.affiliation\n",
    "SET match_author = udf_last_name_only(array(named_struct('name', original_author)))[0].author_key\n",
    "WHERE match_author IS NULL;"
   ]
  },
  {
   "cell_type": "code",
   "execution_count": 0,
   "metadata": {
    "application/vnd.databricks.v1+cell": {
     "cellMetadata": {
      "byteLimit": 2048000,
      "implicitDf": true,
      "rowLimit": 10000
     },
     "inputWidgets": {},
     "nuid": "138fc9c1-ba3b-4839-9cbe-030cc95c3c24",
     "showTitle": false,
     "tableResultSettingsMap": {},
     "title": ""
    }
   },
   "outputs": [],
   "source": [
    "%sql\n",
    "UPDATE openalex.mid.work \n",
    "SET normalized_title = normalize_title_udf(original_title)\n",
    "WHERE normalized_title IS NULL;"
   ]
  },
  {
   "cell_type": "markdown",
   "metadata": {
    "application/vnd.databricks.v1+cell": {
     "cellMetadata": {},
     "inputWidgets": {},
     "nuid": "cac164f4-34f5-4900-bc79-995d6b04ef4d",
     "showTitle": false,
     "tableResultSettingsMap": {},
     "title": ""
    }
   },
   "source": [
    "### Update or insert fresh prod data into `work_id_map` by `paper_id`.\n",
    "Without changes the merge produces 0 inserts and updates."
   ]
  },
  {
   "cell_type": "code",
   "execution_count": 0,
   "metadata": {
    "application/vnd.databricks.v1+cell": {
     "cellMetadata": {
      "byteLimit": 2048000,
      "implicitDf": true,
      "rowLimit": 10000
     },
     "inputWidgets": {},
     "nuid": "57721b1e-720d-45f6-957f-86e0a3a41b18",
     "showTitle": false,
     "tableResultSettingsMap": {
      "0": {
       "dataGridStateBlob": "{\"version\":1,\"tableState\":{\"columnPinning\":{\"left\":[\"#row_number#\"],\"right\":[]},\"columnSizing\":{},\"columnVisibility\":{}},\"settings\":{\"columns\":{}},\"syncTimestamp\":1754028539900}",
       "filterBlob": null,
       "queryPlanFiltersBlob": null,
       "tableResultIndex": 0
      }
     },
     "title": ""
    }
   },
   "outputs": [],
   "source": [
    "%sql\n",
    "WITH prod_id_data AS (\n",
    "SELECT\n",
    "  w.paper_id,\n",
    "  -- IMPORTANT - we store clean DOI in the map\n",
    "  MAX(w.doi_lower) AS doi,\n",
    "  MAX(e.attribute_value) as pmid,\n",
    "  MAX(w.arxiv_id) as arxiv,\n",
    "  MAX(CASE \n",
    "    WHEN a.match_author IS NULL THEN w.normalized_title\n",
    "    ELSE CONCAT(w.normalized_title, '_', a.match_author)\n",
    "  END) as title_author,\n",
    "  MAX(to_date(w.created_date)) as created_dt,\n",
    "  MAX(try_to_timestamp(w.updated_date)) as updated_dt\n",
    "FROM openalex.mid.work w\n",
    "LEFT JOIN openalex.mid.affiliation a ON w.paper_id = a.paper_id AND a.author_sequence_number = 1\n",
    "LEFT JOIN openalex.mid.work_extra_ids e ON w.paper_id = e.paper_id AND e.attribute_type = 2\n",
    "GROUP BY w.paper_id\n",
    ")\n",
    "MERGE INTO identifier('openalex' || :env_suffix || '.works.work_id_map') AS target\n",
    "USING prod_id_data AS source\n",
    "  ON target.paper_id = source.paper_id\n",
    "WHEN MATCHED AND (\n",
    "    (target.doi IS DISTINCT FROM source.doi AND source.doi IS NOT NULL) OR\n",
    "    (target.pmid IS DISTINCT FROM source.pmid AND source.pmid IS NOT NULL) OR\n",
    "    (target.arxiv IS DISTINCT FROM source.arxiv AND source.arxiv IS NOT NULL) OR\n",
    "    (target.title_author IS DISTINCT FROM source.title_author AND source.title_author IS NOT NULL)\n",
    ")\n",
    "THEN UPDATE SET\n",
    "  target.paper_id = source.paper_id,\n",
    "  target.doi = COALESCE(source.doi, target.doi),\n",
    "  target.pmid = COALESCE(source.pmid, target.pmid),\n",
    "  target.arxiv = COALESCE(source.arxiv, target.arxiv),\n",
    "  target.title_author = COALESCE(source.title_author, target.title_author),\n",
    "  target.openalex_created_dt = source.created_dt,\n",
    "  target.openalex_updated_dt = source.updated_dt\n",
    "WHEN NOT MATCHED THEN INSERT\n",
    "(paper_id, doi, pmid, arxiv, title_author, openalex_created_dt, openalex_updated_dt) \n",
    "VALUES (source.paper_id, source.doi, source.pmid, source.arxiv, \n",
    "  source.title_author, source.created_dt, source.updated_dt);"
   ]
  },
  {
   "cell_type": "markdown",
   "metadata": {
    "application/vnd.databricks.v1+cell": {
     "cellMetadata": {},
     "inputWidgets": {},
     "nuid": "b623965d-9c9a-4674-a80c-b1a12f1d58a0",
     "showTitle": false,
     "tableResultSettingsMap": {},
     "title": ""
    }
   },
   "source": [
    "### Update `authorships_backfill` once `affiliation` and `author` are refreshed"
   ]
  },
  {
   "cell_type": "code",
   "execution_count": 0,
   "metadata": {
    "application/vnd.databricks.v1+cell": {
     "cellMetadata": {
      "byteLimit": 2048000,
      "implicitDf": true,
      "rowLimit": 10000
     },
     "inputWidgets": {},
     "nuid": "d244e3c0-34f2-426c-9802-047721a4a143",
     "showTitle": false,
     "tableResultSettingsMap": {},
     "title": ""
    }
   },
   "outputs": [],
   "source": [
    "%sql\n",
    "CREATE OR REPLACE TABLE openalex.authors.work_authorships_backfill CLUSTER BY AUTO\n",
    "AS\n",
    "-- Get lineage for each institution (keep raw IDs)\n",
    "WITH institution_lineage AS (\n",
    "  SELECT\n",
    "    ia.institution_id,\n",
    "    COLLECT_LIST(ia.ancestor_id) AS lineage_ids\n",
    "  FROM openalex.mid.institution_ancestors ia\n",
    "  GROUP BY ia.institution_id\n",
    "),\n",
    "author_affiliation_agg AS (\n",
    "  SELECT\n",
    "    a.paper_id,\n",
    "    a.author_sequence_number,\n",
    "    -- Author details\n",
    "    MAX(au_canonical.display_name) AS author_display_name,\n",
    "    MAX(au_canonical.author_id) AS author_openalex_id,\n",
    "    MAX(ao.orcid) AS author_orcid,\n",
    "    MAX(a.original_author) AS raw_author_name,\n",
    "    -- Affiliations data\n",
    "    FILTER(\n",
    "      COLLECT_LIST(\n",
    "        STRUCT(\n",
    "          ARRAY(CASE WHEN i.affiliation_id IS NOT NULL THEN CONCAT('https://openalex.org/I', CAST(i.affiliation_id AS STRING)) END) AS institution_ids,\n",
    "          a.original_affiliation AS raw_affiliation_string\n",
    "        )\n",
    "      ), x -> x IS NOT NULL\n",
    "    ) AS affiliations_array,\n",
    "    FILTER(COLLECT_SET(i.iso3166_code), x -> x IS NOT NULL) AS countries_set,\n",
    "    FILTER(\n",
    "      COLLECT_LIST(\n",
    "        STRUCT(\n",
    "          i.iso3166_code AS country_code, i.display_name AS display_name,\n",
    "          CASE WHEN i.affiliation_id IS NOT NULL THEN CONCAT('https://openalex.org/I', CAST(i.affiliation_id AS STRING)) END AS id,\n",
    "          ARRAY_SORT(TRANSFORM(il.lineage_ids, id -> CONCAT('https://openalex.org/I', id))) AS lineage,\n",
    "          CASE WHEN i.ror_id IS NOT NULL THEN CONCAT('https://ror.org/', CAST(i.ror_id AS STRING)) END AS ror,\n",
    "          CASE\n",
    "            WHEN r.types IS NULL OR size(r.types) = 0 THEN NULL\n",
    "            WHEN size(r.types) = 1 THEN r.types[0]\n",
    "            ELSE element_at(FILTER(r.types, x -> lower(x) <> 'funder'), 1)\n",
    "          END AS type,\n",
    "          COALESCE(r.types, ARRAY()) AS type_list\n",
    "        )\n",
    "      ), x -> x IS NOT NULL\n",
    "    ) AS institutions_list,\n",
    "    ARRAY_SORT(FILTER(COLLECT_LIST(a.original_affiliation), x -> x IS NOT NULL)) AS raw_affiliation_strings_list,\n",
    "    COALESCE(MAX(CASE WHEN a.is_corresponding_author THEN TRUE ELSE FALSE END), FALSE) AS is_corresponding_author_flag\n",
    "  FROM openalex.mid.affiliation a\n",
    "  LEFT JOIN openalex.mid.institution i ON a.affiliation_id = i.affiliation_id\n",
    "  LEFT JOIN openalex.mid.author au ON a.author_id = au.author_id\n",
    "  LEFT JOIN openalex.mid.author au_canonical ON COALESCE(au.merge_into_id, au.author_id) = au_canonical.author_id\n",
    "  LEFT JOIN openalex.mid.author_orcid ao ON au.author_id = ao.author_id\n",
    "  LEFT JOIN openalex.institutions.ror r ON CONCAT('https://ror.org/', i.ror_id) = r.id\n",
    "  LEFT JOIN institution_lineage il ON i.affiliation_id = il.institution_id\n",
    "  GROUP BY a.paper_id, a.author_sequence_number\n",
    "),\n",
    "paper_author_counts AS (\n",
    "  SELECT\n",
    "    paper_id,\n",
    "    COUNT(*) as total_authors\n",
    "  FROM author_affiliation_agg\n",
    "  GROUP BY paper_id\n",
    "),\n",
    "final_authorships AS (\n",
    "  SELECT\n",
    "    paa.paper_id,\n",
    "    ARRAY_SORT(\n",
    "      COLLECT_LIST(\n",
    "        STRUCT(\n",
    "          paa.affiliations_array AS affiliations,\n",
    "          STRUCT(\n",
    "            paa.author_display_name AS display_name,\n",
    "            CASE WHEN paa.author_openalex_id IS NOT NULL THEN CONCAT('https://openalex.org/A', paa.author_openalex_id) END AS id,\n",
    "            CASE WHEN paa.author_orcid IS NOT NULL THEN CONCAT('https://orcid.org/', paa.author_orcid) END AS orcid\n",
    "          ) AS author,\n",
    "          CASE\n",
    "            WHEN paa.author_sequence_number = 1 THEN 'first'\n",
    "            WHEN paa.author_sequence_number = pac.total_authors THEN 'last'\n",
    "            ELSE 'middle'\n",
    "          END AS author_position,\n",
    "          paa.author_sequence_number AS author_order_number,\n",
    "          COALESCE(ARRAY_SORT(paa.countries_set), ARRAY()) AS countries,\n",
    "          COALESCE(ARRAY_SORT(paa.institutions_list), ARRAY()) AS institutions,\n",
    "          -- override - single author is always corresponding\n",
    "          (paa.is_corresponding_author_flag OR pac.total_authors = 1) AS is_corresponding,\n",
    "          COALESCE(paa.raw_affiliation_strings_list, ARRAY()) AS raw_affiliation_strings,\n",
    "          paa.raw_author_name AS raw_author_name\n",
    "        )\n",
    "      ),\n",
    "      (left, right) -> CASE\n",
    "        WHEN left.author_order_number < right.author_order_number THEN -1\n",
    "        WHEN left.author_order_number > right.author_order_number THEN 1\n",
    "        ELSE 0\n",
    "      END\n",
    "    ) as authorships\n",
    "  FROM\n",
    "    author_affiliation_agg paa\n",
    "  JOIN\n",
    "    paper_author_counts pac ON paa.paper_id = pac.paper_id\n",
    "  GROUP BY\n",
    "    paa.paper_id\n",
    ")\n",
    "SELECT\n",
    "  paper_id,\n",
    "  authorships,\n",
    "  FILTER(authorships, auth -> \n",
    "    auth is not null \n",
    "    and auth.author IS NOT NULL \n",
    "    and auth.is_corresponding\n",
    "  ).author.id AS corresponding_author_ids,\n",
    "  COALESCE(\n",
    "    ARRAY_SORT(ARRAY_DISTINCT(\n",
    "      FILTER(\n",
    "        FLATTEN(\n",
    "          TRANSFORM(\n",
    "            FILTER(authorships, auth -> auth IS NOT NULL \n",
    "              AND auth.author IS NOT NULL\n",
    "              AND auth.is_corresponding),\n",
    "            auth -> COALESCE(auth.institutions, ARRAY())\n",
    "          )\n",
    "        ).id,\n",
    "        id -> id IS NOT NULL\n",
    "      )\n",
    "    )),\n",
    "    ARRAY()\n",
    "  ) AS corresponding_institution_ids\n",
    "FROM final_authorships;"
   ]
  }
 ],
 "metadata": {
  "application/vnd.databricks.v1+notebook": {
   "computePreferences": null,
   "dashboards": [],
   "environmentMetadata": {
    "base_environment": "",
    "environment_version": "2"
   },
   "inputWidgetPreferences": null,
   "language": "python",
   "notebookMetadata": {
    "mostRecentlyExecutedCommandWithImplicitDF": {
     "commandId": -1,
     "dataframes": [
      "_sqldf"
     ]
    },
    "pythonIndentUnit": 4
   },
   "notebookName": "RefreshProdMergeKeyData",
   "widgets": {}
  },
  "language_info": {
   "name": "python"
  }
 },
 "nbformat": 4,
 "nbformat_minor": 0
}
