{
 "cells": [
  {
   "cell_type": "code",
   "execution_count": 0,
   "metadata": {
    "application/vnd.databricks.v1+cell": {
     "cellMetadata": {},
     "inputWidgets": {},
     "nuid": "e4182c81-0f3e-424c-8aaf-a53979dffec3",
     "showTitle": false,
     "tableResultSettingsMap": {},
     "title": ""
    }
   },
   "outputs": [],
   "source": [
    "-- Things that we need in Unpaywall but do not want in OpenAlex should be filtered out in the openalex temp view, created below.\n",
    "-- create or replace temp view openalex as (\n",
    "--   select id, doi, title, authorships, publication_date, publication_year, abstract, has_abstract, abstract_inverted_index, ids, language, publisher, apc_list, locations_count from openalex.works.openalex_works -- filter out crossref component types\n",
    "-- )\n",
    "\n",
    "create or replace table openalex.works.openalex_works_json as (\n",
    "  SELECT \n",
    "    id, \n",
    "    to_json(struct(*)) as json_str\n",
    "  FROM\n",
    "    openalex.works.openalex_works\n",
    ")"
   ]
  },
  {
   "cell_type": "code",
   "execution_count": 0,
   "metadata": {
    "application/vnd.databricks.v1+cell": {
     "cellMetadata": {},
     "inputWidgets": {},
     "nuid": "fd2da874-bfd8-4ba2-90fb-66ee822363e9",
     "showTitle": false,
     "tableResultSettingsMap": {},
     "title": ""
    }
   },
   "outputs": [],
   "source": [
    "OPTIMIZE openalex.works.openalex_works_json\n",
    "ZORDER BY (id);"
   ]
  }
 ],
 "metadata": {
  "application/vnd.databricks.v1+notebook": {
   "computePreferences": null,
   "dashboards": [],
   "environmentMetadata": {
    "base_environment": "",
    "environment_version": "2"
   },
   "inputWidgetPreferences": null,
   "language": "sql",
   "notebookMetadata": {},
   "notebookName": "CreateOpenAlexWorksJSON",
   "widgets": {}
  },
  "language_info": {
   "name": "sql"
  }
 },
 "nbformat": 4,
 "nbformat_minor": 0
}
