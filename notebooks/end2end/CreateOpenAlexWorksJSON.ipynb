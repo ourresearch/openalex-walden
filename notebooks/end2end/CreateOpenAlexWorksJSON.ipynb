{
 "cells": [
  {
   "cell_type": "code",
   "execution_count": 0,
   "metadata": {
    "application/vnd.databricks.v1+cell": {
     "cellMetadata": {
      "byteLimit": 2048000,
      "rowLimit": 10000
     },
     "inputWidgets": {},
     "nuid": "e4182c81-0f3e-424c-8aaf-a53979dffec3",
     "showTitle": false,
     "tableResultSettingsMap": {},
     "title": ""
    }
   },
   "outputs": [],
   "source": [
    "-- Things that we need in Unpaywall but do not want in OpenAlex should be filtered out in the openalex temp view, created below.\n",
    "-- create or replace temp view openalex as (\n",
    "--   select id, doi, title, authorships, publication_date, publication_year, abstract, has_abstract, abstract_inverted_index, ids, language, publisher, apc_list, locations_count from openalex.works.openalex_works -- filter out crossref component types\n",
    "-- )\n",
    "\n",
    "CREATE OR REPLACE TABLE identifier('openalex' || :env_suffix || '.works.openalex_works_json') CLUSTER BY (id) AS (\n",
    "\n",
    "  WITH transformed AS (\n",
    "    SELECT\n",
    "      CONCAT('https://openalex.org/W', id) AS id,\n",
    "      doi,\n",
    "      title,\n",
    "      authorships,\n",
    "      publication_date,\n",
    "      publication_year,\n",
    "      abstract,\n",
    "      has_abstract,\n",
    "      referenced_works_count,\n",
    "      SORT_ARRAY(TRANSFORM(referenced_works, rw -> CONCAT('https://openalex.org/W', rw))) AS referenced_works,\n",
    "      abstract_inverted_index,\n",
    "      cited_by_api_url,\n",
    "      cited_by_count,\n",
    "      counts_by_year,\n",
    "      ids,\n",
    "      language,\n",
    "      publisher,\n",
    "      biblio,\n",
    "      apc_list,\n",
    "      locations_count,\n",
    "      locations,\n",
    "      primary_location,\n",
    "      best_oa_location,\n",
    "      open_access,\n",
    "      type,\n",
    "      is_paratext,\n",
    "      is_retracted,\n",
    "      indexed_in_crossref,\n",
    "      mesh,\n",
    "      created_date,\n",
    "      updated_date\n",
    "    FROM identifier('openalex' || :env_suffix || '.works.openalex_works')\n",
    "  )\n",
    "\n",
    "  SELECT \n",
    "    id,\n",
    "    TO_JSON(STRUCT(*)) AS json_str\n",
    "  FROM transformed\n",
    "\n",
    ");\n"
   ]
  },
  {
   "cell_type": "code",
   "execution_count": 0,
   "metadata": {
    "application/vnd.databricks.v1+cell": {
     "cellMetadata": {
      "byteLimit": 2048000,
      "rowLimit": 10000
     },
     "inputWidgets": {},
     "nuid": "fd2da874-bfd8-4ba2-90fb-66ee822363e9",
     "showTitle": false,
     "tableResultSettingsMap": {},
     "title": ""
    }
   },
   "outputs": [],
   "source": [
    "OPTIMIZE identifier('openalex' || :env_suffix || '.works.openalex_works_json');"
   ]
  },
  {
   "cell_type": "code",
   "execution_count": 0,
   "metadata": {
    "application/vnd.databricks.v1+cell": {
     "cellMetadata": {
      "byteLimit": 2048000,
      "rowLimit": 10000
     },
     "inputWidgets": {},
     "nuid": "ddfa4439-ec29-4397-92bc-3a5f7e7cae30",
     "showTitle": false,
     "tableResultSettingsMap": {},
     "title": ""
    }
   },
   "outputs": [],
   "source": [
    "SELECT * FROM identifier('openalex' || :env_suffix || '.works.openalex_works_json') where id = 'https://openalex.org/W1775749144'"
   ]
  },
  {
   "cell_type": "code",
   "execution_count": 0,
   "metadata": {
    "application/vnd.databricks.v1+cell": {
     "cellMetadata": {
      "byteLimit": 2048000,
      "rowLimit": 10000
     },
     "inputWidgets": {},
     "nuid": "be2ce0cd-39f7-410f-8577-1bc59aca8441",
     "showTitle": false,
     "tableResultSettingsMap": {},
     "title": ""
    }
   },
   "outputs": [],
   "source": [
    "-- should we truncate the fulltext field in \"Sync Works to ElasticSearch\"? 13M\n",
    "select format_number(count(*),0) as too_long_count\n",
    "from openalex.works.openalex_works where length(fulltext) > 32766"
   ]
  },
  {
   "cell_type": "code",
   "execution_count": 0,
   "metadata": {
    "application/vnd.databricks.v1+cell": {
     "cellMetadata": {},
     "inputWidgets": {},
     "nuid": "5ebb33e5-d916-4dc0-9c85-dab6cd133ccb",
     "showTitle": false,
     "tableResultSettingsMap": {},
     "title": ""
    }
   },
   "outputs": [],
   "source": []
  }
 ],
 "metadata": {
  "application/vnd.databricks.v1+notebook": {
   "computePreferences": null,
   "dashboards": [],
   "environmentMetadata": {
    "base_environment": "",
    "environment_version": "2"
   },
   "inputWidgetPreferences": null,
   "language": "sql",
   "notebookMetadata": {
    "pythonIndentUnit": 4
   },
   "notebookName": "CreateOpenAlexWorksJSON",
   "widgets": {
    "env_suffix": {
     "currentValue": "",
     "nuid": "3cacfa82-c76e-457c-b451-3ee3746c034c",
     "typedWidgetInfo": {
      "autoCreated": false,
      "defaultValue": "",
      "label": "",
      "name": "env_suffix",
      "options": {
       "widgetDisplayType": "Text",
       "validationRegex": null
      },
      "parameterDataType": "String"
     },
     "widgetInfo": {
      "widgetType": "text",
      "defaultValue": "",
      "label": "",
      "name": "env_suffix",
      "options": {
       "widgetType": "text",
       "autoCreated": false,
       "validationRegex": null
      }
     }
    }
   }
  },
  "language_info": {
   "name": "sql"
  }
 },
 "nbformat": 4,
 "nbformat_minor": 0
}
