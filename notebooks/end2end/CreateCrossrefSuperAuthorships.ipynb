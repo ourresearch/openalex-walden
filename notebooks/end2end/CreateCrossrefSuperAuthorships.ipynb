{
 "cells": [
  {
   "cell_type": "markdown",
   "metadata": {
    "application/vnd.databricks.v1+cell": {
     "cellMetadata": {},
     "inputWidgets": {},
     "nuid": "4e58e110-fb04-4f5c-82a5-9bd72bfc6882",
     "showTitle": false,
     "tableResultSettingsMap": {},
     "title": ""
    }
   },
   "source": [
    "### Creates `openalex.works.crossref_super_authorships` in Walden End to End workflow"
   ]
  },
  {
   "cell_type": "code",
   "execution_count": 0,
   "metadata": {
    "application/vnd.databricks.v1+cell": {
     "cellMetadata": {
      "byteLimit": 2048000,
      "rowLimit": 10000
     },
     "inputWidgets": {},
     "nuid": "2dcc1b53-dc68-42f5-8694-0021ef5f0e85",
     "showTitle": false,
     "tableResultSettingsMap": {},
     "title": ""
    }
   },
   "outputs": [],
   "source": [
    "CREATE OR REPLACE TABLE identifier('openalex' || :env_suffix || '.works.crossref_super_authorships') AS\n",
    "WITH crossref_base AS (\n",
    "  SELECT\n",
    "    CASE\n",
    "      WHEN provenance = 'crossref' THEN native_id\n",
    "      ELSE get(filter(ids, x -> x.namespace = \"doi\").id, 0)\n",
    "    END AS doi,\n",
    "    authors,\n",
    "    priority,\n",
    "    affiliations_exist,\n",
    "    is_corresponding_exists,\n",
    "    ROW_NUMBER() OVER (\n",
    "      PARTITION BY\n",
    "        CASE\n",
    "          WHEN provenance = 'crossref' THEN native_id\n",
    "          ELSE get(filter(ids, x -> x.namespace = \"doi\").id, 0)\n",
    "        END\n",
    "      ORDER BY priority ASC\n",
    "    ) AS r\n",
    "  FROM identifier('openalex' || :env_suffix || '.works.locations_parsed')\n",
    "    LEFT JOIN openalex.system.priority_table USING (provenance)\n",
    "  WHERE authors_exist\n",
    "    AND provenance IN ('crossref', 'pdf', 'landing_page')\n",
    "),\n",
    "\n",
    "crossref_best_authors_exploded AS (\n",
    "  SELECT\n",
    "    doi,\n",
    "    posexplode(authors) AS (original_author_order, best_author_list_exploded),\n",
    "    best_author_list_exploded.author_key AS author_key\n",
    "  FROM crossref_base\n",
    "  WHERE r = 1\n",
    "),\n",
    "\n",
    "crossref_affiliations_base AS (\n",
    "  SELECT\n",
    "    doi,\n",
    "    explode(authors) AS authors_exploded,\n",
    "    authors_exploded.affiliations AS affiliations,\n",
    "    authors_exploded.author_key AS author_key,\n",
    "    priority\n",
    "  FROM crossref_base\n",
    "  WHERE affiliations_exist\n",
    "),\n",
    "\n",
    "crossref_affiliations_staging AS (\n",
    "  SELECT\n",
    "    *,\n",
    "    explode(affiliations) AS exploded_affiliations,\n",
    "    RANK() OVER (PARTITION BY doi, author_key ORDER BY priority ASC) AS r\n",
    "  FROM crossref_affiliations_base\n",
    "  WHERE get(affiliations.name, 0) IS NOT NULL\n",
    "),\n",
    "\n",
    "crossref_affiliations AS (\n",
    "  SELECT\n",
    "    doi,\n",
    "    author_key,\n",
    "    collect_list(exploded_affiliations) AS affiliations\n",
    "  FROM crossref_affiliations_staging\n",
    "  WHERE r = 1\n",
    "  GROUP BY doi, author_key\n",
    "),\n",
    "\n",
    "crossref_is_corresponding_base AS (\n",
    "  SELECT\n",
    "    doi,\n",
    "    authors,\n",
    "    explode(filter(authors, x -> x.is_corresponding IS NOT NULL)) AS corresponding_author,\n",
    "    corresponding_author.author_key AS author_key,\n",
    "    corresponding_author.is_corresponding AS is_corresponding_landing_page\n",
    "  FROM crossref_base\n",
    "  WHERE is_corresponding_exists\n",
    "),\n",
    "\n",
    "crossref_is_corresponding AS (\n",
    "  SELECT\n",
    "    doi,\n",
    "    author_key,\n",
    "    is_corresponding_landing_page\n",
    "  FROM crossref_is_corresponding_base\n",
    "),\n",
    "\n",
    "crossref_authors_and_affiliations_base AS (\n",
    "  SELECT *\n",
    "  FROM crossref_best_authors_exploded\n",
    "    LEFT JOIN crossref_affiliations USING (doi, author_key)\n",
    "    LEFT JOIN crossref_is_corresponding USING (doi, author_key)\n",
    "),\n",
    "\n",
    "crossref_authors_and_affiliations_staging AS (\n",
    "  SELECT\n",
    "    doi,\n",
    "    STRUCT(\n",
    "      original_author_order,\n",
    "      best_author_list_exploded.given,\n",
    "      best_author_list_exploded.family,\n",
    "      best_author_list_exploded.name,\n",
    "      best_author_list_exploded.orcid,\n",
    "      affiliations,\n",
    "      is_corresponding_landing_page AS is_corresponding,\n",
    "      best_author_list_exploded.author_key\n",
    "    ) AS authorships\n",
    "  FROM crossref_authors_and_affiliations_base\n",
    ")\n",
    "\n",
    "SELECT\n",
    "  doi,\n",
    "  TRANSFORM(\n",
    "    ARRAY_SORT(\n",
    "      COLLECT_SET(authorships),\n",
    "      (left, right) -> CASE\n",
    "        WHEN left.original_author_order < right.original_author_order THEN -1\n",
    "        WHEN left.original_author_order > right.original_author_order THEN 1\n",
    "        ELSE 0\n",
    "      END\n",
    "    ),\n",
    "    x -> STRUCT(\n",
    "      TRIM(x.given) AS given,\n",
    "      TRIM(x.family) AS family,\n",
    "      TRIM(x.name) AS name,\n",
    "      x.orcid,\n",
    "      TRANSFORM(\n",
    "        x.affiliations,\n",
    "        y -> STRUCT(TRIM(y.name) AS name, y.department AS department, y.ror_id AS ror_id)\n",
    "      ) AS affiliations,\n",
    "      x.is_corresponding,\n",
    "      x.author_key\n",
    "    )\n",
    "  ) AS authorships\n",
    "FROM crossref_authors_and_affiliations_staging\n",
    "GROUP BY doi;\n"
   ]
  },
  {
   "cell_type": "code",
   "execution_count": 0,
   "metadata": {
    "application/vnd.databricks.v1+cell": {
     "cellMetadata": {
      "byteLimit": 2048000,
      "rowLimit": 10000
     },
     "inputWidgets": {},
     "nuid": "0299007f-1afa-4fce-bb6b-a4ac0d732b0d",
     "showTitle": false,
     "tableResultSettingsMap": {},
     "title": ""
    }
   },
   "outputs": [],
   "source": [
    "select * from openalex_dev.works.crossref_super_authorships"
   ]
  },
  {
   "cell_type": "code",
   "execution_count": 0,
   "metadata": {
    "application/vnd.databricks.v1+cell": {
     "cellMetadata": {},
     "inputWidgets": {},
     "nuid": "2cfc69fd-2e33-4788-ace8-aed5bc3d7b89",
     "showTitle": false,
     "tableResultSettingsMap": {},
     "title": ""
    }
   },
   "outputs": [],
   "source": []
  }
 ],
 "metadata": {
  "application/vnd.databricks.v1+notebook": {
   "computePreferences": null,
   "dashboards": [],
   "environmentMetadata": {
    "base_environment": "",
    "environment_version": "2"
   },
   "inputWidgetPreferences": null,
   "language": "sql",
   "notebookMetadata": {
    "pythonIndentUnit": 4
   },
   "notebookName": "CreateCrossrefSuperAuthorships",
   "widgets": {
    "env_suffix": {
     "currentValue": "",
     "nuid": "24f41d15-8740-4285-9a39-ffb70c6f0070",
     "typedWidgetInfo": {
      "autoCreated": false,
      "defaultValue": "",
      "label": "",
      "name": "env_suffix",
      "options": {
       "widgetDisplayType": "Text",
       "validationRegex": null
      },
      "parameterDataType": "String"
     },
     "widgetInfo": {
      "widgetType": "text",
      "defaultValue": "",
      "label": "",
      "name": "env_suffix",
      "options": {
       "widgetType": "text",
       "autoCreated": false,
       "validationRegex": null
      }
     }
    }
   }
  },
  "language_info": {
   "name": "sql"
  }
 },
 "nbformat": 4,
 "nbformat_minor": 0
}
