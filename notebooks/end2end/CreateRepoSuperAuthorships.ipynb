{
 "cells": [
  {
   "cell_type": "markdown",
   "metadata": {
    "application/vnd.databricks.v1+cell": {
     "cellMetadata": {
      "byteLimit": 2048000,
      "rowLimit": 10000
     },
     "inputWidgets": {},
     "nuid": "023cd18f-45c7-49d4-b9b4-05b66159313e",
     "showTitle": false,
     "tableResultSettingsMap": {},
     "title": ""
    }
   },
   "source": [
    "### Creates `openalex.works.repo_super_authorships` in Walden End to End workflow"
   ]
  },
  {
   "cell_type": "code",
   "execution_count": 0,
   "metadata": {
    "application/vnd.databricks.v1+cell": {
     "cellMetadata": {
      "byteLimit": 2048000,
      "rowLimit": 10000
     },
     "inputWidgets": {},
     "nuid": "d2698cbc-c273-4128-a92d-051fbb04de47",
     "showTitle": false,
     "tableResultSettingsMap": {},
     "title": ""
    }
   },
   "outputs": [],
   "source": [
    "CREATE OR REPLACE TABLE identifier('openalex' || :env_suffix || '.works.repo_super_authorships') AS\n",
    "WITH pmh_base AS (\n",
    "  SELECT\n",
    "    CASE\n",
    "      WHEN provenance IN ('repo', 'repo_backfill') THEN native_id\n",
    "      ELSE get(filter(ids, x -> x.namespace = \"pmh\").id, 0)\n",
    "    END AS pmh_id,\n",
    "    authors,\n",
    "    priority,\n",
    "    affiliations_exist,\n",
    "    is_corresponding_exists,\n",
    "    ROW_NUMBER() OVER (\n",
    "      PARTITION BY\n",
    "        CASE\n",
    "          WHEN provenance IN ('repo', 'repo_backfill') THEN native_id\n",
    "          ELSE get(filter(ids, x -> x.namespace = \"pmh\").id, 0)\n",
    "        END\n",
    "      ORDER BY priority ASC\n",
    "    ) AS r\n",
    "  FROM identifier('openalex' || :env_suffix || '.works.locations_parsed')\n",
    "    LEFT JOIN openalex.system.priority_table USING (provenance)\n",
    "  WHERE authors_exist\n",
    "    AND provenance IN ('repo', 'repo_backfill', 'pdf', 'landing_page')\n",
    "),\n",
    "\n",
    "pmh_best_authors_exploded AS (\n",
    "  SELECT\n",
    "    pmh_id,\n",
    "    posexplode(authors) AS (original_author_order, best_author_list_exploded),\n",
    "    best_author_list_exploded.author_key AS author_key\n",
    "  FROM pmh_base\n",
    "  WHERE r = 1\n",
    "),\n",
    "\n",
    "pmh_affiliations_base AS (\n",
    "  SELECT\n",
    "    pmh_id,\n",
    "    explode(authors) AS authors_exploded,\n",
    "    authors_exploded.affiliations AS affiliations,\n",
    "    authors_exploded.author_key AS author_key,\n",
    "    priority\n",
    "  FROM pmh_base\n",
    "  WHERE affiliations_exist\n",
    "),\n",
    "\n",
    "pmh_affiliations_staging AS (\n",
    "  SELECT\n",
    "    *,\n",
    "    explode(affiliations) AS exploded_affiliations,\n",
    "    RANK() OVER (PARTITION BY pmh_id, author_key ORDER BY priority ASC) AS r\n",
    "  FROM pmh_affiliations_base\n",
    "  WHERE get(affiliations.name, 0) IS NOT NULL\n",
    "),\n",
    "\n",
    "pmh_affiliations AS (\n",
    "  SELECT\n",
    "    pmh_id,\n",
    "    author_key,\n",
    "    collect_list(exploded_affiliations) AS affiliations\n",
    "  FROM pmh_affiliations_staging\n",
    "  WHERE r = 1\n",
    "  GROUP BY pmh_id, author_key\n",
    "),\n",
    "\n",
    "pmh_is_corresponding_base AS (\n",
    "  SELECT\n",
    "    pmh_id,\n",
    "    authors,\n",
    "    explode(filter(authors, x -> x.is_corresponding IS NOT NULL)) AS corresponding_author,\n",
    "    corresponding_author.author_key AS author_key,\n",
    "    corresponding_author.is_corresponding AS is_corresponding_landing_page\n",
    "  FROM pmh_base\n",
    "  WHERE is_corresponding_exists\n",
    "),\n",
    "\n",
    "pmh_is_corresponding AS (\n",
    "  SELECT\n",
    "    pmh_id,\n",
    "    author_key,\n",
    "    is_corresponding_landing_page\n",
    "  FROM pmh_is_corresponding_base\n",
    "),\n",
    "\n",
    "pmh_authors_and_affiliations_base AS (\n",
    "  SELECT *\n",
    "  FROM pmh_best_authors_exploded\n",
    "    LEFT JOIN pmh_affiliations USING (pmh_id, author_key)\n",
    "    LEFT JOIN pmh_is_corresponding USING (pmh_id, author_key)\n",
    "),\n",
    "\n",
    "pmh_authors_and_affiliations_staging AS (\n",
    "  SELECT\n",
    "    pmh_id,\n",
    "    STRUCT(\n",
    "      original_author_order,\n",
    "      best_author_list_exploded.given,\n",
    "      best_author_list_exploded.family,\n",
    "      best_author_list_exploded.name,\n",
    "      best_author_list_exploded.orcid,\n",
    "      affiliations,\n",
    "      is_corresponding_landing_page AS is_corresponding,\n",
    "      best_author_list_exploded.author_key\n",
    "    ) AS authorships\n",
    "  FROM pmh_authors_and_affiliations_base\n",
    ")\n",
    "\n",
    "SELECT\n",
    "  pmh_id,\n",
    "  TRANSFORM(\n",
    "    ARRAY_SORT(\n",
    "      COLLECT_SET(authorships),\n",
    "      (left, right) -> CASE\n",
    "        WHEN left.original_author_order < right.original_author_order THEN -1\n",
    "        WHEN left.original_author_order > right.original_author_order THEN 1\n",
    "        ELSE 0\n",
    "      END\n",
    "    ),\n",
    "    x -> STRUCT(\n",
    "      TRIM(x.given) AS given,\n",
    "      TRIM(x.family) AS family,\n",
    "      TRIM(x.name) AS name,\n",
    "      x.orcid,\n",
    "      TRANSFORM(\n",
    "        x.affiliations,\n",
    "        y -> STRUCT(TRIM(y.name) AS name, y.department, y.ror_id)\n",
    "      ) AS affiliations,\n",
    "      x.is_corresponding,\n",
    "      x.author_key\n",
    "    )\n",
    "  ) AS authorships\n",
    "FROM pmh_authors_and_affiliations_staging\n",
    "GROUP BY pmh_id;\n"
   ]
  },
  {
   "cell_type": "code",
   "execution_count": 0,
   "metadata": {
    "application/vnd.databricks.v1+cell": {
     "cellMetadata": {
      "byteLimit": 2048000,
      "rowLimit": 10000
     },
     "inputWidgets": {},
     "nuid": "d2fa7223-2bb5-4af9-9537-cedb0b6d8f18",
     "showTitle": false,
     "tableResultSettingsMap": {},
     "title": ""
    }
   },
   "outputs": [],
   "source": [
    "-- select * from repo_super_authorships \n",
    "select * from identifier('openalex' || :env_suffix || '.works.repo_super_authorships')"
   ]
  }
 ],
 "metadata": {
  "application/vnd.databricks.v1+notebook": {
   "computePreferences": null,
   "dashboards": [],
   "environmentMetadata": {
    "base_environment": "",
    "environment_version": "2"
   },
   "inputWidgetPreferences": null,
   "language": "sql",
   "notebookMetadata": {},
   "notebookName": "CreateRepoSuperAuthorships",
   "widgets": {
    "env_suffix": {
     "currentValue": "_dev",
     "nuid": "55152d7f-2949-48c7-a4ce-faaa3295d57d",
     "typedWidgetInfo": {
      "autoCreated": false,
      "defaultValue": "_dev",
      "label": "",
      "name": "env_suffix",
      "options": {
       "widgetDisplayType": "Text",
       "validationRegex": null
      },
      "parameterDataType": "String"
     },
     "widgetInfo": {
      "widgetType": "text",
      "defaultValue": "_dev",
      "label": "",
      "name": "env_suffix",
      "options": {
       "widgetType": "text",
       "autoCreated": false,
       "validationRegex": null
      }
     }
    }
   }
  },
  "language_info": {
   "name": "sql"
  }
 },
 "nbformat": 4,
 "nbformat_minor": 0
}
